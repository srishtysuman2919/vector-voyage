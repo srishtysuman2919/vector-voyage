{
 "cells": [
  {
   "cell_type": "code",
   "execution_count": 1,
   "metadata": {},
   "outputs": [],
   "source": [
    "import numpy as np"
   ]
  },
  {
   "cell_type": "markdown",
   "metadata": {},
   "source": [
    "    Scalar Quantization\n",
    "    In scalar quantization, each dimension of the dataset is treated independently. The maximum and minimum values are calculated for each dimension across the dataset. The range between the maximum and minimum values in each dimension is then divided into equal-sized bins. Each value in the dataset is mapped to one of these bins, effectively quantizing the data."
   ]
  },
  {
   "cell_type": "code",
   "execution_count": 2,
   "metadata": {},
   "outputs": [
    {
     "data": {
      "text/plain": [
       "array([[ 0.01417943, -1.07419574,  0.73582553, ..., -2.23617757,\n",
       "        -0.94531851, -0.26708104],\n",
       "       [-0.36355731,  1.52229872,  0.51995347, ...,  1.45036581,\n",
       "        -2.45654967, -0.48267998],\n",
       "       [ 0.89915134,  0.41277587,  0.73744063, ...,  0.73220523,\n",
       "         0.71921351,  2.02464959],\n",
       "       ...,\n",
       "       [-0.86690423,  0.96841778,  0.90647801, ..., -1.57835547,\n",
       "         0.87775433,  1.09781529],\n",
       "       [ 0.0194662 , -0.2007731 , -1.72313796, ...,  1.2409941 ,\n",
       "        -0.93675584,  0.23991717],\n",
       "       [ 0.59816484,  0.18695781, -0.95219869, ...,  1.38140028,\n",
       "         0.1313539 , -0.90429461]])"
      ]
     },
     "execution_count": 2,
     "metadata": {},
     "output_type": "execute_result"
    }
   ],
   "source": [
    "dataset = np.random.normal(size=(2000, 256))\n",
    "dataset"
   ]
  },
  {
   "cell_type": "code",
   "execution_count": 15,
   "metadata": {},
   "outputs": [
    {
     "data": {
      "text/plain": [
       "(2, 256)"
      ]
     },
     "execution_count": 15,
     "metadata": {},
     "output_type": "execute_result"
    }
   ],
   "source": [
    "# Calculate and store minimum and maximum across each dimension\n",
    "ranges = np.vstack((np.min(dataset, axis=0), np.max(dataset, axis=0)))\n",
    "ranges.shape"
   ]
  },
  {
   "cell_type": "code",
   "execution_count": 19,
   "metadata": {},
   "outputs": [
    {
     "data": {
      "text/plain": [
       "(256,)"
      ]
     },
     "execution_count": 19,
     "metadata": {},
     "output_type": "execute_result"
    }
   ],
   "source": [
    "# calculate each dimension's start value and step size. \n",
    "# The start value is the minimum value, and the step size is determined by the number of discrete bins in the integer type being used. \n",
    "# This example uses 8-bit unsigned integers (uint8), providing 256 bins.\n",
    "starts = ranges[0,:]\n",
    "steps = (ranges[1,:] - ranges[0,:]) / 255\n",
    "steps.shape"
   ]
  },
  {
   "cell_type": "code",
   "execution_count": 20,
   "metadata": {},
   "outputs": [],
   "source": [
    "# The quantized dataset is then calculated as follows:\n",
    "scalar_quantized_dataset = np.uint8((dataset - starts) / steps)"
   ]
  },
  {
   "cell_type": "code",
   "execution_count": 21,
   "metadata": {},
   "outputs": [],
   "source": [
    "# The overall scalar quantization process can be encapsulated in a function:\n",
    "def scalar_quantisation(dataset):\n",
    "    # Calculate and store minimum and maximum across each dimension\n",
    "    ranges = np.vstack((np.min(dataset, axis=0), np.max(dataset, axis=0)))\n",
    "    starts = ranges[0,:]\n",
    "    steps = (ranges[1,:] - starts) / 255\n",
    "    return np.uint8((dataset - starts) / steps)"
   ]
  },
  {
   "cell_type": "markdown",
   "metadata": {},
   "source": [
    "    Product Quantization\n",
    "    In scalar quantization, the data distribution in each dimension should ideally be considered to avoid loss of information. Product quantization can preserve more information by dividing each vector into sub-vectors and quantizing each sub-vector independently."
   ]
  },
  {
   "cell_type": "code",
   "execution_count": 22,
   "metadata": {},
   "outputs": [],
   "source": [
    "array = [ [ 8.2, 10.3, 290.1, 278.1, 310.3, 299.9, 308.7, 289.7, 300.1],\n",
    "\t\t\t\t[ 0.1, 7.3, 8.9, 9.7, 6.9, 9.55, 8.1, 8.5, 8.99] ]"
   ]
  },
  {
   "cell_type": "markdown",
   "metadata": {},
   "source": [
    "    product quantization involves the following steps:\n",
    "\n",
    "    1. Divide each vector in the dataset into m disjoint sub-vectors.\n",
    "    2. For each sub-vector, cluster the data into k centroids (using k-means, for example).\n",
    "    3. Replace each sub-vector with the index of the nearest centroid in the corresponding codebook."
   ]
  },
  {
   "cell_type": "code",
   "execution_count": 24,
   "metadata": {},
   "outputs": [
    {
     "name": "stderr",
     "output_type": "stream",
     "text": [
      "/Users/srishtysuman/anaconda3/envs/langchain/lib/python3.11/site-packages/sklearn/cluster/_kmeans.py:1416: FutureWarning: The default value of `n_init` will change from 10 to 'auto' in 1.4. Set the value of `n_init` explicitly to suppress the warning\n",
      "  super()._check_params_vs_input(X, default_n_init=10)\n"
     ]
    },
    {
     "data": {
      "text/plain": [
       "array([[0, 1, 1],\n",
       "       [0, 0, 0]], dtype=int32)"
      ]
     },
     "execution_count": 24,
     "metadata": {},
     "output_type": "execute_result"
    }
   ],
   "source": [
    "from sklearn.cluster import KMeans\n",
    "import numpy as np\n",
    "\n",
    "# Given array\n",
    "array = np.array([\n",
    "    [8.2, 10.3, 290.1, 278.1, 310.3, 299.9, 308.7, 289.7, 300.1],\n",
    "    [0.1, 7.3, 8.9, 9.7, 6.9, 9.55, 8.1, 8.5, 8.99]\n",
    "])\n",
    "\n",
    "# Number of subvectors and centroids\n",
    "m, k = 3, 2\n",
    "\n",
    "# Divide each vector into m disjoint sub-vectors\n",
    "subvectors = array.reshape(-1, m)\n",
    "\n",
    "# Perform k-means on each sub-vector independently\n",
    "kmeans = KMeans(n_clusters=k, random_state=0).fit(subvectors)\n",
    "\n",
    "# Replace each sub-vector with the index of the nearest centroid\n",
    "labels = kmeans.labels_\n",
    "\n",
    "# Reshape labels to match the shape of the original array\n",
    "quantized_array = labels.reshape(array.shape[0], -1)\n",
    "\n",
    "# Output the quantized array\n",
    "quantized_array"
   ]
  },
  {
   "cell_type": "code",
   "execution_count": null,
   "metadata": {},
   "outputs": [],
   "source": []
  }
 ],
 "metadata": {
  "kernelspec": {
   "display_name": "langchain",
   "language": "python",
   "name": "python3"
  },
  "language_info": {
   "codemirror_mode": {
    "name": "ipython",
    "version": 3
   },
   "file_extension": ".py",
   "mimetype": "text/x-python",
   "name": "python",
   "nbconvert_exporter": "python",
   "pygments_lexer": "ipython3",
   "version": "3.11.0"
  }
 },
 "nbformat": 4,
 "nbformat_minor": 2
}
