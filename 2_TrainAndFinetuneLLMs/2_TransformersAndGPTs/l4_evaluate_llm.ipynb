{
 "cells": [
  {
   "cell_type": "code",
   "execution_count": 2,
   "metadata": {},
   "outputs": [
    {
     "name": "stdout",
     "output_type": "stream",
     "text": [
      "2.1485556947850033\n"
     ]
    }
   ],
   "source": [
    "import numpy as np\n",
    "\n",
    "probabilities = np.array([0.4, 0.27, 0.55, 0.79])\n",
    "sentence_probability = probabilities.prod()\n",
    "sentence_probability_normalized = sentence_probability ** (1 / len(probabilities))\n",
    "perplexity = 1 / sentence_probability_normalized\n",
    "print(perplexity) # 2.1485556947850033"
   ]
  },
  {
   "cell_type": "code",
   "execution_count": 3,
   "metadata": {},
   "outputs": [
    {
     "name": "stdout",
     "output_type": "stream",
     "text": [
      "1.516647134682679\n"
     ]
    }
   ],
   "source": [
    "probabilities = np.array([0.7, 0.5, 0.6, 0.9])\n",
    "sentence_probability = probabilities.prod()\n",
    "sentence_probability_normalized = sentence_probability ** (1 / len(probabilities))\n",
    "perplexity = 1 / sentence_probability_normalized\n",
    "print(perplexity) # 1.516647134682679 -> lower"
   ]
  },
  {
   "cell_type": "code",
   "execution_count": null,
   "metadata": {},
   "outputs": [],
   "source": []
  }
 ],
 "metadata": {
  "kernelspec": {
   "display_name": "langchain",
   "language": "python",
   "name": "python3"
  },
  "language_info": {
   "codemirror_mode": {
    "name": "ipython",
    "version": 3
   },
   "file_extension": ".py",
   "mimetype": "text/x-python",
   "name": "python",
   "nbconvert_exporter": "python",
   "pygments_lexer": "ipython3",
   "version": "3.11.0"
  }
 },
 "nbformat": 4,
 "nbformat_minor": 2
}
