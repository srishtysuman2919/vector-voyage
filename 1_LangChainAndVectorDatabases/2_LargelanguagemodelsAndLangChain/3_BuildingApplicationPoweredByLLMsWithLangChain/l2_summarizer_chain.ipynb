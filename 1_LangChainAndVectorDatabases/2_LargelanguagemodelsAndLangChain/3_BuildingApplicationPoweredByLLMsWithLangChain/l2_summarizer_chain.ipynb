{
 "cells": [
  {
   "cell_type": "code",
   "execution_count": 6,
   "metadata": {},
   "outputs": [
    {
     "data": {
      "text/plain": [
       "True"
      ]
     },
     "execution_count": 6,
     "metadata": {},
     "output_type": "execute_result"
    }
   ],
   "source": [
    "from dotenv import load_dotenv\n",
    "load_dotenv('/Users/srishtysuman/.env')"
   ]
  },
  {
   "cell_type": "code",
   "execution_count": 7,
   "metadata": {},
   "outputs": [],
   "source": [
    "'''\n",
    "    When creating a summarization chain, LangChain enables interaction with an external data source to fetch data for use in the generation step. \n",
    "    This could involve summarizing a lengthy piece of text or answering questions using specific data sources.\n",
    "'''\n",
    "\n",
    "# The following code will initialize the language model using OpenAI class with a temperature of 0 - because we want deterministic output.  \n",
    "# The load_summarize_chain function accepts an instance of the language model and returns a pre-built summarization chain. \n",
    "# Lastly, the PyPDFLoader class is responsible for loading PDF files and converting them into a format suitable for processing by LangChain. \n",
    "\n",
    "\n",
    "from langchain.llms import OpenAI\n",
    "from langchain.document_loaders import PyPDFLoader\n",
    "from langchain.chains.summarize import load_summarize_chain\n"
   ]
  },
  {
   "cell_type": "code",
   "execution_count": 8,
   "metadata": {},
   "outputs": [],
   "source": [
    "# Initialize language model\n",
    "llm = OpenAI(model_name=\"gpt-3.5-turbo-instruct\", temperature=0)\n"
   ]
  },
  {
   "cell_type": "code",
   "execution_count": 9,
   "metadata": {},
   "outputs": [],
   "source": [
    "# Load the summarization chain\n",
    "summarize_chain = load_summarize_chain(llm)\n"
   ]
  },
  {
   "cell_type": "code",
   "execution_count": 10,
   "metadata": {},
   "outputs": [],
   "source": [
    "# Load the document using PyPDFLoader\n",
    "document_loader = PyPDFLoader(file_path=\"/Users/srishtysuman/Downloads/Resume_Srishty_Suman_Data_Scientist2_Sharechat.pdf\")\n",
    "document = document_loader.load()"
   ]
  },
  {
   "cell_type": "code",
   "execution_count": 11,
   "metadata": {},
   "outputs": [
    {
     "name": "stdout",
     "output_type": "stream",
     "text": [
      "\n",
      "Srishty Suman is an IISc graduate with 3 years of experience in Applied AI, particularly in Large Scale Recommender Systems. She is also interested in Natural Language Processing and Reinforcement Learning. She has worked at ShareChat as a Data Scientist, improving metrics and implementing ML-based strategies. During her Master's, she worked on various machine learning and deep learning projects. She has skills in Python, Go, C++, C, SQL, and various tools such as TensorFlow and PyTorch. She holds a Master's degree in Computer Science and a Bachelor's degree in Computer Science. She has received honors and achievements for her exceptional performance and academic achievements. \n"
     ]
    }
   ],
   "source": [
    "# Summarize the document\n",
    "summary = summarize_chain(document)\n",
    "print(summary['output_text'])\n",
    "\n",
    "# In this example, the code uses the default summarization chain provided by the load_summarize_chain function. \n",
    "# However, you can customize the summarization process by providing prompt templates.\n",
    "\n",
    "# Let’s recap:  OpenAI is initialized with a temperature of 0 for focused and deterministic language model generation. \n",
    "# The load_summarize_chain function loads a summarization chain, and PyPDFLoader fetches PDF data, which is loaded as a string input for the summarization chain, \n",
    "# generating a summary of the text.\n",
    "\n"
   ]
  },
  {
   "cell_type": "code",
   "execution_count": null,
   "metadata": {},
   "outputs": [],
   "source": []
  }
 ],
 "metadata": {
  "kernelspec": {
   "display_name": "langchain",
   "language": "python",
   "name": "python3"
  },
  "language_info": {
   "codemirror_mode": {
    "name": "ipython",
    "version": 3
   },
   "file_extension": ".py",
   "mimetype": "text/x-python",
   "name": "python",
   "nbconvert_exporter": "python",
   "pygments_lexer": "ipython3",
   "version": "3.11.0"
  }
 },
 "nbformat": 4,
 "nbformat_minor": 2
}
