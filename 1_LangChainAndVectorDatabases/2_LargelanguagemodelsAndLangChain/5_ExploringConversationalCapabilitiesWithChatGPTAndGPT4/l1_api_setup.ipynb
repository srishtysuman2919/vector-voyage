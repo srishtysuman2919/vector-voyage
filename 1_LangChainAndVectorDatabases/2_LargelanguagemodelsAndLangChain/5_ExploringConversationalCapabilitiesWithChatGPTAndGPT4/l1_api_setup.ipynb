{
 "cells": [
  {
   "cell_type": "code",
   "execution_count": 1,
   "metadata": {},
   "outputs": [],
   "source": [
    "'''\n",
    "    OpenAI's GPT-4 represents a significant advancement in the field of large language models. \n",
    "    Among its many improvements are enhanced creativity, the ability to process visual input, and an extended contextual understanding. \n",
    "    In the realm of conversational AI, both GPT-4 and ChatGPT use the Transformers architecture at their core and are fine-tuned to hold natural dialogue with a user. \n",
    "    While the free version of ChatGPT relies on GPT-3, the premium offering, ChatGPT Plus, gives access to the more advanced GPT-4 model.\n",
    "\n",
    "    The benefits of employing ChatGPT and GPT-4 in chat format are numerous. \n",
    "    For instance, GPT-4's short-term memory capacity of 64,000 words greatly surpasses GPT-3.5's 8,000-word limit, \n",
    "    enabling it to maintain context more effectively in prolonged conversations. \n",
    "    Furthermore, GPT-4 is highly multilingual, accurately handling up to 26 languages, and boasts improved steering capabilities, \n",
    "    allowing users to tailor responses with a custom \"personality.\"\n",
    "\n",
    "    The new model is considerably safer to use, boasting a 40% increase in factual responses and an 82% reduction in disallowed content responses. \n",
    "    It can also interpret images as a foundation for interaction. \n",
    "    While this functionality has not yet been incorporated into ChatGPT, its potential to revolutionize context-aware chat applications is immense.\n",
    "'''\n",
    "\n",
    "\n",
    "\n",
    "# The following example demonstrates how to create a chatbot using the GPT-4 model from OpenAI. \n",
    "# After importing the necessary classes, we declare a set of messages. \n",
    "# It starts by setting the context for the model (SystemMessage) that it is an assistant, \n",
    "# followed by the user’s query (HumanMessage), \n",
    "# and finishes by defining a sample response from the AI model (AIMessage). \n",
    "\n",
    "from langchain.schema import (SystemMessage, HumanMessage, AIMessage)\n",
    "from langchain.chat_models import ChatOpenAI\n"
   ]
  },
  {
   "cell_type": "code",
   "execution_count": 2,
   "metadata": {},
   "outputs": [],
   "source": [
    "messages = [\n",
    "    SystemMessage(content=\"You are a helpful assistant.\"),\n",
    "    HumanMessage(content=\"What is the capital of France?\"),\n",
    "    AIMessage(content=\"The capital of France is Paris.\")\n",
    "]"
   ]
  },
  {
   "cell_type": "code",
   "execution_count": 3,
   "metadata": {},
   "outputs": [],
   "source": [
    "# Next up, we test if the model can leverage these discussions as a reference to delve further into details about the city \n",
    "# without us explicitly mentioning the name (referring to Paris). \n",
    "# The code below adds a new message which requires the model to understand and find the “city you just mentioned” reference from previous conversations.\n",
    "prompt = HumanMessage(\n",
    "    content=\"I'd like to know more about the city you just mentioned.\"\n",
    ")\n",
    "# add to messages\n",
    "messages.append(prompt)"
   ]
  },
  {
   "cell_type": "code",
   "execution_count": 5,
   "metadata": {},
   "outputs": [
    {
     "data": {
      "text/plain": [
       "\"\\n    To recap, the ChatOpenAI class is used to create a chat-based application that can handle user inputs and generate responses using the GPT-4 language model. \\n    The conversation is initiated with a series of messages, including system, human, and AI messages. \\n    The SystemMessage provides context for the conversation, while HumanMessage and AIMessage represent the user and the AI's messages, respectively.\\n\\n    The LangChain’s Chat API offers several advantages:\\n    1. Context preservation: By maintaining a list of messages in the conversation, the API ensures that the context is preserved throughout the interaction. \\n                             This allows the GPT-4 model to generate relevant and coherent responses based on the provided information.\\n    2. Memory: The class’s message history acts as a short-term memory for the chatbot, allowing it to refer back to previous messages and provide more accurate and \\n               contextual responses.\\n    3. Modularity: The combination of MessageTemplate and ChatOpenAI classes offers a modular approach to designing conversation applications.\\n                   This makes it easier to develop, maintain, and extend the functionality of the chatbot.\\n    4. Improved performance: GPT-4, as an advanced language model, is more adept at understanding complex prompts and generating better responses than its predecessors. \\n                             It can handle tasks that require deeper reasoning and context awareness, which leads to a more engaging and useful conversation experience.\\n    5. Flexibility: The Chat API can be adapted to different domains and tasks, making it a versatile solution for various chatbot applications. \\n                    In this example, the chatbot specializes in French culture but could be easily modified to focus on other subjects or industries. \\n                    Moreover, as newer and more powerful language models become available, the API can be updated to utilize those models, \\n                    allowing for continuous improvements in chatbot capabilities.\\n\""
      ]
     },
     "execution_count": 5,
     "metadata": {},
     "output_type": "execute_result"
    }
   ],
   "source": [
    "llm = ChatOpenAI(model_name=\"gpt-3.5-turbo\")\n",
    "\n",
    "response = llm(messages)\n",
    "\n",
    "#  The model successfully extracted the information from previous conversations and explained more details about Paris. \n",
    "# It shows that the chat models are capable of referring to the chat history and understanding the context.\n",
    "\n",
    "'''\n",
    "    To recap, the ChatOpenAI class is used to create a chat-based application that can handle user inputs and generate responses using the GPT-4 language model. \n",
    "    The conversation is initiated with a series of messages, including system, human, and AI messages. \n",
    "    The SystemMessage provides context for the conversation, while HumanMessage and AIMessage represent the user and the AI's messages, respectively.\n",
    "\n",
    "    The LangChain’s Chat API offers several advantages:\n",
    "    1. Context preservation: By maintaining a list of messages in the conversation, the API ensures that the context is preserved throughout the interaction. \n",
    "                             This allows the GPT-4 model to generate relevant and coherent responses based on the provided information.\n",
    "    2. Memory: The class’s message history acts as a short-term memory for the chatbot, allowing it to refer back to previous messages and provide more accurate and \n",
    "               contextual responses.\n",
    "    3. Modularity: The combination of MessageTemplate and ChatOpenAI classes offers a modular approach to designing conversation applications.\n",
    "                   This makes it easier to develop, maintain, and extend the functionality of the chatbot.\n",
    "    4. Improved performance: GPT-4, as an advanced language model, is more adept at understanding complex prompts and generating better responses than its predecessors. \n",
    "                             It can handle tasks that require deeper reasoning and context awareness, which leads to a more engaging and useful conversation experience.\n",
    "    5. Flexibility: The Chat API can be adapted to different domains and tasks, making it a versatile solution for various chatbot applications. \n",
    "                    In this example, the chatbot specializes in French culture but could be easily modified to focus on other subjects or industries. \n",
    "                    Moreover, as newer and more powerful language models become available, the API can be updated to utilize those models, \n",
    "                    allowing for continuous improvements in chatbot capabilities.\n",
    "'''\n"
   ]
  },
  {
   "cell_type": "code",
   "execution_count": null,
   "metadata": {},
   "outputs": [],
   "source": []
  }
 ],
 "metadata": {
  "kernelspec": {
   "display_name": "langchain",
   "language": "python",
   "name": "python3"
  },
  "language_info": {
   "codemirror_mode": {
    "name": "ipython",
    "version": 3
   },
   "file_extension": ".py",
   "mimetype": "text/x-python",
   "name": "python",
   "nbconvert_exporter": "python",
   "pygments_lexer": "ipython3",
   "version": "3.11.0"
  }
 },
 "nbformat": 4,
 "nbformat_minor": 2
}
