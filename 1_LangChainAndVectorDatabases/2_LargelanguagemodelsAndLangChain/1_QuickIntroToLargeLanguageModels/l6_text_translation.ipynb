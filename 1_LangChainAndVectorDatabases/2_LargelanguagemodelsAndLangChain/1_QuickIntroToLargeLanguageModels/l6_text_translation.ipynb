{
 "cells": [
  {
   "cell_type": "code",
   "execution_count": 2,
   "metadata": {},
   "outputs": [
    {
     "data": {
      "text/plain": [
       "True"
      ]
     },
     "execution_count": 2,
     "metadata": {},
     "output_type": "execute_result"
    }
   ],
   "source": [
    "from dotenv import load_dotenv\n",
    "load_dotenv('/Users/srishtysuman/.env')"
   ]
  },
  {
   "cell_type": "code",
   "execution_count": 1,
   "metadata": {},
   "outputs": [],
   "source": [
    "'''\n",
    "    It is one of the great attributes of Large Language models that enables them to perform multiple tasks just by changing the prompt. \n",
    "    We use the same llmCopy variable as defined before. \n",
    "    However, pass a different prompt that asks for translating the query from a source_languageCopy to the target_languageCopy.\n",
    "'''\n",
    "\n",
    "from langchain import PromptTemplate\n",
    "from langchain import LLMChain\n",
    "from langchain.llms import OpenAI\n",
    "\n"
   ]
  },
  {
   "cell_type": "code",
   "execution_count": 3,
   "metadata": {},
   "outputs": [
    {
     "data": {
      "text/plain": [
       "'\\n\\nhé, traduisez cette langue.'"
      ]
     },
     "execution_count": 3,
     "metadata": {},
     "output_type": "execute_result"
    }
   ],
   "source": [
    "\n",
    "llm=OpenAI(model=\"gpt-3.5-turbo-instruct\", temperature=0.9)\n",
    "\n",
    "translation_template = \"Translate the following text from {source_language} to {target_language}: {text}\"\n",
    "\n",
    "translation_prompt = PromptTemplate(\n",
    "    input_variables=[\"source_language\", \"target_language\", \"text\"], \n",
    "    template=translation_template\n",
    "    )\n",
    "\n",
    "translation_chain = LLMChain(llm=llm, prompt=translation_prompt)\n",
    "\n",
    "# To use the translation chain, call the predictCopy method with the source language, target language, and text to be translated:\n",
    "\n",
    "source_language = \"English\"\n",
    "target_language = \"French\"\n",
    "text = \"hey translate this language\"\n",
    "translated_text = translation_chain.predict(source_language=source_language, target_language=target_language, text=text)\n",
    "\n",
    "translated_text"
   ]
  },
  {
   "cell_type": "code",
   "execution_count": null,
   "metadata": {},
   "outputs": [],
   "source": []
  }
 ],
 "metadata": {
  "kernelspec": {
   "display_name": "langchain",
   "language": "python",
   "name": "python3"
  },
  "language_info": {
   "codemirror_mode": {
    "name": "ipython",
    "version": 3
   },
   "file_extension": ".py",
   "mimetype": "text/x-python",
   "name": "python",
   "nbconvert_exporter": "python",
   "pygments_lexer": "ipython3",
   "version": "3.11.0"
  }
 },
 "nbformat": 4,
 "nbformat_minor": 2
}
