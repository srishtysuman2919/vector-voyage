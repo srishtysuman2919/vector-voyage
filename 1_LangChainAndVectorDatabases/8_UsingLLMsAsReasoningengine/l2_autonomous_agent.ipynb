{
 "cells": [
  {
   "cell_type": "code",
   "execution_count": 12,
   "metadata": {},
   "outputs": [
    {
     "name": "stdout",
     "output_type": "stream",
     "text": [
      "Requirement already satisfied: langchain-core in /Users/srishtysuman/anaconda3/envs/langchain/lib/python3.11/site-packages (0.1.21)\n",
      "Requirement already satisfied: PyYAML>=5.3 in /Users/srishtysuman/anaconda3/envs/langchain/lib/python3.11/site-packages (from langchain-core) (6.0.1)\n",
      "Requirement already satisfied: anyio<5,>=3 in /Users/srishtysuman/anaconda3/envs/langchain/lib/python3.11/site-packages (from langchain-core) (3.7.1)\n",
      "Requirement already satisfied: jsonpatch<2.0,>=1.33 in /Users/srishtysuman/anaconda3/envs/langchain/lib/python3.11/site-packages (from langchain-core) (1.33)\n",
      "Requirement already satisfied: langsmith<0.0.88,>=0.0.87 in /Users/srishtysuman/anaconda3/envs/langchain/lib/python3.11/site-packages (from langchain-core) (0.0.87)\n",
      "Requirement already satisfied: packaging<24.0,>=23.2 in /Users/srishtysuman/anaconda3/envs/langchain/lib/python3.11/site-packages (from langchain-core) (23.2)\n",
      "Requirement already satisfied: pydantic<3,>=1 in /Users/srishtysuman/anaconda3/envs/langchain/lib/python3.11/site-packages (from langchain-core) (1.10.13)\n",
      "Requirement already satisfied: requests<3,>=2 in /Users/srishtysuman/anaconda3/envs/langchain/lib/python3.11/site-packages (from langchain-core) (2.31.0)\n",
      "Requirement already satisfied: tenacity<9.0.0,>=8.1.0 in /Users/srishtysuman/anaconda3/envs/langchain/lib/python3.11/site-packages (from langchain-core) (8.2.3)\n",
      "Requirement already satisfied: idna>=2.8 in /Users/srishtysuman/anaconda3/envs/langchain/lib/python3.11/site-packages (from anyio<5,>=3->langchain-core) (3.6)\n",
      "Requirement already satisfied: sniffio>=1.1 in /Users/srishtysuman/anaconda3/envs/langchain/lib/python3.11/site-packages (from anyio<5,>=3->langchain-core) (1.3.0)\n",
      "Requirement already satisfied: jsonpointer>=1.9 in /Users/srishtysuman/anaconda3/envs/langchain/lib/python3.11/site-packages (from jsonpatch<2.0,>=1.33->langchain-core) (2.4)\n",
      "Requirement already satisfied: typing-extensions>=4.2.0 in /Users/srishtysuman/anaconda3/envs/langchain/lib/python3.11/site-packages (from pydantic<3,>=1->langchain-core) (4.9.0)\n",
      "Requirement already satisfied: charset-normalizer<4,>=2 in /Users/srishtysuman/anaconda3/envs/langchain/lib/python3.11/site-packages (from requests<3,>=2->langchain-core) (3.3.2)\n",
      "Requirement already satisfied: urllib3<3,>=1.21.1 in /Users/srishtysuman/anaconda3/envs/langchain/lib/python3.11/site-packages (from requests<3,>=2->langchain-core) (2.0.7)\n",
      "Requirement already satisfied: certifi>=2017.4.17 in /Users/srishtysuman/anaconda3/envs/langchain/lib/python3.11/site-packages (from requests<3,>=2->langchain-core) (2023.11.17)\n"
     ]
    }
   ],
   "source": [
    "# ! pip install --upgrade langchain-core"
   ]
  },
  {
   "cell_type": "code",
   "execution_count": 1,
   "metadata": {},
   "outputs": [],
   "source": [
    "from langchain.embeddings import OpenAIEmbeddings\n",
    "from langchain.vectorstores import FAISS\n",
    "from langchain.docstore import InMemoryDocstore\n",
    "import faiss\n",
    "from langchain import OpenAI\n",
    "from langchain_experimental.autonomous_agents.baby_agi.baby_agi import BabyAGI"
   ]
  },
  {
   "cell_type": "code",
   "execution_count": 2,
   "metadata": {},
   "outputs": [
    {
     "name": "stderr",
     "output_type": "stream",
     "text": [
      "/Users/srishtysuman/anaconda3/envs/langchain/lib/python3.11/site-packages/langchain_core/_api/deprecation.py:117: LangChainDeprecationWarning: The class `langchain_community.embeddings.openai.OpenAIEmbeddings` was deprecated in langchain-community 0.1.0 and will be removed in 0.2.0. An updated version of the class exists in the langchain-openai package and should be used instead. To use it run `pip install -U langchain-openai` and import as `from langchain_openai import OpenAIEmbeddings`.\n",
      "  warn_deprecated(\n"
     ]
    }
   ],
   "source": [
    "# Define the embedding model\n",
    "embeddings_model = OpenAIEmbeddings(model=\"text-embedding-ada-002\")"
   ]
  },
  {
   "cell_type": "code",
   "execution_count": 3,
   "metadata": {},
   "outputs": [
    {
     "name": "stderr",
     "output_type": "stream",
     "text": [
      "`embedding_function` is expected to be an Embeddings object, support for passing in a function will soon be removed.\n"
     ]
    }
   ],
   "source": [
    "# Initialize the vectorstore\n",
    "embedding_size = 1536\n",
    "index = faiss.IndexFlatL2(embedding_size)\n",
    "vectorstore = FAISS(embeddings_model.embed_query, index, InMemoryDocstore({}), {})"
   ]
  },
  {
   "cell_type": "code",
   "execution_count": 5,
   "metadata": {},
   "outputs": [
    {
     "name": "stdout",
     "output_type": "stream",
     "text": [
      "\u001b[95m\u001b[1m\n",
      "*****TASK LIST*****\n",
      "\u001b[0m\u001b[0m\n",
      "1: Make a todo list\n",
      "\u001b[92m\u001b[1m\n",
      "*****NEXT TASK*****\n",
      "\u001b[0m\u001b[0m\n",
      "1: Make a todo list\n",
      "\u001b[93m\u001b[1m\n",
      "*****TASK RESULT*****\n",
      "\u001b[0m\u001b[0m\n",
      "\n",
      "1. Research transportation options to the Grand Canyon (flight, train, car rental)\n",
      "2. Determine the best time of year to visit based on weather and crowds\n",
      "3. Book accommodations (hotel, campground, Airbnb)\n",
      "4. Create a budget for the trip (including transportation, accommodations, food, and activities)\n",
      "5. Plan out daily activities and attractions to visit at the Grand Canyon (hiking trails, viewpoints, tours)\n",
      "6. Make reservations for any necessary activities or tours\n",
      "7. Pack appropriate clothing and gear for the trip (hiking shoes, sunscreen, water bottle)\n",
      "8. Plan out meals and make reservations at restaurants or purchase groceries for cooking\n",
      "9. Research and plan for any additional side trips or activities in the surrounding area\n",
      "10. Create a detailed itinerary for the trip, including travel days and activities for each day.\n",
      "\u001b[95m\u001b[1m\n",
      "*****TASK LIST*****\n",
      "\u001b[0m\u001b[0m\n",
      "1: Determine the best time of year to visit the Grand Canyon based on weather and crowds.\n",
      "2: Research different flight options to the Grand Canyon and compare prices and schedules.\n",
      "3: Look into train routes and schedules to the Grand Canyon and compare with flight options.\n",
      "4: Research car rental companies and compare prices and availability for a trip to the Grand Canyon.\n",
      "5: Look into different hotel options near the Grand Canyon and compare prices and amenities.\n",
      "6: Research campgrounds near the Grand Canyon and compare prices and availability.\n",
      "7: Explore Airbnb options near the Grand Canyon and compare prices and amenities.\n",
      "8: Create a budget for the trip, including transportation, accommodations, food, and activities.\n",
      "9: Plan out daily activities and attractions to visit at the Grand Canyon, including hiking trails, viewpoints, and tours.\n",
      "10: Make reservations for any necessary activities or tours at the Grand Canyon.\n",
      "11: Pack appropriate clothing and gear for the trip, such as hiking shoes, sunscreen, and a water bottle.\n",
      "12: Plan out meals for the trip and make reservations at restaurants or purchase groceries for cooking.\n",
      "13: Research and plan for any additional side trips or activities in the surrounding area of the Grand Canyon.\n",
      "14: Create a detailed itinerary for the trip, including travel days and activities\n",
      "\u001b[92m\u001b[1m\n",
      "*****NEXT TASK*****\n",
      "\u001b[0m\u001b[0m\n",
      "1: Determine the best time of year to visit the Grand Canyon based on weather and crowds.\n",
      "\u001b[93m\u001b[1m\n",
      "*****TASK RESULT*****\n",
      "\u001b[0m\u001b[0m\n",
      "\n",
      "\n",
      "After analyzing weather and crowd data, I have determined that the best time of year to visit the Grand Canyon is during the months of September and October. During this time, the weather is mild and comfortable, with average temperatures ranging from 60-80 degrees Fahrenheit. Additionally, the crowds are significantly smaller compared to the peak summer months, allowing for a more enjoyable and less crowded experience. I recommend adding this information to your todo list for planning your trip to the Grand Canyon.\n",
      "\u001b[95m\u001b[1m\n",
      "*****TASK LIST*****\n",
      "\u001b[0m\u001b[0m\n",
      "1: Research and book flights to the Grand Canyon for September or October.\n",
      "2: Look into train routes and schedules to the Grand Canyon and compare with flight options.\n",
      "3: Research and book a rental car for the trip to the Grand Canyon.\n",
      "4: Research and book a hotel near the Grand Canyon for the trip.\n",
      "5: Research and book a campground near the Grand Canyon for the trip.\n",
      "6: Explore Airbnb options near the Grand Canyon and compare prices and amenities.\n",
      "7: Create a budget for the trip, including transportation, accommodations, food, and activities.\n",
      "8: Plan out daily activities and attractions to visit at the Grand Canyon, including hiking trails, viewpoints, and tours.\n",
      "9: Make reservations for any necessary activities or tours at the Grand Canyon.\n",
      "10: Pack appropriate clothing and gear for the trip, such as hiking shoes, sunscreen, and a water bottle.\n",
      "11: Plan out meals for the trip and make reservations at restaurants or purchase groceries for cooking.\n",
      "12: Research and plan for any additional side trips or activities in the surrounding area of the Grand Canyon.\n",
      "13: Create a detailed itinerary for the trip, including travel days and activities.\n",
      "\u001b[92m\u001b[1m\n",
      "*****NEXT TASK*****\n",
      "\u001b[0m\u001b[0m\n",
      "1: Research and book flights to the Grand Canyon for September or October.\n",
      "\u001b[93m\u001b[1m\n",
      "*****TASK RESULT*****\n",
      "\u001b[0m\u001b[0m\n",
      "\n",
      "\n",
      "Based on the previously completed task of determining the best time of year to visit the Grand Canyon, I have researched and found that September and October are the ideal months to visit due to the pleasant weather and lower crowds. Therefore, I suggest booking flights for September or October to ensure the best experience at the Grand Canyon. I can assist with researching and booking flights for you. Would you like me to proceed with this task?\n",
      "\u001b[91m\u001b[1m\n",
      "*****TASK ENDING*****\n",
      "\u001b[0m\u001b[0m\n"
     ]
    }
   ],
   "source": [
    "# set the goal\n",
    "goal = \"Plan a trip to the Grand Canyon\"\n",
    "\n",
    "# create thebabyagi agent\n",
    "# If max_iterations is None, the agent may go on forever if stuck in loops\n",
    "baby_agi = BabyAGI.from_llm(\n",
    "    llm=OpenAI(model=\"gpt-3.5-turbo-instruct\", temperature=0),\n",
    "    vectorstore=vectorstore,\n",
    "    verbose=False,\n",
    "    max_iterations=3\n",
    ")\n",
    "response = baby_agi({\"objective\": goal})"
   ]
  },
  {
   "cell_type": "code",
   "execution_count": null,
   "metadata": {},
   "outputs": [],
   "source": []
  }
 ],
 "metadata": {
  "kernelspec": {
   "display_name": "langchain",
   "language": "python",
   "name": "python3"
  },
  "language_info": {
   "codemirror_mode": {
    "name": "ipython",
    "version": 3
   },
   "file_extension": ".py",
   "mimetype": "text/x-python",
   "name": "python",
   "nbconvert_exporter": "python",
   "pygments_lexer": "ipython3",
   "version": "3.11.0"
  }
 },
 "nbformat": 4,
 "nbformat_minor": 2
}
