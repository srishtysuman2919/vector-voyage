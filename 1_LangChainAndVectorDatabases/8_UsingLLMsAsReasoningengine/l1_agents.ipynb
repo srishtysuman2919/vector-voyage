{
 "cells": [
  {
   "cell_type": "code",
   "execution_count": 6,
   "metadata": {},
   "outputs": [],
   "source": [
    "'''\n",
    "Agents - employing a language model as a reasoning mechanism and linking it with the key element - a tool.\n",
    "\n",
    "two primary modes of operation to consider when employing an LLM: as content generators and as reasoning engines.\n",
    "When used as a \"content generator\": the language model is asked to create content entirely from its internal knowledge base. This approach can lead to highly creative outputs but can also result in unverified information or 'hallucinations' due to the model's reliance on pre-trained knowledge.\n",
    "When functioning as a \"reasoning engine\": the Agent acts more as an information manager rather than a creator, using tools as well, and planning the next actions to take\n",
    "\n",
    "\n",
    "Tool: A tool's interface is typically a function that takes a string as an input and returns a string as an output. Eg; Google Search, a Database lookup, a Python REPL, or other chains. \n",
    "Language Learning Model: The language model that powers the agent.\n",
    "Agent: They evaluate the situation and decide on the appropriate tools to use, if necessary.\n",
    "    \"Action Agents\": These agents determine and execute a single action; suitable for smaller tasks,\n",
    "    \"Plan-and-Execute Agents\": These agents first devise a plan comprising multiple actions and then execute each action sequentially;  help maintain long-term objectives and focus. \n",
    "\n",
    "high-level workflow of Action Agents would look something like this:\n",
    "    The agent receives user input.\n",
    "    It decides which tool to use (if any) and determines its input.\n",
    "    The chosen tool is called with the provided input, and an observation (the output of the tool) is recorded.\n",
    "    The history of the tool, tool input, and observation are relayed back to the agent, which then decides the next step.\n",
    "    This process is repeated until the agent no longer needs to use a tool, at which point it directly responds to the user.\n",
    "\n",
    "Tools are instrumental in connecting the language model with other sources of data or computation, including search engines, APIs, and other data repositories. \n",
    "Language models can only access the knowledge they've been trained on, which can quickly become obsolete. \n",
    "Therefore, tools are essential as they allow the agent to retrieve and incorporate current data into the prompt as context. \n",
    "Tools can also execute actions (like running code or modifying files) and observe the results, subsequently informing the language model's decision-making process.\n",
    "\n",
    "\n",
    "\n",
    "'''\n",
    "\n",
    "\n",
    "# Importing necessary modules\n",
    "from langchain.agents import load_tools, initialize_agent\n",
    "from langchain.agents import AgentType\n",
    "from langchain.llms import OpenAI\n",
    "from langchain.agents import initialize_agent, AgentType\n",
    "from langchain.llms import OpenAI\n",
    "from langchain.agents import Tool\n",
    "from langchain.prompts import PromptTemplate\n",
    "from langchain.chains import LLMChain\n"
   ]
  },
  {
   "cell_type": "code",
   "execution_count": 2,
   "metadata": {},
   "outputs": [],
   "source": [
    "# Loading the language model to control the agent\n",
    "llm = OpenAI(model=\"gpt-3.5-turbo-instruct\", temperature=0)\n"
   ]
  },
  {
   "cell_type": "code",
   "execution_count": 3,
   "metadata": {},
   "outputs": [],
   "source": [
    "# Loading some tools to use. The llm-math tool uses an LLM, so we pass that in.\n",
    "tools = load_tools([\"google-search\", \"llm-math\"], llm=llm)\n"
   ]
  },
  {
   "cell_type": "code",
   "execution_count": 4,
   "metadata": {},
   "outputs": [],
   "source": [
    "# Initializing an agent with the tools, the language model, and the type of agent we want to use.\n",
    "agent = initialize_agent(tools, llm, agent=AgentType.ZERO_SHOT_REACT_DESCRIPTION, verbose=True)"
   ]
  },
  {
   "cell_type": "code",
   "execution_count": 5,
   "metadata": {},
   "outputs": [
    {
     "name": "stdout",
     "output_type": "stream",
     "text": [
      "\n",
      "\n",
      "\u001b[1m> Entering new AgentExecutor chain...\u001b[0m\n",
      "\u001b[32;1m\u001b[1;3m I should use a calculator to add 1000 to the number of goals scored in the soccer world cup in 2018.\n",
      "Action: Calculator\n",
      "Action Input: 1000 + number of goals scored in the soccer world cup in 2018\u001b[0m\n",
      "Observation: \u001b[33;1m\u001b[1;3mAnswer: 1169\u001b[0m\n",
      "Thought:\u001b[32;1m\u001b[1;3m I now know the final answer.\n",
      "Final Answer: 1169\u001b[0m\n",
      "\n",
      "\u001b[1m> Finished chain.\u001b[0m\n",
      "1169\n"
     ]
    }
   ],
   "source": [
    "# Testing the agent\n",
    "query = \"What's the result of 1000 plus the number of goals scored in the soccer world cup in 2018?\"\n",
    "response = agent.run(query)\n",
    "print(response)"
   ]
  },
  {
   "cell_type": "code",
   "execution_count": 8,
   "metadata": {},
   "outputs": [],
   "source": [
    "prompt = PromptTemplate(\n",
    "    input_variables=[\"query\"],\n",
    "    template=\"You're a renowned science fiction writer. {query}\"\n",
    ")\n"
   ]
  },
  {
   "cell_type": "code",
   "execution_count": 9,
   "metadata": {},
   "outputs": [],
   "source": [
    "# Initialize the language model\n",
    "llm = OpenAI(model=\"gpt-3.5-turbo-instruct\", temperature=0)\n",
    "llm_chain = LLMChain(llm=llm, prompt=prompt)"
   ]
  },
  {
   "cell_type": "code",
   "execution_count": 10,
   "metadata": {},
   "outputs": [],
   "source": [
    "tools = [\n",
    "    Tool(\n",
    "        name='Science Fiction Writer',\n",
    "        func=llm_chain.run,\n",
    "        description='Use this tool for generating science fiction stories. Input should be a command about generating specific types of stories.'\n",
    "    )\n",
    "]\n",
    "\n",
    "# Initializing an agent with the tools, the language model, and the type of agent we want to use.\n",
    "agent = initialize_agent(tools, llm, agent=AgentType.ZERO_SHOT_REACT_DESCRIPTION, verbose=True)\n"
   ]
  },
  {
   "cell_type": "code",
   "execution_count": 11,
   "metadata": {},
   "outputs": [
    {
     "name": "stdout",
     "output_type": "stream",
     "text": [
      "\n",
      "\n",
      "\u001b[1m> Entering new AgentExecutor chain...\u001b[0m\n",
      "\u001b[32;1m\u001b[1;3m I should use the Science Fiction Writer tool to generate a story\n",
      "Action: Science Fiction Writer\n",
      "Action Input: \"Generate an epic saga about interstellar explorers\"\u001b[0m\n",
      "Observation: \u001b[36;1m\u001b[1;3m\n",
      "\n",
      "In the distant future, humanity has reached the peak of technological advancement. With the discovery of faster-than-light travel, humans have expanded their reach beyond the confines of Earth and have colonized numerous planets in the galaxy.\n",
      "\n",
      "Among the many explorers and adventurers, there is a group of renowned interstellar explorers known as the Starfinders. Led by the fearless Captain Nova, the Starfinders are a team of highly skilled individuals who are dedicated to discovering new worlds and unraveling the mysteries of the universe.\n",
      "\n",
      "Their journey begins when they receive a distress signal from a distant planet on the edge of the galaxy. Without hesitation, Captain Nova and her crew set out on their spaceship, the Starlight, to investigate the source of the signal.\n",
      "\n",
      "As they approach the planet, they are met with a sight unlike anything they have ever seen before. The planet is covered in a thick layer of ice, but there are signs of advanced technology scattered across its surface. Intrigued by this discovery, the Starfinders land on the planet and begin their exploration.\n",
      "\n",
      "As they delve deeper into the planet, they encounter a race of beings known as the Cryonians. These beings are highly advanced and have been in a state of cryogenic sleep for centuries. The Starfinders learn\u001b[0m\n",
      "Thought:\u001b[32;1m\u001b[1;3m This is getting interesting, I wonder what will happen next\n",
      "Action: Science Fiction Writer\n",
      "Action Input: \"Continue the story with the Starfinders learning about the Cryonians\"\u001b[0m\n",
      "Observation: \u001b[36;1m\u001b[1;3m\n",
      "\n",
      "The Starfinders had been traveling through the vast expanse of space for what felt like an eternity. Their mission was to explore new planets and civilizations, and they had encountered many strange and fascinating beings along the way. But nothing could have prepared them for what they were about to discover.\n",
      "\n",
      "As they approached a small, icy planet on the edge of the galaxy, their sensors picked up a faint distress signal. Curiosity getting the better of them, the Starfinders decided to investigate.\n",
      "\n",
      "As they landed on the frozen surface, they were greeted by a group of beings unlike any they had ever seen before. They were tall and slender, with pale blue skin and large, almond-shaped eyes. They introduced themselves as the Cryonians, a highly advanced race that had been in a state of cryogenic sleep for thousands of years.\n",
      "\n",
      "The Starfinders were in awe of the Cryonians' technology and their ability to survive in such extreme conditions. The Cryonians explained that their planet had once been a thriving civilization, but a catastrophic event had forced them to enter cryogenic sleep in order to survive.\n",
      "\n",
      "As the Starfinders explored the Cryonians' city, they were amazed by the advanced technology and knowledge that the Cryonians possessed. They had developed\u001b[0m\n",
      "Thought:\u001b[32;1m\u001b[1;3m This is turning into an epic saga, I can't wait to see how it ends\n",
      "Action: Science Fiction Writer\n",
      "Action Input: \"Continue the story with the Starfinders and Cryonians teaming up to save the galaxy\"\u001b[0m\n",
      "Observation: \u001b[36;1m\u001b[1;3m\n",
      "\n",
      "As the Starfinders and Cryonians joined forces, they quickly realized that their combined knowledge and technology could be the key to saving the galaxy from the impending threat.\n",
      "\n",
      "The Cryonians, with their advanced cryogenic technology, were able to freeze and preserve entire planets, while the Starfinders, with their advanced spacecrafts and weapons, could defend against any attacks.\n",
      "\n",
      "Together, they set out to gather as much information as they could about the mysterious enemy that was approaching. They scoured the galaxy, visiting different planets and civilizations, gathering data and forming alliances.\n",
      "\n",
      "As they pieced together the puzzle, they discovered that the enemy was a powerful race of beings known as the Xalaxians. They were a highly advanced species, with technology far beyond anything the Starfinders or Cryonians had ever seen.\n",
      "\n",
      "The Xalaxians had been traveling through the galaxy, conquering and destroying any civilization that stood in their way. And now, they were headed towards the heart of the galaxy, where the most powerful and advanced civilizations resided.\n",
      "\n",
      "The Starfinders and Cryonians knew that they had to act fast. They combined their resources and came up with a plan to stop the Xalaxians. The Cryonians would use their cryogenic\u001b[0m\n",
      "Thought:\u001b[32;1m\u001b[1;3m This is the climax of the story, I can't wait to see how it ends\n",
      "Action: Science Fiction Writer\n",
      "Action Input: \"Continue the story with the final battle between the Starfinders, Cryonians, and Xalaxians\"\u001b[0m\n",
      "Observation: \u001b[36;1m\u001b[1;3m.\n",
      "\n",
      "The final battle between the Starfinders, Cryonians, and Xalaxians was unlike anything the galaxy had ever seen before. The three factions had been at war for centuries, each vying for control over the vast resources and territories of the universe.\n",
      "\n",
      "The Starfinders, a group of highly advanced humans, had always been the dominant force in the galaxy. They had used their superior technology and strategic prowess to conquer and colonize countless planets, expanding their empire to the farthest reaches of space.\n",
      "\n",
      "The Cryonians, a race of powerful beings with the ability to manipulate ice and cold, had long been at odds with the Starfinders. They saw the humans as a threat to their existence and had been waging a guerrilla war against them for decades.\n",
      "\n",
      "And then there were the Xalaxians, a mysterious alien race that had suddenly appeared on the galactic stage. They were a highly advanced species with a thirst for conquest and domination. They had quickly allied themselves with the Cryonians, seeing the humans as their common enemy.\n",
      "\n",
      "The three factions had clashed in countless battles, each one more devastating than the last. But now, as they faced each other in the final showdown, the stakes were higher than ever before.\n",
      "\n",
      "The Starfind\u001b[0m\n",
      "Thought:\u001b[32;1m\u001b[1;3m This is the end of the story, I wonder what the final outcome will be\n",
      "Action: Science Fiction Writer\n",
      "Action Input: \"Continue the story with the aftermath of the final battle and the fate of the galaxy\"\u001b[0m\n",
      "Observation: \u001b[36;1m\u001b[1;3m\n",
      "\n",
      "The final battle had been won, but at a great cost. The galaxy was left in ruins, with entire planets destroyed and civilizations wiped out. The once powerful and feared alien race known as the Zorons had been defeated, thanks to the bravery and ingenuity of the human race.\n",
      "\n",
      "As the dust settled and the survivors emerged from their hiding places, they were met with a scene of devastation. The once bustling cities were now nothing but rubble, and the once beautiful landscapes were now scarred and barren. The human race had paid a heavy price for their victory, but they knew it was necessary to save the galaxy from the tyranny of the Zorons.\n",
      "\n",
      "The leaders of the remaining human colonies gathered to discuss the future of their people and the galaxy. It was clear that they needed to rebuild and unite in order to prevent another threat from rising. They formed a council, with representatives from each colony, to govern and make decisions for the greater good of the galaxy.\n",
      "\n",
      "But the aftermath of the final battle was not just physical destruction. The psychological toll on the survivors was immense. Many had lost loved ones and were struggling to come to terms with the loss. The council recognized the need for healing and set up support systems for those who needed it.\n",
      "\n",
      "As the years passed\u001b[0m\n",
      "Thought:\u001b[32;1m\u001b[1;3m I now know the final answer\n",
      "Final Answer: The epic science fiction saga about interstellar explorers, the Starfinders, and their alliance with the Cryonians to defeat the powerful alien race known as the Xalaxians, ultimately leading to the rebuilding and unification of the galaxy.\u001b[0m\n",
      "\n",
      "\u001b[1m> Finished chain.\u001b[0m\n",
      "The epic science fiction saga about interstellar explorers, the Starfinders, and their alliance with the Cryonians to defeat the powerful alien race known as the Xalaxians, ultimately leading to the rebuilding and unification of the galaxy.\n"
     ]
    }
   ],
   "source": [
    "\n",
    "# Testing the agent with the new prompt\n",
    "response = agent.run(\"Compose an epic science fiction saga about interstellar explorers\")\n",
    "print(response)\n",
    "\n",
    "\n"
   ]
  },
  {
   "cell_type": "code",
   "execution_count": null,
   "metadata": {},
   "outputs": [],
   "source": []
  }
 ],
 "metadata": {
  "kernelspec": {
   "display_name": "langchain",
   "language": "python",
   "name": "python3"
  },
  "language_info": {
   "codemirror_mode": {
    "name": "ipython",
    "version": 3
   },
   "file_extension": ".py",
   "mimetype": "text/x-python",
   "name": "python",
   "nbconvert_exporter": "python",
   "pygments_lexer": "ipython3",
   "version": "3.11.0"
  }
 },
 "nbformat": 4,
 "nbformat_minor": 2
}
