{
 "cells": [
  {
   "cell_type": "code",
   "execution_count": 2,
   "metadata": {},
   "outputs": [],
   "source": [
    "import os\n",
    "import re\n",
    "from langchain.embeddings import OpenAIEmbeddings\n",
    "from langchain.vectorstores import DeepLake\n"
   ]
  },
  {
   "cell_type": "code",
   "execution_count": 1,
   "metadata": {},
   "outputs": [
    {
     "name": "stdout",
     "output_type": "stream",
     "text": [
      "['Objection: \"There\\'s no money.\"\\nIt could be that your prospect\\'s business simply isn\\'t big enough or generating enough cash right now to afford a product like yours. Track their growth and see how you can help your prospect get to a place where your offering would fit into their business.\\n\\n', 'Objection: \"We don\\'t have any budget left this year.\"\\nA variation of the \"no money\" objection, what your prospect\\'s telling you here is that they\\'re having cash flow issues. But if there\\'s a pressing problem, it needs to get solved eventually. Either help your prospect secure a budget from executives to buy now or arrange a follow-up call for when they expect funding to return.\\n\\n', 'Objection: \"We need to use that budget somewhere else.\"\\nProspects sometimes try to earmark resources for other uses. It\\'s your job to make your product/service a priority that deserves budget allocation now. Share case studies of similar companies that have saved money, increased efficiency, or had a massive ROI with you.\\n']\n"
     ]
    }
   ],
   "source": [
    "text = \"\"\"\n",
    "Objection: \"There's no money.\"\n",
    "It could be that your prospect's business simply isn't big enough or generating enough cash right now to afford a product like yours. Track their growth and see how you can help your prospect get to a place where your offering would fit into their business.\n",
    "\n",
    "Objection: \"We don't have any budget left this year.\"\n",
    "A variation of the \"no money\" objection, what your prospect's telling you here is that they're having cash flow issues. But if there's a pressing problem, it needs to get solved eventually. Either help your prospect secure a budget from executives to buy now or arrange a follow-up call for when they expect funding to return.\n",
    "\n",
    "Objection: \"We need to use that budget somewhere else.\"\n",
    "Prospects sometimes try to earmark resources for other uses. It's your job to make your product/service a priority that deserves budget allocation now. Share case studies of similar companies that have saved money, increased efficiency, or had a massive ROI with you.\n",
    "\"\"\"\n",
    "\n",
    "# Split the text into a list using the keyword \"Objection: \"\n",
    "objections_list = text.split(\"Objection: \")[1:]  # We ignore the first split as it is empty\n",
    "# Now, prepend \"Objection: \" to each item as splitting removed it\n",
    "objections_list = [\"Objection: \" + objection for objection in objections_list]\n",
    "print(objections_list)"
   ]
  },
  {
   "cell_type": "code",
   "execution_count": 3,
   "metadata": {},
   "outputs": [
    {
     "data": {
      "text/plain": [
       "True"
      ]
     },
     "execution_count": 3,
     "metadata": {},
     "output_type": "execute_result"
    }
   ],
   "source": [
    "from dotenv import load_dotenv\n",
    "load_dotenv('/Users/srishtysuman/.env')"
   ]
  },
  {
   "cell_type": "code",
   "execution_count": 6,
   "metadata": {},
   "outputs": [
    {
     "name": "stderr",
     "output_type": "stream",
     "text": [
      "/Users/srishtysuman/anaconda3/envs/langchain/lib/python3.11/site-packages/langchain_core/_api/deprecation.py:117: LangChainDeprecationWarning: The class `langchain_community.embeddings.openai.OpenAIEmbeddings` was deprecated in langchain-community 0.1.0 and will be removed in 0.2.0. An updated version of the class exists in the langchain-openai package and should be used instead. To use it run `pip install -U langchain-openai` and import as `from langchain_openai import OpenAIEmbeddings`.\n",
      "  warn_deprecated(\n",
      "Creating 1 embeddings in 1 batches of size 1:: 100%|██████████| 1/1 [00:02<00:00,  2.04s/it]\n"
     ]
    },
    {
     "name": "stdout",
     "output_type": "stream",
     "text": [
      "Dataset(path='https:/app.activeloop.ai/srishtysuman2919/ai_sales_assistant', tensors=['text', 'metadata', 'embedding', 'id'])\n",
      "\n",
      "  tensor      htype      shape     dtype  compression\n",
      "  -------    -------    -------   -------  ------- \n",
      "   text       text      (1, 1)      str     None   \n",
      " metadata     json      (1, 1)      str     None   \n",
      " embedding  embedding  (1, 1536)  float32   None   \n",
      "    id        text      (1, 1)      str     None   \n"
     ]
    },
    {
     "name": "stderr",
     "output_type": "stream",
     "text": [
      "/Users/srishtysuman/anaconda3/envs/langchain/lib/python3.11/site-packages/langchain_core/_api/deprecation.py:117: LangChainDeprecationWarning: The class `langchain_community.chat_models.openai.ChatOpenAI` was deprecated in langchain-community 0.0.10 and will be removed in 0.2.0. An updated version of the class exists in the langchain-openai package and should be used instead. To use it run `pip install -U langchain-openai` and import as `from langchain_openai import ChatOpenAI`.\n",
      "  warn_deprecated(\n",
      "/Users/srishtysuman/anaconda3/envs/langchain/lib/python3.11/site-packages/langchain_core/_api/deprecation.py:117: LangChainDeprecationWarning: The function `__call__` was deprecated in LangChain 0.1.7 and will be removed in 0.2.0. Use invoke instead.\n",
      "  warn_deprecated(\n"
     ]
    },
    {
     "name": "stdout",
     "output_type": "stream",
     "text": [
      "When faced with the objection \"There's no money,\" it's important to understand the prospect's financial situation. If their business is not currently generating enough cash to afford your product, you can track their growth and find ways to help them get to a point where your offering would fit into their budget. Offer alternative payment options such as financing or a payment plan to make it more affordable for them.\n",
      "\n",
      "If the objection is \"We don't have any budget left this year,\" it indicates cash flow issues. However, if there is a pressing problem that needs to be solved, it should eventually be addressed. You can help the prospect by assisting them in securing a budget from executives to make the purchase now or suggest arranging a follow-up call for when they expect funding to become available again.\n",
      "\n",
      "When the objection is \"We need to use that budget somewhere else,\" it means that the prospect is trying to allocate resources to other areas. In this case, you need to demonstrate the value and priority of your product or service. Share case studies and success stories from similar companies that have saved money, increased efficiency, or achieved a significant return on investment by using your product. Highlight the unique benefits and advantages your offering provides compared to other options they are considering.\n",
      "\n",
      "Overall, it's important to understand the prospect's financial constraints and tailor your approach accordingly. By offering alternative payment options, emphasizing the urgency of addressing their problem, and showcasing the value and ROI of your solution, you can overcome these objections and demonstrate the worthiness of your product or service.\n"
     ]
    }
   ],
   "source": [
    "# We’re going to define a class that handles the database creation, database loading, and database querying.\n",
    "\n",
    "class DeepLakeLoader:\n",
    "    def __init__(self, source_data_path):\n",
    "        self.data = self.split_data()\n",
    "        self.dataset_path=source_data_path\n",
    "        if False:\n",
    "         self.db = self.load_db()\n",
    "        else:\n",
    "            self.db = self.create_db()\n",
    "\n",
    "\n",
    "    def split_data(self):  \n",
    "        \"\"\"  \n",
    "        Preprocess the data by splitting it into passages.  \n",
    "\n",
    "        If using a different data source, this function will need to be modified.  \n",
    "\n",
    "        Returns:  \n",
    "            split_data (list): List of passages.  \n",
    "        \"\"\"  \n",
    "        with open('/Users/srishtysuman/LearnLLMs/1_LangChainAndVectorDatabases/4_KeepingknowledgeOrganizedWithIndexes/7_AISalesAssistant/objections.txt', 'r') as f:  \n",
    "            content = f.read()  \n",
    "        split_data = re.split(r'(?=\\d+\\. )', content)\n",
    "        if split_data[0] == '':  \n",
    "            split_data.pop(0)  \n",
    "        split_data = [entry for entry in split_data if len(entry) >= 30]  \n",
    "        return split_data\n",
    "\n",
    "    def load_db(self):  \n",
    "        \"\"\"  \n",
    "        Load the database if it already exists.  \n",
    "\n",
    "        Returns:  \n",
    "            DeepLake: DeepLake object.  \n",
    "        \"\"\"  \n",
    "        return DeepLake(dataset_path=self.dataset_path, embedding_function=OpenAIEmbeddings(), read_only=True)  \n",
    "\n",
    "    def create_db(self):  \n",
    "        \"\"\"  \n",
    "        Create the database if it does not already exist.  \n",
    "\n",
    "        Databases are stored in the deeplake directory.  \n",
    "\n",
    "        Returns:  \n",
    "            DeepLake: DeepLake object.  \n",
    "        \"\"\"  \n",
    "        return DeepLake.from_texts(self.data, OpenAIEmbeddings(), dataset_path=self.dataset_path)\n",
    "\n",
    "    def query_db(self, query):  \n",
    "        \"\"\"  \n",
    "        Query the database for passages that are similar to the query.  \n",
    "\n",
    "        Args:  \n",
    "            query (str): Query string.  \n",
    "\n",
    "        Returns:  \n",
    "            content (list): List of passages that are similar to the query.  \n",
    "        \"\"\"  \n",
    "        results = self.db.similarity_search(query, k=3)  \n",
    "        content = []  \n",
    "        for result in results:  \n",
    "            content.append(result.page_content)  \n",
    "        return content\n",
    "\n",
    "db = DeepLakeLoader('https:/app.activeloop.ai/srishtysuman2919/ai_sales_assistant')\n",
    "\n",
    "results = db.query_db(\"We need to use that budget somewhere else.\")\n",
    "\n",
    "\n",
    "from langchain.chat_models import ChatOpenAI\n",
    "from langchain.schema import SystemMessage, HumanMessage, AIMessage\n",
    "\n",
    "chat = ChatOpenAI(model_name=\"gpt-3.5-turbo\")\n",
    "system_message = SystemMessage(content=\"You are a Sales Call Assistant who detects potential objections from the customer (e.g. “It’s too expensive” or “The product doesn’t work for us”) and provide well-informed recommendations to the salesperson on how best to handle them.\")\n",
    "human_message = HumanMessage(content=f'Customer objection: {objections_list} | Relevant guidelines: {results}')\n",
    "\n",
    "response = chat([system_message, human_message])\n",
    "\n",
    "print(response.content)\n",
    "\n",
    "\n",
    "\n"
   ]
  },
  {
   "cell_type": "code",
   "execution_count": null,
   "metadata": {},
   "outputs": [],
   "source": []
  }
 ],
 "metadata": {
  "kernelspec": {
   "display_name": "langchain",
   "language": "python",
   "name": "python3"
  },
  "language_info": {
   "codemirror_mode": {
    "name": "ipython",
    "version": 3
   },
   "file_extension": ".py",
   "mimetype": "text/x-python",
   "name": "python",
   "nbconvert_exporter": "python",
   "pygments_lexer": "ipython3",
   "version": "3.11.0"
  }
 },
 "nbformat": 4,
 "nbformat_minor": 2
}
