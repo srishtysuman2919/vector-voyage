{
 "cells": [
  {
   "cell_type": "code",
   "execution_count": 1,
   "metadata": {},
   "outputs": [],
   "source": [
    "from langchain.llms import OpenAI\n",
    "from langchain.agents import Tool, initialize_agent, AgentType\n",
    "\n",
    "from langchain.utilities import GoogleSearchAPIWrapper, PythonREPL"
   ]
  },
  {
   "cell_type": "code",
   "execution_count": 4,
   "metadata": {},
   "outputs": [],
   "source": [
    "search = GoogleSearchAPIWrapper()\n",
    "python_repl = PythonREPL()\n",
    "\n",
    "llm = OpenAI(model=\"gpt-3.5-turbo-instruct\", temperature=0)"
   ]
  },
  {
   "cell_type": "code",
   "execution_count": 5,
   "metadata": {},
   "outputs": [
    {
     "name": "stdout",
     "output_type": "stream",
     "text": [
      "\n",
      "\n",
      "\u001b[1m> Entering new AgentExecutor chain...\u001b[0m\n",
      "\u001b[32;1m\u001b[1;3m I should use google-search to find the birth date and then use python_repl to save it to a file.\n",
      "Action: google-search\n",
      "Action Input: \"Napoleon Bonaparte birth date\"\u001b[0m\n",
      "Observation: \u001b[36;1m\u001b[1;3mNapoleon Bonaparte later known by his regnal name Napoleon I, was a French emperor and military commander who rose to prominence during the French ... He was the second of eight children born to Carlo Buonaparte, a lawyer descended from Tuscan nobility, and his young wife Maria-Letizia Ramolino. At the time of ... Nov 9, 2009 ... Born on the island of Corsica, Napoleon rapidly rose through the ranks of the military during the French Revolution (1789-1799). After seizing ... On 15 August 1769, Napoleon Bonaparte was born in Ajaccio, in Corsica, into a aristocratic family. He parents, Charles and Letizia already had one son, ... Jan 16, 2024 ... Napoleon I (born August 15, 1769, Ajaccio, Corsica—died May 5, 1821, St. Helena Island) French general, first consul (1799–1804), ... ... Napoleon's birthday. Furthermore, Charles Bonaparte's “journal” notes the birth on 15 August 1769. It is true that Napoleon very occasionally used the ... Napoleon Bonaparte was born the 15th of August, 1769 on Corsica, just three months after the island had been defeated by the French. Barbee, enlisted 5/17/1862. N.B. Barbee of Crockett, Houston County, born circa 1837 in Clara County, Tennessee; death date 12/28/1928 in Crockett, Houston ... Napoleon Bonaparte was born on August 15, 1769. He was most notably known as a French military and political leader, who became prominent during the French ... On the 15th of August 1769 in the French-occupied capital of Corsica, Ajaccio, Napoleon was born to his father Carlo Maria di Buonaparte, and his mother, ...\u001b[0m\n",
      "Thought:"
     ]
    },
    {
     "name": "stderr",
     "output_type": "stream",
     "text": [
      "Python REPL can execute arbitrary code. Use with caution.\n"
     ]
    },
    {
     "name": "stdout",
     "output_type": "stream",
     "text": [
      "\u001b[32;1m\u001b[1;3m I should use python_repl to save the birth date to a file.\n",
      "Action: python_repl\n",
      "Action Input: birth_date = \"August 15, 1769\"\u001b[0m\n",
      "Observation: \u001b[33;1m\u001b[1;3mSyntaxError('unterminated string literal (detected at line 1)', ('<string>', 1, 14, 'birth_date = \"August 15, 1769', 1, 14))\u001b[0m\n",
      "Thought:\u001b[32;1m\u001b[1;3m I need to fix the syntax error by adding a closing quotation mark.\n",
      "Action: python_repl\n",
      "Action Input: birth_date = \"August 15, 1769\"\u001b[0m\n",
      "Observation: \u001b[33;1m\u001b[1;3mSyntaxError('unterminated string literal (detected at line 1)', ('<string>', 1, 14, 'birth_date = \"August 15, 1769', 1, 14))\u001b[0m\n",
      "Thought:"
     ]
    }
   ],
   "source": [
    "toolkit = [\n",
    "    Tool(\n",
    "        name=\"google-search\",\n",
    "        func=search.run,\n",
    "        description=\"useful for when you need to search Google to answer questions about current events\"\n",
    "    ),\n",
    "    Tool(\n",
    "        name=\"python_repl\",\n",
    "        description=\"A Python shell. Use this to execute Python commands. Input should be a valid Python command. Useful for saving strings to files.\",\n",
    "        func=python_repl.run\n",
    "    )\n",
    "]\n",
    "agent = initialize_agent(\n",
    "\ttoolkit,\n",
    "\tllm,\n",
    "\tagent=AgentType.ZERO_SHOT_REACT_DESCRIPTION,\n",
    "\tverbose=True\n",
    ")\n",
    "\n",
    "agent.run(\"Find the birth date of Napoleon Bonaparte and save it to a file 'answer.txt'.\")\n"
   ]
  },
  {
   "cell_type": "code",
   "execution_count": null,
   "metadata": {},
   "outputs": [],
   "source": [
    "with open('answer.txt', 'w') as f:\n",
    "    f.write('Napoleon Bonaparte was born on August 15, 1769')\n",
    "\n",
    "query = \"Find when Napoleon Bonaparte died and append this information \" \\\n",
    "    \"to the content of the 'answer.txt' file in a new line.\"\n",
    "\n",
    "agent.run(query)"
   ]
  },
  {
   "cell_type": "code",
   "execution_count": null,
   "metadata": {},
   "outputs": [],
   "source": []
  }
 ],
 "metadata": {
  "kernelspec": {
   "display_name": "langchain",
   "language": "python",
   "name": "python3"
  },
  "language_info": {
   "codemirror_mode": {
    "name": "ipython",
    "version": 3
   },
   "file_extension": ".py",
   "mimetype": "text/x-python",
   "name": "python",
   "nbconvert_exporter": "python",
   "pygments_lexer": "ipython3",
   "version": "3.11.0"
  }
 },
 "nbformat": 4,
 "nbformat_minor": 2
}
