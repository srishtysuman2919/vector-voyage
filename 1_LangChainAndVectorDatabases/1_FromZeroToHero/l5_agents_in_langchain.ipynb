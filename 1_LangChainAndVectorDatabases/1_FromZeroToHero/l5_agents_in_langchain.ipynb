{
 "cells": [
  {
   "cell_type": "code",
   "execution_count": 2,
   "metadata": {},
   "outputs": [],
   "source": [
    "'''\n",
    "    In LangChain, agents are high-level components that use language models (LLMs) to determine which actions to take and in what order. \n",
    "    An action can either be using a tool and observing its output or returning it to the user. \n",
    "    Tools are functions that perform specific duties, such as Google Search, database lookups, or Python REPL.\n",
    "\n",
    "    Agents involve an LLM making decisions about which Actions to take, taking that Action, seeing an Observation, and repeating that until done.\n",
    "\n",
    "    Several types of agents are available in LangChain:\n",
    "    1. The zero-shot-react-description agent uses the ReAct framework to decide which tool to employ based purely on the tool's description. \n",
    "        It necessitates a description of each tool.\n",
    "    2. The react-docstore agent engages with a docstore through the ReAct framework. It needs two tools: a Search tool and a Lookup tool. \n",
    "        The Search tool finds a document, and the Lookup tool searches for a term in the most recently discovered document.\n",
    "    3. The self-ask-with-search agent employs a single tool named Intermediate Answer, which is capable of looking up factual responses to queries. \n",
    "        It is identical to the original self-ask with the search paper, where a Google search API was provided as the tool.\n",
    "    4. The conversational-react-description agent is designed for conversational situations. \n",
    "        It uses the ReAct framework to select a tool and uses memory to remember past conversation interactions.\n",
    "'''\n",
    "\n",
    "\n",
    "# In this example, the Agent will use the Google Search tool to look up recent information about the Mars rover and generates a response based on this information.\n",
    "\n",
    "# let’s import the necessary modules:\n",
    "# langchain.llms.OpenAI: This is used to create an instance of the OpenAI language model, which can generate human-like text based on the input it's given.\n",
    "# langchain.agents.load_tools: This function is used to load a list of tools that an AI agent can use.\n",
    "# langchain.agents.initialize_agent: This function initializes an AI agent that can use a given set of tools and a language model to interact with users.\n",
    "# langchain.agents.Tool: This is a class used to define a tool that an AI agent can use. A tool is defined by its name, a function that performs the tool's action, and a description of the tool.\n",
    "# langchain.utilities.GoogleSearchAPIWrapper: This class is a wrapper for the Google Search API, allowing it to be used as a tool by an AI agent. \n",
    "#                                               It likely contains a method that sends a search query to Google and retrieves the results.\n",
    "\n",
    "from langchain.llms import OpenAI\n",
    "\n",
    "from langchain.agents import AgentType\n",
    "from langchain.agents import load_tools\n",
    "from langchain.agents import initialize_agent\n",
    "\n",
    "from langchain.agents import Tool\n",
    "from langchain.utilities import GoogleSearchAPIWrapper\n"
   ]
  },
  {
   "cell_type": "code",
   "execution_count": 3,
   "metadata": {},
   "outputs": [],
   "source": [
    "# We’ll initialize the LLM and set the temperature to 0 for the precise answer. \n",
    "llm = OpenAI(model=\"gpt-3.5-turbo-instruct\", temperature=0)\n"
   ]
  },
  {
   "cell_type": "code",
   "execution_count": 4,
   "metadata": {},
   "outputs": [],
   "source": [
    "# We can now define the Google search wrapper as follow.\n",
    "search = GoogleSearchAPIWrapper()\n"
   ]
  },
  {
   "cell_type": "code",
   "execution_count": 5,
   "metadata": {},
   "outputs": [],
   "source": [
    "# The Tool object represents a specific capability or function the system can use. In this case, it's a tool for performing Google searches.\n",
    "# It is initialized with three parameters:\n",
    "#    1. name parameter: This is a string that serves as a unique identifier for the tool. In this case, the name of the tool is \"google-search.”\n",
    "#    2. func parameter: This parameter is assigned the function that the tool will execute when called. \n",
    "#       In this case, it's the run method of the search object, which presumably performs a Google search.\n",
    "#    3. description parameter: This is a string that briefly explains what the tool does. \n",
    "#       The description explains that this tool is helpful when you need to use Google to answer questions about current events.\n",
    "tools = [\n",
    "    Tool(\n",
    "        name = \"google-search\",\n",
    "        func=search.run,\n",
    "        description=\"useful for when you need to search google to answer questions about current events\"\n",
    "    )\n",
    "]\n"
   ]
  },
  {
   "cell_type": "code",
   "execution_count": 6,
   "metadata": {},
   "outputs": [],
   "source": [
    "# Next, we create an agent that uses our Google Search tool:\n",
    "#   1. initialize_agent(): This function call creates and initializes an agent. An agent is a component that determines which actions to take based on user input. \n",
    "#       These actions can be using a tool, returning a response to the user, or something else.\n",
    "#   2. tools:  represents the list of Tool objects that the agent can use.\n",
    "#   3. agent=\"zero-shot-react-description\": The \"zero-shot-react-description\" type of an Agent uses the ReAct framework to decide which tool to use based only on the tool's description.\n",
    "#   4. verbose=True: when set to True, it will cause the Agent to print more detailed information about what it's doing. \n",
    "#       This is useful for debugging and understanding what's happening under the hood.\n",
    "#   5. max_iterations=6: sets a limit on the number of iterations the Agent can perform before stopping. It's a way of preventing the agent from running indefinitely in some cases, which may have unwanted monetary costs.\n",
    "agent = initialize_agent(tools, \n",
    "                         llm, \n",
    "                         agent=AgentType.ZERO_SHOT_REACT_DESCRIPTION, \n",
    "                         verbose=True,\n",
    "                         max_iterations=6)\n"
   ]
  },
  {
   "cell_type": "code",
   "execution_count": 7,
   "metadata": {},
   "outputs": [
    {
     "name": "stdout",
     "output_type": "stream",
     "text": [
      "\n",
      "\n",
      "\u001b[1m> Entering new AgentExecutor chain...\u001b[0m\n",
      "\u001b[32;1m\u001b[1;3m I should search for news articles about the Mars rover.\n",
      "Action: google-search\n",
      "Action Input: \"Mars rover news\"\u001b[0m\n",
      "Observation: \u001b[36;1m\u001b[1;3mThe Latest from Mars ... Videos from the rover show its shadow moving across the Martian surface during a 12-hour sequence while Curiosity remained parked. More ... Apr 25, 2023 ... The fully robotic Zhurong, named after a mythical Chinese god of fire, was expected to have woken up in December after entering a planned sleep ... A pair of quakes in 2021 sent seismic waves deep into the Red Planet's core, giving scientists the best data yet on its size and composition. ... Ten sample tubes ... Oct 19, 2022 ... ... Curiosity, visit: http://mars.nasa.gov/msl. Get the Latest JPL News. SUBSCRIBE TO THE NEWSLETTER. News Media Contact. Andrew Good. Jet ... NASA's Mars 2020 Perseverance rover will look for signs of past microbial life, cache rock and soil samples, and prepare for future human exploration. Dec 15, 2021 ... These and other findings were presented today during a news briefing at the American Geophysical Union fall science meeting in New Orleans. Even ... Latest News · NASA's Ingenuity Mars Helicopter is seen Aug. 2, 2023, in an enhanced-. January 25, 2024 · Opportunity Views Its Own Shadow. January 17, 2024 ... Dec 12, 2023 ... Marking its 1,000th Martian day on the Red Planet, NASA's Perseverance rover recently completed its exploration of the ancient river delta that ... The latest breaking news, comment and features from The Independent. Jul 19, 2023 ... So the team will be keeping their options open, ready to stop for anything that piques their curiosity. Get the Latest JPL News. SUBSCRIBE TO ...\u001b[0m\n",
      "Thought:\u001b[32;1m\u001b[1;3m I should read through the articles to gather information about the latest news on the Mars rover.\n",
      "Action: google-search\n",
      "Action Input: \"Mars rover latest news\"\u001b[0m\n",
      "Observation: \u001b[36;1m\u001b[1;3mNews ; After Three Years on Mars, NASA's Ingenuity Helicopter Mission Ends. January 25, 2024 ; 20 Years After Landing: How NASA's Twin Rovers Changed Mars Science. Apr 13, 2023 ... Seen here is the rover's view of a hill nicknamed “Bolívar,” with Gale Crater's vast floor in the upper right. Credit: NASA/JPL-Caltech/MSSS. Look for the latest news on the Mars Science Laboratory, Curiosity Rover. Dec 15, 2021 ... Mars Sample Return is going to have great stuff to choose from!” Get the Latest JPL News. SUBSCRIBE TO THE NEWSLETTER. The multi-mission Mars ... NASA's Mars 2020 Perseverance rover will look for signs of past microbial life, cache rock and soil samples, and prepare for future human exploration. Oct 19, 2022 ... ... Curiosity, visit: http://mars.nasa.gov/msl. Get the Latest JPL News. SUBSCRIBE TO THE NEWSLETTER. News Media Contact. Andrew Good. Jet ... Jan 28, 2024 ... NASA's Mars Science Laboratory mission, Curiosity is the largest and most capable rover ever sent to Mars. View the latest news, images, ... The latest breaking news, comment and features from The Independent. The latest curiosity mars rover breaking news, comment, reviews and features from the experts at Space. Apr 25, 2023 ... China's Mars rover, which has been in longer-than-expected hibernation on the red planet since May 2022, has likely suffered excessive ...\u001b[0m\n",
      "Thought:\u001b[32;1m\u001b[1;3m I now know the final answer.\n",
      "Final Answer: The latest news about the Mars rover is that NASA's Ingenuity helicopter mission has ended after three years on Mars, and the Mars Sample Return mission is preparing to choose samples to bring back to Earth. China's Mars rover has been in hibernation since May 2022.\u001b[0m\n",
      "\n",
      "\u001b[1m> Finished chain.\u001b[0m\n"
     ]
    }
   ],
   "source": [
    "# now, we can check out the response:\n",
    "response = agent(\"What's the latest news about the Mars rover?\")\n",
    "# print(response['output'])\n",
    "\n",
    "# In summary, Agents in LangChain help decide which actions to take based on user input. \n",
    "# The example demonstrates initializing and using a \"zero-shot-react-description\" agent with a Google search tool."
   ]
  },
  {
   "cell_type": "code",
   "execution_count": null,
   "metadata": {},
   "outputs": [],
   "source": []
  }
 ],
 "metadata": {
  "kernelspec": {
   "display_name": "langchain",
   "language": "python",
   "name": "python3"
  },
  "language_info": {
   "codemirror_mode": {
    "name": "ipython",
    "version": 3
   },
   "file_extension": ".py",
   "mimetype": "text/x-python",
   "name": "python",
   "nbconvert_exporter": "python",
   "pygments_lexer": "ipython3",
   "version": "3.11.0"
  }
 },
 "nbformat": 4,
 "nbformat_minor": 2
}
