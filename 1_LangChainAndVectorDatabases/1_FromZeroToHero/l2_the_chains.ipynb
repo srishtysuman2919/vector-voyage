{
 "cells": [
  {
   "cell_type": "code",
   "execution_count": 1,
   "metadata": {},
   "outputs": [
    {
     "name": "stdout",
     "output_type": "stream",
     "text": [
      "True\n"
     ]
    }
   ],
   "source": [
    "from dotenv import load_dotenv\n",
    "load_dotenv('/Users/srishtysuman/.env')\n",
    "print(load_dotenv('/Users/srishtysuman/.env'))"
   ]
  },
  {
   "cell_type": "code",
   "execution_count": 2,
   "metadata": {},
   "outputs": [],
   "source": [
    "from langchain.prompts import PromptTemplate\n",
    "from langchain.llms import OpenAI\n",
    "from langchain.chains import LLMChain"
   ]
  },
  {
   "cell_type": "code",
   "execution_count": 3,
   "metadata": {},
   "outputs": [
    {
     "name": "stdout",
     "output_type": "stream",
     "text": [
      "\n",
      "\n",
      "EcoHydrate\n",
      "\n",
      "EcoH2O\n",
      "GreenWave Bottles\n",
      "SustainaBottle Co.\n",
      "EverFlow Bottles \n",
      "EcoPure Water Bottles \n",
      "GreenLife Hydration \n",
      "EcoVessel \n",
      "EcoAqua \n",
      "Nature's Quench \n",
      "EcoRefresh Bottles \n",
      "CaringCanteen Co.\n"
     ]
    }
   ],
   "source": [
    "'''\n",
    "    In LangChain, a chain is an end-to-end wrapper around multiple individual components, \n",
    "    providing a way to accomplish a common use case by combining these components in a specific sequence. \n",
    "    The most commonly used type of chain is the LLMChain, \n",
    "    which consists of a PromptTemplate, a model (either an LLM or a ChatModel), and an optional output parser.\n",
    "\n",
    "    The LLMChain works as follows:\n",
    "    1. Takes (multiple) input variables.\n",
    "    2. Uses the PromptTemplate to format the input variables into a prompt.\n",
    "    3. Passes the formatted prompt to the model (LLM or ChatModel).\n",
    "    4. If an output parser is provided, it uses the OutputParser to parse the output of the LLM into a final format.\n",
    "'''\n",
    "\n",
    "\n",
    "# In this next example, it is demonstrate \n",
    "# how to create a chain that generates a possible name for a company \n",
    "# that produces eco-friendly water bottles. \n",
    "# By using LangChain's LLMChain, PromptTemplate, and OpenAIclasses, \n",
    "# we can easily define our prompt, set the input variables, and generate creative outputs. \n",
    "\n",
    "llm = OpenAI(model=\"gpt-3.5-turbo-instruct\", temperature=0.9)\n",
    "prompt = PromptTemplate(\n",
    "    input_variables=[\"product\"],\n",
    "    template=\"What is a good name for a company that makes {product}?\",\n",
    ")\n",
    "\n",
    "chain = LLMChain(llm=llm, prompt=prompt)\n",
    "\n",
    "# Run the chain only specifying the input variable.\n",
    "print(chain.run(\"eco-friendly water bottles\"))"
   ]
  },
  {
   "cell_type": "code",
   "execution_count": null,
   "metadata": {},
   "outputs": [],
   "source": []
  }
 ],
 "metadata": {
  "kernelspec": {
   "display_name": "langchain",
   "language": "python",
   "name": "python3"
  },
  "language_info": {
   "codemirror_mode": {
    "name": "ipython",
    "version": 3
   },
   "file_extension": ".py",
   "mimetype": "text/x-python",
   "name": "python",
   "nbconvert_exporter": "python",
   "pygments_lexer": "ipython3",
   "version": "3.11.0"
  }
 },
 "nbformat": 4,
 "nbformat_minor": 2
}
