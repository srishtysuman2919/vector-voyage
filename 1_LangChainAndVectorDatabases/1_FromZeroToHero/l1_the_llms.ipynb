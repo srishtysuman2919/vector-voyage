{
 "cells": [
  {
   "cell_type": "markdown",
   "metadata": {},
   "source": [
    "'''\n",
    "The fundamental component of LangChain involves invoking an LLM with a specific input.\n",
    "'''\n"
   ]
  },
  {
   "cell_type": "code",
   "execution_count": 1,
   "metadata": {},
   "outputs": [],
   "source": [
    "# import llm rappper\n",
    "from langchain.llms import OpenAI"
   ]
  },
  {
   "cell_type": "code",
   "execution_count": 2,
   "metadata": {},
   "outputs": [
    {
     "name": "stdout",
     "output_type": "stream",
     "text": [
      "True\n"
     ]
    }
   ],
   "source": [
    "from dotenv import load_dotenv\n",
    "load_dotenv('/Users/srishtysuman/.env')\n",
    "print(load_dotenv('/Users/srishtysuman/.env'))"
   ]
  },
  {
   "cell_type": "markdown",
   "metadata": {},
   "source": [
    "\n",
    "\n",
    "The temperature parameter in OpenAI models manages the randomness of the output. \n",
    "When set to 0, the output is mostly predetermined and suitable for tasks requiring stability and the most probable result. \n",
    "At a setting of 1.0, the output can be inconsistent and interesting but isn't generally advised for most tasks. \n",
    "For creative tasks, a temperature between 0.70 and 0.90 offers a balance of reliability and creativity. \n",
    "The best setting should be determined by experimenting with different values for each specific use case. "
   ]
  },
  {
   "cell_type": "code",
   "execution_count": 10,
   "metadata": {},
   "outputs": [
    {
     "name": "stdout",
     "output_type": "stream",
     "text": [
      "\u001b[1mOpenAI\u001b[0m\n",
      "Params: {'model_name': 'gpt-3.5-turbo-instruct', 'temperature': 0.9, 'top_p': 1, 'frequency_penalty': 0, 'presence_penalty': 0, 'n': 1, 'logit_bias': {}, 'max_tokens': 256}\n",
      "\n",
      "\n",
      "Monday:\n",
      "- Warm up: Jog for 5 minutes\n",
      "- Sprint intervals: Sprint for 30 seconds, jog for 1 minute. Repeat 10 times.\n",
      "- Hill repeats: Find a steep hill and run up at a moderate pace, then jog down for recovery. Repeat 5 times.\n",
      "- Cool down: Jog for 5 minutes\n",
      "- Stretching: Stretch major muscle groups for 10 minutes\n",
      "\n",
      "Tuesday:\n",
      "- Warm up: Bike ride for 10 minutes\n",
      "- Cycling circuit: Find a circuit with a mix of flat and hilly terrain. Ride at a moderate pace for 30 minutes.\n",
      "- Cool down: Bike ride for 10 minutes\n",
      "- Stretching: Stretch major muscle groups for 10 minutes\n",
      "\n",
      "Wednesday:\n",
      "- Warm up: Jump rope for 5 minutes\n",
      "- Tabata workout: Alternate between 20 seconds of high intensity jumping jacks and 10 seconds of rest for 8 rounds (4 minutes). Rest for 1 minute, then repeat with other exercises such as burpees, mountain climbers, and squat jumps.\n",
      "- Cool down: Jump rope for 5 minutes\n",
      "- Stretching: Stretch major muscle groups for 10 minutes\n",
      "\n",
      "Thursday:\n",
      "- Rest day or light activity such as yoga or a leisurely walk\n",
      "\n",
      "Friday\n"
     ]
    }
   ],
   "source": [
    "# The code initializes the GPT-3 model’s Davinci variant.\n",
    "llm = OpenAI(model=\"gpt-3.5-turbo-instruct\", temperature=0.9)\n",
    "# print(help(OpenAI))\n",
    "print(llm)\n",
    "\n",
    "# Now we can call it on some input!\n",
    "text = \"Suggest a personalized workout routine for someone looking to improve cardiovascular endurance and prefers outdoor activities.\"\n",
    "print(llm(text))\n"
   ]
  }
 ],
 "metadata": {
  "kernelspec": {
   "display_name": "langchain",
   "language": "python",
   "name": "python3"
  },
  "language_info": {
   "codemirror_mode": {
    "name": "ipython",
    "version": 3
   },
   "file_extension": ".py",
   "mimetype": "text/x-python",
   "name": "python",
   "nbconvert_exporter": "python",
   "pygments_lexer": "ipython3",
   "version": "3.11.0"
  }
 },
 "nbformat": 4,
 "nbformat_minor": 2
}
