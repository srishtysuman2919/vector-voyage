{
 "cells": [
  {
   "cell_type": "code",
   "execution_count": 1,
   "metadata": {},
   "outputs": [],
   "source": [
    "'''\n",
    "    LangChain provides a variety of tools for agents to interact with the outside world. \n",
    "    These tools can be used to create custom agents that perform various tasks, such as searching the web, answering questions, or running Python code. \n",
    "    In this section, we will discuss the different tool types available in LangChain and provide examples of creating and using them.\n",
    "\n",
    "    In our example, two tools are being defined for use within a LangChain agent: a Google Search tool and a Language Model tool acting specifically as a text summarizer. \n",
    "    The Google Search tool, using the GoogleSearchAPIWrapper, will handle queries that involve finding recent event information. \n",
    "    The Language Model tool leverages the capabilities of a language model to summarize texts. \n",
    "    These tools are designed to be used interchangeably by the agent, depending on the nature of the user's query.\n",
    "'''\n",
    "\n",
    "from langchain.llms import OpenAI\n",
    "from langchain.agents import Tool\n",
    "from langchain.utilities import GoogleSearchAPIWrapper\n",
    "from langchain.prompts import PromptTemplate\n",
    "from langchain.chains import LLMChain\n",
    "from langchain.agents import initialize_agent, AgentType\n"
   ]
  },
  {
   "cell_type": "code",
   "execution_count": 2,
   "metadata": {},
   "outputs": [],
   "source": [
    "llm = OpenAI(model=\"gpt-3.5-turbo-instruct\", temperature=0)"
   ]
  },
  {
   "cell_type": "code",
   "execution_count": 3,
   "metadata": {},
   "outputs": [],
   "source": [
    "# We then instantiate a  LLMChain specifically for text summarization.\n",
    "prompt = PromptTemplate(\n",
    "    input_variables=[\"query\"],\n",
    "    template=\"Write a summary of the following text: {query}\"\n",
    ")"
   ]
  },
  {
   "cell_type": "code",
   "execution_count": 4,
   "metadata": {},
   "outputs": [],
   "source": [
    "summarize_chain = LLMChain(llm=llm, prompt=prompt)\n"
   ]
  },
  {
   "cell_type": "code",
   "execution_count": 5,
   "metadata": {},
   "outputs": [],
   "source": [
    "\n",
    "search = GoogleSearchAPIWrapper()"
   ]
  },
  {
   "cell_type": "code",
   "execution_count": 6,
   "metadata": {},
   "outputs": [],
   "source": [
    "# Next, we create the tools that our agent will use\n",
    "tools = [\n",
    "    Tool(\n",
    "        name=\"Search\",\n",
    "        func=search.run,\n",
    "        description=\"useful for finding information about recent events\"\n",
    "    ),\n",
    "    Tool(\n",
    "       name='Summarizer',\n",
    "       func=summarize_chain.run,\n",
    "       description='useful for summarizing texts'\n",
    "    )\n",
    "]"
   ]
  },
  {
   "cell_type": "code",
   "execution_count": 7,
   "metadata": {},
   "outputs": [],
   "source": [
    "# We are now ready to create our agent that leverages two tools\n",
    "agent = initialize_agent(\n",
    "    tools,\n",
    "    llm,\n",
    "    agent=AgentType.ZERO_SHOT_REACT_DESCRIPTION,\n",
    "    verbose=True  \n",
    ")\n"
   ]
  },
  {
   "cell_type": "code",
   "execution_count": 8,
   "metadata": {},
   "outputs": [
    {
     "name": "stdout",
     "output_type": "stream",
     "text": [
      "\n",
      "\n",
      "\u001b[1m> Entering new AgentExecutor chain...\u001b[0m\n",
      "\u001b[32;1m\u001b[1;3m I should use the Search tool to find recent news about the Mars rover.\n",
      "Action: Search\n",
      "Action Input: \"Mars rover news\"\u001b[0m\n",
      "Observation: \u001b[36;1m\u001b[1;3mThe Latest from Mars ... Videos from the rover show its shadow moving across the Martian surface during a 12-hour sequence while Curiosity remained parked. More ... Apr 25, 2023 ... The fully robotic Zhurong, named after a mythical Chinese god of fire, was expected to have woken up in December after entering a planned sleep ... A pair of quakes in 2021 sent seismic waves deep into the Red Planet's core, giving scientists the best data yet on its size and composition. ... Ten sample tubes ... Oct 19, 2022 ... ... Curiosity, visit: http://mars.nasa.gov/msl. Get the Latest JPL News. SUBSCRIBE TO THE NEWSLETTER. News Media Contact. Andrew Good. Jet ... NASA's Mars 2020 Perseverance rover will look for signs of past microbial life, cache rock and soil samples, and prepare for future human exploration. Dec 15, 2021 ... These and other findings were presented today during a news briefing at the American Geophysical Union fall science meeting in New Orleans. Even ... Latest News · NASA's Ingenuity Mars Helicopter is seen Aug. 2, 2023, in an enhanced-. January 25, 2024 · Opportunity Views Its Own Shadow. January 17, 2024 ... Dec 12, 2023 ... Marking its 1,000th Martian day on the Red Planet, NASA's Perseverance rover recently completed its exploration of the ancient river delta that ... The latest breaking news, comment and features from The Independent. Jul 19, 2023 ... So the team will be keeping their options open, ready to stop for anything that piques their curiosity. Get the Latest JPL News. SUBSCRIBE TO ...\u001b[0m\n",
      "Thought:\u001b[32;1m\u001b[1;3m Now I should use the Summarizer tool to summarize the results.\n",
      "Action: Summarizer\n",
      "Action Input: The Latest from Mars ... Videos from the rover show its shadow moving across the Martian surface during a 12-hour sequence while Curiosity remained parked. More ... Apr 25, 2023 ... The fully robotic Zhurong, named after a mythical Chinese god of fire, was expected to have woken up in December after entering a planned sleep ... A pair of quakes in 2021 sent seismic waves deep into the Red Planet's core, giving scientists the best data yet on its size and composition. ... Ten sample tubes ... Oct 19, 2022 ... ... Curiosity, visit: http://mars.nasa.gov/msl. Get the Latest JPL News. SUBSCRIBE TO THE NEWSLETTER. News Media Contact. Andrew Good. Jet ... NASA's Mars 2020 Perseverance rover will look for signs of past microbial life, cache rock and soil samples, and prepare for future human exploration. Dec 15, 2021 ... These and other findings were presented today during a news briefing at the American Geophysical Union fall science meeting in New Orleans. Even ... Latest News · NASA's Ingenuity Mars\u001b[0m\n",
      "Observation: \u001b[33;1m\u001b[1;3m Helicopter Completes First One-Way Trip \n",
      "\n",
      "The text discusses the latest updates and developments from Mars. It mentions videos from the rover showing its shadow moving across the Martian surface, as well as the expected awakening of the fully robotic Zhurong in December. The text also mentions two quakes in 2021 that provided scientists with valuable data on the size and composition of Mars. It also talks about the ten sample tubes collected by the rover Curiosity and provides a link for more information. The text also mentions NASA's Mars 2020 Perseverance rover and its mission to search for signs of past microbial life, collect samples, and prepare for future human exploration. Finally, it mentions a news briefing where findings from the American Geophysical Union fall science meeting were presented, including the successful completion of the first one-way trip by NASA's Ingenuity Mars Helicopter.\u001b[0m\n",
      "Thought:\u001b[32;1m\u001b[1;3m I now know the final answer.\n",
      "Final Answer: The latest news about the Mars rover includes updates on the rover's activities, the expected awakening of the Zhurong rover, data collected from two quakes, and the mission of NASA's Mars 2020 Perseverance rover. The latest development is the successful completion of the first one-way trip by NASA's Ingenuity Mars Helicopter.\u001b[0m\n",
      "\n",
      "\u001b[1m> Finished chain.\u001b[0m\n",
      "The latest news about the Mars rover includes updates on the rover's activities, the expected awakening of the Zhurong rover, data collected from two quakes, and the mission of NASA's Mars 2020 Perseverance rover. The latest development is the successful completion of the first one-way trip by NASA's Ingenuity Mars Helicopter.\n"
     ]
    }
   ],
   "source": [
    "# Let’s run the agent with a question about summarizing the latest news about the Mars rover\n",
    "response = agent(\"What's the latest news about the Mars rover? Then please summarize the results.\")\n",
    "print(response['output'])\n"
   ]
  },
  {
   "cell_type": "code",
   "execution_count": 9,
   "metadata": {},
   "outputs": [],
   "source": [
    "# Notice how the agents used at first the “Search” tool to look for recent information about the Mars rover and then used the “Summarizer” tool for writing a summary.\n",
    "# LangChain provides an expansive toolkit that integrates various functions to improve the functionality of conversational agents. Here are some examples:\n",
    "# SerpAPI: This tool is an interface for the SerpAPI search engine, allowing the agent to perform robust online searches to pull in relevant data for a conversation or task.\n",
    "# PythonREPLTool: This unique tool enables the writing and execution of Python code within an agent. This opens up a wide range of possibilities for advanced computations and interactions within the conversation.\n",
    "# If you wish to add more specialized capabilities to your LangChain conversational agent, the platform offers the flexibility to create custom tools. \n",
    "# By following the general tool creation guidelines provided in the LangChain documentation, you can develop tools tailored to the specific needs of your application.\n"
   ]
  }
 ],
 "metadata": {
  "kernelspec": {
   "display_name": "langchain",
   "language": "python",
   "name": "python3"
  },
  "language_info": {
   "codemirror_mode": {
    "name": "ipython",
    "version": 3
   },
   "file_extension": ".py",
   "mimetype": "text/x-python",
   "name": "python",
   "nbconvert_exporter": "python",
   "pygments_lexer": "ipython3",
   "version": "3.11.0"
  }
 },
 "nbformat": 4,
 "nbformat_minor": 2
}
