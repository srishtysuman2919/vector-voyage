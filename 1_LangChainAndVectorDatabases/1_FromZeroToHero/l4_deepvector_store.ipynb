{
 "cells": [
  {
   "cell_type": "code",
   "execution_count": 7,
   "metadata": {},
   "outputs": [
    {
     "name": "stdout",
     "output_type": "stream",
     "text": [
      "Requirement already satisfied: deeplake[enterprise] in /Users/srishtysuman/anaconda3/envs/langchain/lib/python3.11/site-packages (3.6.5)\n",
      "Collecting deeplake[enterprise]\n",
      "  Downloading deeplake-3.8.19.tar.gz (585 kB)\n",
      "\u001b[2K     \u001b[90m━━━━━━━━━━━━━━━━━━━━━━━━━━━━━━━━━━━━━\u001b[0m \u001b[32m585.8/585.8 kB\u001b[0m \u001b[31m225.4 kB/s\u001b[0m eta \u001b[36m0:00:00\u001b[0ma \u001b[36m0:00:01\u001b[0m\n",
      "\u001b[?25h  Installing build dependencies ... \u001b[?25ldone\n",
      "\u001b[?25h  Getting requirements to build wheel ... \u001b[?25ldone\n",
      "\u001b[?25h  Preparing metadata (pyproject.toml) ... \u001b[?25ldone\n",
      "\u001b[?25hRequirement already satisfied: numpy in /Users/srishtysuman/anaconda3/envs/langchain/lib/python3.11/site-packages (from deeplake[enterprise]) (1.26.3)\n",
      "Requirement already satisfied: pillow in /Users/srishtysuman/anaconda3/envs/langchain/lib/python3.11/site-packages (from deeplake[enterprise]) (9.5.0)\n",
      "Requirement already satisfied: boto3 in /Users/srishtysuman/anaconda3/envs/langchain/lib/python3.11/site-packages (from deeplake[enterprise]) (1.33.1)\n",
      "Requirement already satisfied: click in /Users/srishtysuman/.local/lib/python3.11/site-packages (from deeplake[enterprise]) (8.1.7)\n",
      "Requirement already satisfied: pathos in /Users/srishtysuman/anaconda3/envs/langchain/lib/python3.11/site-packages (from deeplake[enterprise]) (0.3.1)\n",
      "Requirement already satisfied: humbug>=0.3.1 in /Users/srishtysuman/anaconda3/envs/langchain/lib/python3.11/site-packages (from deeplake[enterprise]) (0.3.2)\n",
      "Requirement already satisfied: tqdm in /Users/srishtysuman/anaconda3/envs/langchain/lib/python3.11/site-packages (from deeplake[enterprise]) (4.66.1)\n",
      "Collecting lz4 (from deeplake[enterprise])\n",
      "  Downloading lz4-4.3.3-cp311-cp311-macosx_10_9_x86_64.whl.metadata (3.7 kB)\n",
      "Requirement already satisfied: pyjwt in /Users/srishtysuman/anaconda3/envs/langchain/lib/python3.11/site-packages (from deeplake[enterprise]) (2.8.0)\n",
      "Requirement already satisfied: pydantic in /Users/srishtysuman/anaconda3/envs/langchain/lib/python3.11/site-packages (from deeplake[enterprise]) (1.10.13)\n",
      "Collecting libdeeplake==0.0.99 (from deeplake[enterprise])\n",
      "  Downloading libdeeplake-0.0.99-cp311-cp311-macosx_10_12_x86_64.whl.metadata (346 bytes)\n",
      "Requirement already satisfied: aioboto3>=10.4.0 in /Users/srishtysuman/anaconda3/envs/langchain/lib/python3.11/site-packages (from deeplake[enterprise]) (12.1.0)\n",
      "Requirement already satisfied: nest-asyncio in /Users/srishtysuman/anaconda3/envs/langchain/lib/python3.11/site-packages (from deeplake[enterprise]) (1.6.0)\n",
      "Requirement already satisfied: dill in /Users/srishtysuman/anaconda3/envs/langchain/lib/python3.11/site-packages (from libdeeplake==0.0.99->deeplake[enterprise]) (0.3.7)\n",
      "Requirement already satisfied: aiobotocore==2.8.0 in /Users/srishtysuman/anaconda3/envs/langchain/lib/python3.11/site-packages (from aiobotocore[boto3]==2.8.0->aioboto3>=10.4.0->deeplake[enterprise]) (2.8.0)\n",
      "Requirement already satisfied: botocore<1.33.2,>=1.32.4 in /Users/srishtysuman/anaconda3/envs/langchain/lib/python3.11/site-packages (from aiobotocore==2.8.0->aiobotocore[boto3]==2.8.0->aioboto3>=10.4.0->deeplake[enterprise]) (1.33.1)\n",
      "Requirement already satisfied: aiohttp<4.0.0,>=3.7.4.post0 in /Users/srishtysuman/anaconda3/envs/langchain/lib/python3.11/site-packages (from aiobotocore==2.8.0->aiobotocore[boto3]==2.8.0->aioboto3>=10.4.0->deeplake[enterprise]) (3.9.1)\n",
      "Requirement already satisfied: wrapt<2.0.0,>=1.10.10 in /Users/srishtysuman/anaconda3/envs/langchain/lib/python3.11/site-packages (from aiobotocore==2.8.0->aiobotocore[boto3]==2.8.0->aioboto3>=10.4.0->deeplake[enterprise]) (1.14.1)\n",
      "Requirement already satisfied: aioitertools<1.0.0,>=0.5.1 in /Users/srishtysuman/anaconda3/envs/langchain/lib/python3.11/site-packages (from aiobotocore==2.8.0->aiobotocore[boto3]==2.8.0->aioboto3>=10.4.0->deeplake[enterprise]) (0.11.0)\n",
      "Requirement already satisfied: jmespath<2.0.0,>=0.7.1 in /Users/srishtysuman/anaconda3/envs/langchain/lib/python3.11/site-packages (from boto3->deeplake[enterprise]) (1.0.1)\n",
      "Requirement already satisfied: s3transfer<0.9.0,>=0.8.0 in /Users/srishtysuman/anaconda3/envs/langchain/lib/python3.11/site-packages (from boto3->deeplake[enterprise]) (0.8.0)\n",
      "Requirement already satisfied: requests in /Users/srishtysuman/anaconda3/envs/langchain/lib/python3.11/site-packages (from humbug>=0.3.1->deeplake[enterprise]) (2.31.0)\n",
      "Requirement already satisfied: ppft>=1.7.6.7 in /Users/srishtysuman/anaconda3/envs/langchain/lib/python3.11/site-packages (from pathos->deeplake[enterprise]) (1.7.6.7)\n",
      "Requirement already satisfied: pox>=0.3.3 in /Users/srishtysuman/anaconda3/envs/langchain/lib/python3.11/site-packages (from pathos->deeplake[enterprise]) (0.3.3)\n",
      "Requirement already satisfied: multiprocess>=0.70.15 in /Users/srishtysuman/anaconda3/envs/langchain/lib/python3.11/site-packages (from pathos->deeplake[enterprise]) (0.70.15)\n",
      "Requirement already satisfied: typing-extensions>=4.2.0 in /Users/srishtysuman/anaconda3/envs/langchain/lib/python3.11/site-packages (from pydantic->deeplake[enterprise]) (4.9.0)\n",
      "Requirement already satisfied: python-dateutil<3.0.0,>=2.1 in /Users/srishtysuman/anaconda3/envs/langchain/lib/python3.11/site-packages (from botocore<1.33.2,>=1.32.4->aiobotocore==2.8.0->aiobotocore[boto3]==2.8.0->aioboto3>=10.4.0->deeplake[enterprise]) (2.8.2)\n",
      "Requirement already satisfied: urllib3<2.1,>=1.25.4 in /Users/srishtysuman/anaconda3/envs/langchain/lib/python3.11/site-packages (from botocore<1.33.2,>=1.32.4->aiobotocore==2.8.0->aiobotocore[boto3]==2.8.0->aioboto3>=10.4.0->deeplake[enterprise]) (2.0.7)\n",
      "Requirement already satisfied: charset-normalizer<4,>=2 in /Users/srishtysuman/anaconda3/envs/langchain/lib/python3.11/site-packages (from requests->humbug>=0.3.1->deeplake[enterprise]) (3.3.2)\n",
      "Requirement already satisfied: idna<4,>=2.5 in /Users/srishtysuman/anaconda3/envs/langchain/lib/python3.11/site-packages (from requests->humbug>=0.3.1->deeplake[enterprise]) (3.6)\n",
      "Requirement already satisfied: certifi>=2017.4.17 in /Users/srishtysuman/anaconda3/envs/langchain/lib/python3.11/site-packages (from requests->humbug>=0.3.1->deeplake[enterprise]) (2023.11.17)\n",
      "Requirement already satisfied: attrs>=17.3.0 in /Users/srishtysuman/anaconda3/envs/langchain/lib/python3.11/site-packages (from aiohttp<4.0.0,>=3.7.4.post0->aiobotocore==2.8.0->aiobotocore[boto3]==2.8.0->aioboto3>=10.4.0->deeplake[enterprise]) (23.1.0)\n",
      "Requirement already satisfied: multidict<7.0,>=4.5 in /Users/srishtysuman/anaconda3/envs/langchain/lib/python3.11/site-packages (from aiohttp<4.0.0,>=3.7.4.post0->aiobotocore==2.8.0->aiobotocore[boto3]==2.8.0->aioboto3>=10.4.0->deeplake[enterprise]) (6.0.4)\n",
      "Requirement already satisfied: yarl<2.0,>=1.0 in /Users/srishtysuman/anaconda3/envs/langchain/lib/python3.11/site-packages (from aiohttp<4.0.0,>=3.7.4.post0->aiobotocore==2.8.0->aiobotocore[boto3]==2.8.0->aioboto3>=10.4.0->deeplake[enterprise]) (1.9.4)\n",
      "Requirement already satisfied: frozenlist>=1.1.1 in /Users/srishtysuman/anaconda3/envs/langchain/lib/python3.11/site-packages (from aiohttp<4.0.0,>=3.7.4.post0->aiobotocore==2.8.0->aiobotocore[boto3]==2.8.0->aioboto3>=10.4.0->deeplake[enterprise]) (1.4.1)\n",
      "Requirement already satisfied: aiosignal>=1.1.2 in /Users/srishtysuman/anaconda3/envs/langchain/lib/python3.11/site-packages (from aiohttp<4.0.0,>=3.7.4.post0->aiobotocore==2.8.0->aiobotocore[boto3]==2.8.0->aioboto3>=10.4.0->deeplake[enterprise]) (1.3.1)\n",
      "Requirement already satisfied: six>=1.5 in /Users/srishtysuman/anaconda3/envs/langchain/lib/python3.11/site-packages (from python-dateutil<3.0.0,>=2.1->botocore<1.33.2,>=1.32.4->aiobotocore==2.8.0->aiobotocore[boto3]==2.8.0->aioboto3>=10.4.0->deeplake[enterprise]) (1.16.0)\n",
      "Downloading libdeeplake-0.0.99-cp311-cp311-macosx_10_12_x86_64.whl (11.6 MB)\n",
      "\u001b[2K   \u001b[90m━━━━━━━━━━━━━━━━━━━━━━━━━━━━━━━━━━━━━━━━\u001b[0m \u001b[32m11.6/11.6 MB\u001b[0m \u001b[31m392.3 kB/s\u001b[0m eta \u001b[36m0:00:00\u001b[0m00:01\u001b[0m00:02\u001b[0m\n",
      "\u001b[?25hDownloading lz4-4.3.3-cp311-cp311-macosx_10_9_x86_64.whl (254 kB)\n",
      "\u001b[2K   \u001b[90m━━━━━━━━━━━━━━━━━━━━━━━━━━━━━━━━━━━━━━━\u001b[0m \u001b[32m254.3/254.3 kB\u001b[0m \u001b[31m273.3 kB/s\u001b[0m eta \u001b[36m0:00:00\u001b[0ma \u001b[36m0:00:01\u001b[0m\n",
      "\u001b[?25hBuilding wheels for collected packages: deeplake\n",
      "  Building wheel for deeplake (pyproject.toml) ... \u001b[?25ldone\n",
      "\u001b[?25h  Created wheel for deeplake: filename=deeplake-3.8.19-py3-none-any.whl size=704909 sha256=62b31c6e2a4e44ccf588b60d8237c704425b2eb99efb2805211c97596f0ed3f7\n",
      "  Stored in directory: /Users/srishtysuman/Library/Caches/pip/wheels/7d/b4/15/6cc68ce174cb85a95e8e719ead1d0832bac1b0d3db3645c6a7\n",
      "Successfully built deeplake\n",
      "Installing collected packages: lz4, libdeeplake, deeplake\n",
      "  Attempting uninstall: deeplake\n",
      "    Found existing installation: deeplake 3.6.5\n",
      "    Uninstalling deeplake-3.6.5:\n",
      "      Successfully uninstalled deeplake-3.6.5\n",
      "Successfully installed deeplake-3.8.19 libdeeplake-0.0.99 lz4-4.3.3\n"
     ]
    }
   ],
   "source": [
    "! pip install --upgrade 'deeplake[enterprise]'"
   ]
  },
  {
   "cell_type": "code",
   "execution_count": 2,
   "metadata": {},
   "outputs": [],
   "source": [
    "'''\n",
    "    Deep Lake provides storage for embeddings and their corresponding metadata in the context of LLM apps. \n",
    "    It enables hybrid searches on these embeddings and their attributes for efficient data retrieval. \n",
    "    It also integrates with LangChain, facilitating the development and deployment of applications.\n",
    "\n",
    "    Deep Lake provides several advantages over the typical vector store:\n",
    "    1. It’s multimodal, which means that it can be used to store items of diverse modalities, such as texts, images, audio, and video, along with their vector representations. \n",
    "    2. It’s serverless, which means that we can create and manage cloud datasets without creating and managing a database instance. This aspect gives a great speedup to new projects.\n",
    "    3. Last, it’s possible to easily create a data loader out of the data loaded into a Deep Lake dataset. \n",
    "       It is convenient for fine-tuning machine learning models using common frameworks like PyTorch and TensorFlow.\n",
    "\n",
    "'''\n",
    "\n",
    "from langchain.embeddings.openai import OpenAIEmbeddings\n",
    "from langchain.vectorstores.deeplake import DeepLake\n",
    "from langchain.text_splitter import RecursiveCharacterTextSplitter\n",
    "from langchain.llms import OpenAI\n",
    "from langchain.chains import RetrievalQA\n",
    "\n",
    "from langchain.agents import initialize_agent, Tool\n",
    "from langchain.agents import AgentType\n"
   ]
  },
  {
   "cell_type": "code",
   "execution_count": 3,
   "metadata": {},
   "outputs": [],
   "source": [
    "# instantiate the LLM and embeddings models\n",
    "llm = OpenAI(model=\"gpt-3.5-turbo-instruct\", temperature=0)\n",
    "embeddings = OpenAIEmbeddings(model=\"text-embedding-ada-002\")"
   ]
  },
  {
   "cell_type": "code",
   "execution_count": 4,
   "metadata": {},
   "outputs": [],
   "source": [
    "# create our documents\n",
    "texts = [\n",
    "    \"Napoleon Bonaparte was born in 15 August 1769\",\n",
    "    \"Louis XIV was born in 5 September 1638\"\n",
    "]\n",
    "text_splitter = RecursiveCharacterTextSplitter(chunk_size=1000, chunk_overlap=0)\n",
    "docs = text_splitter.create_documents(texts)\n"
   ]
  },
  {
   "cell_type": "code",
   "execution_count": 5,
   "metadata": {},
   "outputs": [
    {
     "name": "stderr",
     "output_type": "stream",
     "text": [
      "Using embedding function is deprecated and will be removed in the future. Please use embedding instead.\n",
      "Creating 2 embeddings in 1 batches of size 2:: 100%|██████████| 1/1 [00:10<00:00, 10.89s/it]"
     ]
    },
    {
     "name": "stdout",
     "output_type": "stream",
     "text": [
      "Dataset(path='https:/app.activeloop.ai/srishtysuman2919/langchain_course_from_zero_to_hero', tensors=['text', 'metadata', 'embedding', 'id'])\n",
      "\n",
      "  tensor      htype      shape     dtype  compression\n",
      "  -------    -------    -------   -------  ------- \n",
      "   text       text      (2, 1)      str     None   \n",
      " metadata     json      (2, 1)      str     None   \n",
      " embedding  embedding  (2, 1536)  float32   None   \n",
      "    id        text      (2, 1)      str     None   \n"
     ]
    },
    {
     "name": "stderr",
     "output_type": "stream",
     "text": [
      "\n"
     ]
    },
    {
     "data": {
      "text/plain": [
       "['7c74a188-c65b-11ee-9b1a-acde48001122',\n",
       " '7c74a25a-c65b-11ee-9b1a-acde48001122']"
      ]
     },
     "execution_count": 5,
     "metadata": {},
     "output_type": "execute_result"
    }
   ],
   "source": [
    "my_activeloop_org_id = \"srishtysuman2919\" \n",
    "my_activeloop_dataset_name = \"langchain_course_from_zero_to_hero\"\n",
    "dataset_path = \"https:/app.activeloop.ai/srishtysuman2919/langchain_course_from_zero_to_hero\"\n",
    "db = DeepLake(dataset_path=dataset_path, embedding_function=embeddings)\n",
    "\n",
    "# # add documents to our Deep Lake dataset\n",
    "db.add_documents(docs)\n"
   ]
  },
  {
   "cell_type": "code",
   "execution_count": 6,
   "metadata": {},
   "outputs": [],
   "source": [
    "# let's create a RetrievalQA chain\n",
    "retrieval_qa = RetrievalQA.from_chain_type(\n",
    "\tllm=llm,\n",
    "\tchain_type=\"stuff\",\n",
    "\tretriever=db.as_retriever()\n",
    ")"
   ]
  },
  {
   "cell_type": "code",
   "execution_count": 7,
   "metadata": {},
   "outputs": [],
   "source": [
    "# Next, let's create an agent that uses the RetrievalQA chain as a tool\n",
    "tools = [\n",
    "    Tool(\n",
    "        name=\"Retrieval QA System\",\n",
    "        func=retrieval_qa.run,\n",
    "        description=\"Useful for answering questions.\"\n",
    "    ),\n",
    "]"
   ]
  },
  {
   "cell_type": "code",
   "execution_count": 8,
   "metadata": {},
   "outputs": [],
   "source": [
    "agent = initialize_agent(\n",
    "\ttools,\n",
    "\tllm,\n",
    "\tagent=AgentType.ZERO_SHOT_REACT_DESCRIPTION,\n",
    "\tverbose=True,\n",
    "    max_iterations=6\n",
    ")"
   ]
  },
  {
   "cell_type": "code",
   "execution_count": 9,
   "metadata": {},
   "outputs": [
    {
     "name": "stdout",
     "output_type": "stream",
     "text": [
      "\n",
      "\n",
      "\u001b[1m> Entering new AgentExecutor chain...\u001b[0m\n",
      "\u001b[32;1m\u001b[1;3m I should use the Retrieval QA System to answer this question\n",
      "Action: Retrieval QA System\n",
      "Action Input: When was Napoleone born?\u001b[0m\n",
      "Observation: \u001b[36;1m\u001b[1;3m\n",
      "Napoleon Bonaparte was born in 15 August 1769.\u001b[0m\n",
      "Thought:\u001b[32;1m\u001b[1;3m I now know the final answer\n",
      "Final Answer: Napoleon Bonaparte was born in 15 August 1769.\u001b[0m\n",
      "\n",
      "\u001b[1m> Finished chain.\u001b[0m\n",
      "Napoleon Bonaparte was born in 15 August 1769.\n"
     ]
    }
   ],
   "source": [
    "# Finally, we can use the agent to ask a question:\n",
    "response = agent.run(\"When was Napoleone born?\")\n",
    "print(response)"
   ]
  },
  {
   "cell_type": "code",
   "execution_count": 10,
   "metadata": {},
   "outputs": [
    {
     "name": "stdout",
     "output_type": "stream",
     "text": [
      "True\n"
     ]
    }
   ],
   "source": [
    "from dotenv import load_dotenv\n",
    "load_dotenv('/Users/srishtysuman/.env')\n",
    "print(load_dotenv('/Users/srishtysuman/.env'))"
   ]
  },
  {
   "cell_type": "code",
   "execution_count": 11,
   "metadata": {},
   "outputs": [
    {
     "name": "stderr",
     "output_type": "stream",
     "text": [
      "Using embedding function is deprecated and will be removed in the future. Please use embedding instead.\n"
     ]
    },
    {
     "name": "stdout",
     "output_type": "stream",
     "text": [
      "Deep Lake Dataset in https:/app.activeloop.ai/srishtysuman2919/langchain_course_from_zero_to_hero already exists, loading from the storage\n"
     ]
    }
   ],
   "source": [
    "# We should see something similar to the following printed output. \n",
    "# Here, the agent used the “Retrieval QA System” tool with the query “When was Napoleone born?” \n",
    "# which is then run on our new Deep Lake dataset, returning the most similar document \n",
    "# (i.e., the document containing the date of birth of Napoleon). This document is eventually used to generate the final output.\n",
    "\n",
    "\n",
    "\n",
    "# Let’s add an example of reloading an existing vector store and adding more data\n",
    "# load the existing Deep Lake dataset and specify the embedding function\n",
    "db = DeepLake(dataset_path=dataset_path, embedding_function=embeddings)\n"
   ]
  },
  {
   "cell_type": "code",
   "execution_count": 12,
   "metadata": {},
   "outputs": [
    {
     "name": "stderr",
     "output_type": "stream",
     "text": [
      "Creating 2 embeddings in 1 batches of size 2:: 100%|██████████| 1/1 [00:00<00:00,  1.02it/s]"
     ]
    },
    {
     "name": "stdout",
     "output_type": "stream",
     "text": [
      "Dataset(path='https:/app.activeloop.ai/srishtysuman2919/langchain_course_from_zero_to_hero', tensors=['embedding', 'id', 'metadata', 'text'])\n",
      "\n",
      "  tensor      htype      shape     dtype  compression\n",
      "  -------    -------    -------   -------  ------- \n",
      " embedding  embedding  (4, 1536)  float32   None   \n",
      "    id        text      (4, 1)      str     None   \n",
      " metadata     json      (4, 1)      str     None   \n",
      "   text       text      (4, 1)      str     None   \n"
     ]
    },
    {
     "name": "stderr",
     "output_type": "stream",
     "text": [
      "\n"
     ]
    },
    {
     "data": {
      "text/plain": [
       "['c894c610-c65b-11ee-9b1a-acde48001122',\n",
       " 'c894c6ec-c65b-11ee-9b1a-acde48001122']"
      ]
     },
     "execution_count": 12,
     "metadata": {},
     "output_type": "execute_result"
    }
   ],
   "source": [
    "# create new documents\n",
    "texts = [\n",
    "    \"Lady Gaga was born in 28 March 1986\",\n",
    "    \"Michael Jeffrey Jordan was born in 17 February 1963\"\n",
    "]\n",
    "text_splitter = RecursiveCharacterTextSplitter(chunk_size=1000, chunk_overlap=0)\n",
    "docs = text_splitter.create_documents(texts)\n",
    "\n",
    "# add documents to our Deep Lake dataset\n",
    "db.add_documents(docs)\n"
   ]
  },
  {
   "cell_type": "code",
   "execution_count": 13,
   "metadata": {},
   "outputs": [],
   "source": [
    "# We then recreate our previous agent and ask a question that can be answered only by the last documents added\n",
    "# instantiate the wrapper class for GPT3\n",
    "llm = OpenAI(model=\"gpt-3.5-turbo-instruct\", temperature=0)\n"
   ]
  },
  {
   "cell_type": "code",
   "execution_count": 14,
   "metadata": {},
   "outputs": [
    {
     "name": "stdout",
     "output_type": "stream",
     "text": [
      "\n",
      "\n",
      "\u001b[1m> Entering new AgentExecutor chain...\u001b[0m\n",
      "\u001b[32;1m\u001b[1;3m I should use the Retrieval QA System to find the answer.\n",
      "Action: Retrieval QA System\n",
      "Action Input: \"When was Michael Jordan born?\"\u001b[0m\n",
      "Observation: \u001b[36;1m\u001b[1;3m Michael Jordan was born on 17 February 1963.\u001b[0m\n",
      "Thought:\u001b[32;1m\u001b[1;3m I now know the final answer.\n",
      "Final Answer: Michael Jordan was born on 17 February 1963.\u001b[0m\n",
      "\n",
      "\u001b[1m> Finished chain.\u001b[0m\n",
      "Michael Jordan was born on 17 February 1963.\n"
     ]
    }
   ],
   "source": [
    "# create a retriever from the db\n",
    "retrieval_qa = RetrievalQA.from_chain_type(\n",
    "\tllm=llm, chain_type=\"stuff\", retriever=db.as_retriever()\n",
    ")\n",
    "\n",
    "# instantiate a tool that uses the retriever\n",
    "tools = [\n",
    "    Tool(\n",
    "        name=\"Retrieval QA System\",\n",
    "        func=retrieval_qa.run,\n",
    "        description=\"Useful for answering questions.\"\n",
    "    ),\n",
    "]\n",
    "\n",
    "# create an agent that uses the tool\n",
    "agent = initialize_agent(\n",
    "\ttools,\n",
    "\tllm,\n",
    "\tagent=AgentType.ZERO_SHOT_REACT_DESCRIPTION,\n",
    "\tverbose=True\n",
    ")\n",
    "\n",
    "# Let’s now test our agent with a new question\n",
    "response = agent.run(\"When was Michael Jordan born?\")\n",
    "print(response)\n",
    "\n",
    "# The LLM successfully retrieves accurate information by using the power of Deep Lake as a vector store and the OpenAI language model."
   ]
  },
  {
   "cell_type": "code",
   "execution_count": null,
   "metadata": {},
   "outputs": [],
   "source": []
  }
 ],
 "metadata": {
  "kernelspec": {
   "display_name": "langchain",
   "language": "python",
   "name": "python3"
  },
  "language_info": {
   "codemirror_mode": {
    "name": "ipython",
    "version": 3
   },
   "file_extension": ".py",
   "mimetype": "text/x-python",
   "name": "python",
   "nbconvert_exporter": "python",
   "pygments_lexer": "ipython3",
   "version": "3.11.0"
  }
 },
 "nbformat": 4,
 "nbformat_minor": 2
}
