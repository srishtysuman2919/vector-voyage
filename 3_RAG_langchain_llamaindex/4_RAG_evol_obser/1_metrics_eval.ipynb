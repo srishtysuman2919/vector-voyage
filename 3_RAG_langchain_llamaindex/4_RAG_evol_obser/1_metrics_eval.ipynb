{
 "cells": [
  {
   "cell_type": "code",
   "execution_count": 1,
   "metadata": {},
   "outputs": [],
   "source": [
    "from llama_index import ServiceContext\n",
    "from llama_index.llms import OpenAI\n",
    "from llama_index.vector_stores import DeepLakeVectorStore\n",
    "from llama_index.storage.storage_context import StorageContext\n",
    "from llama_index import VectorStoreIndex\n",
    "from llama_index.evaluation import FaithfulnessEvaluator"
   ]
  },
  {
   "cell_type": "code",
   "execution_count": 2,
   "metadata": {},
   "outputs": [],
   "source": [
    "llm = OpenAI(model=\"gpt-3.5-turbo-instruct\", temperature=0.0)"
   ]
  },
  {
   "cell_type": "code",
   "execution_count": 3,
   "metadata": {},
   "outputs": [],
   "source": [
    "# build service context\n",
    "service_context = ServiceContext.from_defaults(llm=llm)"
   ]
  },
  {
   "cell_type": "code",
   "execution_count": 4,
   "metadata": {},
   "outputs": [
    {
     "name": "stdout",
     "output_type": "stream",
     "text": [
      "Deep Lake Dataset in hub://srishtysuman2919/optimization_srishty already exists, loading from the storage\n"
     ]
    }
   ],
   "source": [
    "vector_store = DeepLakeVectorStore(dataset_path=\"hub://srishtysuman2919/optimization_srishty\", overwrite=False)"
   ]
  },
  {
   "cell_type": "code",
   "execution_count": 5,
   "metadata": {},
   "outputs": [],
   "source": [
    "storage_context = StorageContext.from_defaults(vector_store=vector_store)"
   ]
  },
  {
   "cell_type": "code",
   "execution_count": 6,
   "metadata": {},
   "outputs": [],
   "source": [
    "index = VectorStoreIndex.from_vector_store(vector_store, storage_context=storage_context)"
   ]
  },
  {
   "cell_type": "code",
   "execution_count": 7,
   "metadata": {},
   "outputs": [],
   "source": [
    "# define evaluator\n",
    "evaluator = FaithfulnessEvaluator(service_context=service_context)"
   ]
  },
  {
   "cell_type": "code",
   "execution_count": 8,
   "metadata": {},
   "outputs": [],
   "source": [
    "# query index\n",
    "query_engine = index.as_query_engine()"
   ]
  },
  {
   "cell_type": "code",
   "execution_count": 10,
   "metadata": {},
   "outputs": [],
   "source": [
    "response = query_engine.query(\"What does Paul Graham do?\")"
   ]
  },
  {
   "cell_type": "code",
   "execution_count": 11,
   "metadata": {},
   "outputs": [],
   "source": [
    "eval_result = evaluator.evaluate_response(response=response)"
   ]
  },
  {
   "cell_type": "code",
   "execution_count": 12,
   "metadata": {},
   "outputs": [
    {
     "name": "stdout",
     "output_type": "stream",
     "text": [
      "> response: Paul Graham is involved in startup funding and mentoring. He created a program called the Summer Founders Program, where he invited undergraduates to apply for funding and mentorship for their startup ideas. He selected a group of founders to fund and provided them with financial support and resources. Additionally, he organized talks by experts on startups and used his essays as a way to attract potential founders for his program.\n",
      "> evaluator result: True\n"
     ]
    }
   ],
   "source": [
    "print( \"> response:\", response )\n",
    "\n",
    "print( \"> evaluator result:\", eval_result.passing )"
   ]
  },
  {
   "cell_type": "markdown",
   "metadata": {},
   "source": [
    "    MRR: measures the retrieval system's ability to return the best result as high up in the ranking as possible.\n",
    "\n",
    "    Hit Rate: evaluates the presence of relevant items within the top results returned.\n",
    "\n",
    "    MAP (Mean Average Precision): measure of ranking quality across multiple queries. MAP calculates the mean of the average precisions for each query, where the average precision is computed as the mean of the precision scores after each relevant document is retrieved.\n",
    "\n",
    "    NDCG (Normalized Discounted Cumulative Gain): Evaluates the ranking of documents based on their relevance, giving more importance to relevant documents that appear higher in the ranking. It is normalized so that the perfect ranking's score is 1, allowing for comparison across different sets of queries."
   ]
  },
  {
   "cell_type": "markdown",
   "metadata": {},
   "source": [
    "Golden Context Dataset\n",
    "\n",
    "    Consist of carefully selected queries paired with an ideally matched set of sources that contain the answers.\n",
    "\n",
    "    To create a Golden Dataset, gather a set of realistic customer questions and pair them with expert answers, then use this dataset to compare against responses from a language model for quality assurance, ensuring the LLM's answers align closely with the expert ones for accuracy and relevance.\n",
    "\n",
    "    Once the golden dataset is ready, the next step is to use it to measure the quality of LLM responses.  After each evaluation, metrics like the following will be available to quantify the user experience."
   ]
  },
  {
   "cell_type": "markdown",
   "metadata": {},
   "source": [
    "Community-Based Evaluation Tools\n",
    "\n",
    "    Ragas: Another key tool that provides a framework for evaluating and integrating with LlamaIndex, offering detailed metrics.\n",
    "    \n",
    "    DeepEval: A tool designed for in-depth evaluation, facilitating comprehensive assessments of various aspects of the system."
   ]
  },
  {
   "cell_type": "code",
   "execution_count": 13,
   "metadata": {},
   "outputs": [
    {
     "name": "stdout",
     "output_type": "stream",
     "text": [
      "Requirement already satisfied: html2text in /Users/srishtysuman/anaconda3/envs/langchain/lib/python3.11/site-packages (2020.1.16)\n",
      "Collecting ragas\n",
      "  Downloading ragas-0.1.0-py3-none-any.whl.metadata (4.7 kB)\n",
      "Requirement already satisfied: numpy in /Users/srishtysuman/anaconda3/envs/langchain/lib/python3.11/site-packages (from ragas) (1.26.3)\n",
      "Requirement already satisfied: datasets in /Users/srishtysuman/anaconda3/envs/langchain/lib/python3.11/site-packages (from ragas) (2.16.1)\n",
      "Requirement already satisfied: tiktoken in /Users/srishtysuman/anaconda3/envs/langchain/lib/python3.11/site-packages (from ragas) (0.5.2)\n",
      "Requirement already satisfied: langchain in /Users/srishtysuman/anaconda3/envs/langchain/lib/python3.11/site-packages (from ragas) (0.1.6)\n",
      "Requirement already satisfied: langchain-core in /Users/srishtysuman/anaconda3/envs/langchain/lib/python3.11/site-packages (from ragas) (0.1.22)\n",
      "Requirement already satisfied: langchain-community in /Users/srishtysuman/anaconda3/envs/langchain/lib/python3.11/site-packages (from ragas) (0.0.19)\n",
      "Collecting langchain-openai (from ragas)\n",
      "  Downloading langchain_openai-0.0.5-py3-none-any.whl.metadata (2.5 kB)\n",
      "Requirement already satisfied: openai>1 in /Users/srishtysuman/anaconda3/envs/langchain/lib/python3.11/site-packages (from ragas) (1.12.0)\n",
      "Collecting pysbd>=0.3.4 (from ragas)\n",
      "  Downloading pysbd-0.3.4-py3-none-any.whl (71 kB)\n",
      "\u001b[2K     \u001b[90m━━━━━━━━━━━━━━━━━━━━━━━━━━━━━━━━━━━━━━━\u001b[0m \u001b[32m71.1/71.1 kB\u001b[0m \u001b[31m812.4 kB/s\u001b[0m eta \u001b[36m0:00:00\u001b[0m \u001b[36m0:00:01\u001b[0m\n",
      "\u001b[?25hRequirement already satisfied: nest-asyncio in /Users/srishtysuman/anaconda3/envs/langchain/lib/python3.11/site-packages (from ragas) (1.6.0)\n",
      "Collecting appdirs (from ragas)\n",
      "  Downloading appdirs-1.4.4-py2.py3-none-any.whl (9.6 kB)\n",
      "Requirement already satisfied: anyio<5,>=3.5.0 in /Users/srishtysuman/anaconda3/envs/langchain/lib/python3.11/site-packages (from openai>1->ragas) (3.7.1)\n",
      "Requirement already satisfied: distro<2,>=1.7.0 in /Users/srishtysuman/anaconda3/envs/langchain/lib/python3.11/site-packages (from openai>1->ragas) (1.9.0)\n",
      "Requirement already satisfied: httpx<1,>=0.23.0 in /Users/srishtysuman/anaconda3/envs/langchain/lib/python3.11/site-packages (from openai>1->ragas) (0.25.0)\n",
      "Requirement already satisfied: pydantic<3,>=1.9.0 in /Users/srishtysuman/anaconda3/envs/langchain/lib/python3.11/site-packages (from openai>1->ragas) (2.6.1)\n",
      "Requirement already satisfied: sniffio in /Users/srishtysuman/anaconda3/envs/langchain/lib/python3.11/site-packages (from openai>1->ragas) (1.3.0)\n",
      "Requirement already satisfied: tqdm>4 in /Users/srishtysuman/anaconda3/envs/langchain/lib/python3.11/site-packages (from openai>1->ragas) (4.66.1)\n",
      "Requirement already satisfied: typing-extensions<5,>=4.7 in /Users/srishtysuman/anaconda3/envs/langchain/lib/python3.11/site-packages (from openai>1->ragas) (4.9.0)\n",
      "Requirement already satisfied: filelock in /Users/srishtysuman/anaconda3/envs/langchain/lib/python3.11/site-packages (from datasets->ragas) (3.13.1)\n",
      "Requirement already satisfied: pyarrow>=8.0.0 in /Users/srishtysuman/anaconda3/envs/langchain/lib/python3.11/site-packages (from datasets->ragas) (14.0.2)\n",
      "Requirement already satisfied: pyarrow-hotfix in /Users/srishtysuman/anaconda3/envs/langchain/lib/python3.11/site-packages (from datasets->ragas) (0.6)\n",
      "Requirement already satisfied: dill<0.3.8,>=0.3.0 in /Users/srishtysuman/anaconda3/envs/langchain/lib/python3.11/site-packages (from datasets->ragas) (0.3.7)\n",
      "Requirement already satisfied: pandas in /Users/srishtysuman/anaconda3/envs/langchain/lib/python3.11/site-packages (from datasets->ragas) (1.5.3)\n",
      "Requirement already satisfied: requests>=2.19.0 in /Users/srishtysuman/anaconda3/envs/langchain/lib/python3.11/site-packages (from datasets->ragas) (2.31.0)\n",
      "Requirement already satisfied: xxhash in /Users/srishtysuman/anaconda3/envs/langchain/lib/python3.11/site-packages (from datasets->ragas) (3.4.1)\n",
      "Requirement already satisfied: multiprocess in /Users/srishtysuman/anaconda3/envs/langchain/lib/python3.11/site-packages (from datasets->ragas) (0.70.15)\n",
      "Requirement already satisfied: fsspec<=2023.10.0,>=2023.1.0 in /Users/srishtysuman/anaconda3/envs/langchain/lib/python3.11/site-packages (from fsspec[http]<=2023.10.0,>=2023.1.0->datasets->ragas) (2023.10.0)\n",
      "Requirement already satisfied: aiohttp in /Users/srishtysuman/anaconda3/envs/langchain/lib/python3.11/site-packages (from datasets->ragas) (3.9.1)\n",
      "Requirement already satisfied: huggingface-hub>=0.19.4 in /Users/srishtysuman/anaconda3/envs/langchain/lib/python3.11/site-packages (from datasets->ragas) (0.20.1)\n",
      "Requirement already satisfied: packaging in /Users/srishtysuman/anaconda3/envs/langchain/lib/python3.11/site-packages (from datasets->ragas) (23.2)\n",
      "Requirement already satisfied: pyyaml>=5.1 in /Users/srishtysuman/anaconda3/envs/langchain/lib/python3.11/site-packages (from datasets->ragas) (6.0.1)\n",
      "Requirement already satisfied: SQLAlchemy<3,>=1.4 in /Users/srishtysuman/anaconda3/envs/langchain/lib/python3.11/site-packages (from langchain->ragas) (2.0.24)\n",
      "Requirement already satisfied: dataclasses-json<0.7,>=0.5.7 in /Users/srishtysuman/anaconda3/envs/langchain/lib/python3.11/site-packages (from langchain->ragas) (0.5.14)\n",
      "Requirement already satisfied: jsonpatch<2.0,>=1.33 in /Users/srishtysuman/anaconda3/envs/langchain/lib/python3.11/site-packages (from langchain->ragas) (1.33)\n",
      "Requirement already satisfied: langsmith<0.1,>=0.0.83 in /Users/srishtysuman/anaconda3/envs/langchain/lib/python3.11/site-packages (from langchain->ragas) (0.0.87)\n",
      "Requirement already satisfied: tenacity<9.0.0,>=8.1.0 in /Users/srishtysuman/anaconda3/envs/langchain/lib/python3.11/site-packages (from langchain->ragas) (8.2.3)\n",
      "Requirement already satisfied: regex>=2022.1.18 in /Users/srishtysuman/anaconda3/envs/langchain/lib/python3.11/site-packages (from tiktoken->ragas) (2023.12.25)\n",
      "Requirement already satisfied: attrs>=17.3.0 in /Users/srishtysuman/anaconda3/envs/langchain/lib/python3.11/site-packages (from aiohttp->datasets->ragas) (23.1.0)\n",
      "Requirement already satisfied: multidict<7.0,>=4.5 in /Users/srishtysuman/anaconda3/envs/langchain/lib/python3.11/site-packages (from aiohttp->datasets->ragas) (6.0.4)\n",
      "Requirement already satisfied: yarl<2.0,>=1.0 in /Users/srishtysuman/anaconda3/envs/langchain/lib/python3.11/site-packages (from aiohttp->datasets->ragas) (1.9.4)\n",
      "Requirement already satisfied: frozenlist>=1.1.1 in /Users/srishtysuman/anaconda3/envs/langchain/lib/python3.11/site-packages (from aiohttp->datasets->ragas) (1.4.1)\n",
      "Requirement already satisfied: aiosignal>=1.1.2 in /Users/srishtysuman/anaconda3/envs/langchain/lib/python3.11/site-packages (from aiohttp->datasets->ragas) (1.3.1)\n",
      "Requirement already satisfied: idna>=2.8 in /Users/srishtysuman/anaconda3/envs/langchain/lib/python3.11/site-packages (from anyio<5,>=3.5.0->openai>1->ragas) (3.6)\n",
      "Requirement already satisfied: marshmallow<4.0.0,>=3.18.0 in /Users/srishtysuman/anaconda3/envs/langchain/lib/python3.11/site-packages (from dataclasses-json<0.7,>=0.5.7->langchain->ragas) (3.20.1)\n",
      "Requirement already satisfied: typing-inspect<1,>=0.4.0 in /Users/srishtysuman/anaconda3/envs/langchain/lib/python3.11/site-packages (from dataclasses-json<0.7,>=0.5.7->langchain->ragas) (0.9.0)\n",
      "Requirement already satisfied: certifi in /Users/srishtysuman/anaconda3/envs/langchain/lib/python3.11/site-packages (from httpx<1,>=0.23.0->openai>1->ragas) (2023.11.17)\n",
      "Requirement already satisfied: httpcore<0.19.0,>=0.18.0 in /Users/srishtysuman/anaconda3/envs/langchain/lib/python3.11/site-packages (from httpx<1,>=0.23.0->openai>1->ragas) (0.18.0)\n",
      "Requirement already satisfied: jsonpointer>=1.9 in /Users/srishtysuman/anaconda3/envs/langchain/lib/python3.11/site-packages (from jsonpatch<2.0,>=1.33->langchain->ragas) (2.4)\n",
      "Requirement already satisfied: annotated-types>=0.4.0 in /Users/srishtysuman/anaconda3/envs/langchain/lib/python3.11/site-packages (from pydantic<3,>=1.9.0->openai>1->ragas) (0.6.0)\n",
      "Requirement already satisfied: pydantic-core==2.16.2 in /Users/srishtysuman/anaconda3/envs/langchain/lib/python3.11/site-packages (from pydantic<3,>=1.9.0->openai>1->ragas) (2.16.2)\n",
      "Requirement already satisfied: charset-normalizer<4,>=2 in /Users/srishtysuman/anaconda3/envs/langchain/lib/python3.11/site-packages (from requests>=2.19.0->datasets->ragas) (3.3.2)\n",
      "Requirement already satisfied: urllib3<3,>=1.21.1 in /Users/srishtysuman/anaconda3/envs/langchain/lib/python3.11/site-packages (from requests>=2.19.0->datasets->ragas) (2.0.7)\n",
      "Requirement already satisfied: greenlet!=0.4.17 in /Users/srishtysuman/anaconda3/envs/langchain/lib/python3.11/site-packages (from SQLAlchemy<3,>=1.4->langchain->ragas) (3.0.3)\n",
      "Requirement already satisfied: python-dateutil>=2.8.1 in /Users/srishtysuman/anaconda3/envs/langchain/lib/python3.11/site-packages (from pandas->datasets->ragas) (2.8.2)\n",
      "Requirement already satisfied: pytz>=2020.1 in /Users/srishtysuman/anaconda3/envs/langchain/lib/python3.11/site-packages (from pandas->datasets->ragas) (2023.3.post1)\n",
      "Requirement already satisfied: h11<0.15,>=0.13 in /Users/srishtysuman/anaconda3/envs/langchain/lib/python3.11/site-packages (from httpcore<0.19.0,>=0.18.0->httpx<1,>=0.23.0->openai>1->ragas) (0.14.0)\n",
      "Requirement already satisfied: six>=1.5 in /Users/srishtysuman/anaconda3/envs/langchain/lib/python3.11/site-packages (from python-dateutil>=2.8.1->pandas->datasets->ragas) (1.16.0)\n",
      "Requirement already satisfied: mypy-extensions>=0.3.0 in /Users/srishtysuman/anaconda3/envs/langchain/lib/python3.11/site-packages (from typing-inspect<1,>=0.4.0->dataclasses-json<0.7,>=0.5.7->langchain->ragas) (1.0.0)\n",
      "Downloading ragas-0.1.0-py3-none-any.whl (65 kB)\n",
      "\u001b[2K   \u001b[90m━━━━━━━━━━━━━━━━━━━━━━━━━━━━━━━━━━━━━━━━\u001b[0m \u001b[32m65.4/65.4 kB\u001b[0m \u001b[31m690.5 kB/s\u001b[0m eta \u001b[36m0:00:00\u001b[0ma \u001b[36m0:00:01\u001b[0m\n",
      "\u001b[?25hDownloading langchain_openai-0.0.5-py3-none-any.whl (29 kB)\n",
      "Installing collected packages: appdirs, pysbd, langchain-openai, ragas\n",
      "Successfully installed appdirs-1.4.4 langchain-openai-0.0.5 pysbd-0.3.4 ragas-0.1.0\n"
     ]
    }
   ],
   "source": [
    "! pip install html2text ragas"
   ]
  },
  {
   "cell_type": "code",
   "execution_count": 14,
   "metadata": {},
   "outputs": [
    {
     "name": "stdout",
     "output_type": "stream",
     "text": [
      "New York City got its name when King Charles II of England granted the lands to his brother, the Duke of York. The city was renamed New York in honor of the Duke of York.\n"
     ]
    }
   ],
   "source": [
    "from llama_index.readers.web import SimpleWebPageReader\n",
    "from llama_index import VectorStoreIndex, ServiceContext\n",
    "\n",
    "documents = SimpleWebPageReader(html_to_text=True).load_data( [\"https://en.wikipedia.org/wiki/New_York_City\"] )\n",
    "\n",
    "vector_index = VectorStoreIndex.from_documents(documents, service_context=ServiceContext.from_defaults(chunk_size=512))\n",
    "\n",
    "query_engine = vector_index.as_query_engine()\n",
    "\n",
    "response_vector = query_engine.query(\"How did New York City get its name?\")\n",
    "\n",
    "print(response_vector)"
   ]
  },
  {
   "cell_type": "code",
   "execution_count": 15,
   "metadata": {},
   "outputs": [],
   "source": [
    "eval_questions = [\n",
    "    \"What is the population of New York City as of 2020?\",\n",
    "    \"Which borough of New York City has the highest population?\",\n",
    "    \"What is the economic significance of New York City?\",\n",
    "    \"How did New York City get its name?\",\n",
    "    \"What is the significance of the Statue of Liberty in New York City?\",\n",
    "]\n",
    "\n",
    "eval_answers = [\n",
    "    \"8,804,000\",  # incorrect answer\n",
    "    \"Queens\",  # incorrect answer\n",
    "    \"New York City's economic significance is vast, as it serves as the global financial capital, housing Wall Street and major financial institutions. Its diverse economy spans technology, media, healthcare, education, and more, making it resilient to economic fluctuations. NYC is a hub for international business, attracting global companies, and boasts a large, skilled labor force. Its real estate market, tourism, cultural industries, and educational institutions further fuel its economic prowess. The city's transportation network and global influence amplify its impact on the world stage, solidifying its status as a vital economic player and cultural epicenter.\",\n",
    "    \"New York City got its name when it came under British control in 1664. King Charles II of England granted the lands to his brother, the Duke of York, who named the city New York in his own honor.\",\n",
    "    \"The Statue of Liberty in New York City holds great significance as a symbol of the United States and its ideals of liberty and peace. It greeted millions of immigrants who arrived in the U.S. by ship in the late 19th and early 20th centuries, representing hope and freedom for those seeking a better life. It has since become an iconic landmark and a global symbol of cultural diversity and freedom.\",\n",
    "]\n",
    "\n",
    "eval_answers = [[a] for a in eval_answers]"
   ]
  },
  {
   "cell_type": "code",
   "execution_count": 16,
   "metadata": {},
   "outputs": [
    {
     "name": "stderr",
     "output_type": "stream",
     "text": [
      "/Users/srishtysuman/anaconda3/envs/langchain/lib/python3.11/site-packages/tqdm/auto.py:21: TqdmWarning: IProgress not found. Please update jupyter and ipywidgets. See https://ipywidgets.readthedocs.io/en/stable/user_install.html\n",
      "  from .autonotebook import tqdm as notebook_tqdm\n"
     ]
    }
   ],
   "source": [
    "from ragas.metrics import (\n",
    "    faithfulness,\n",
    "    answer_relevancy,\n",
    "    context_precision,\n",
    "    context_recall,\n",
    ")\n",
    "from ragas.metrics.critique import harmfulness\n",
    "\n",
    "metrics = [\n",
    "    faithfulness,\n",
    "    answer_relevancy,\n",
    "    context_precision,\n",
    "    context_recall,\n",
    "    harmfulness,\n",
    "]"
   ]
  },
  {
   "cell_type": "code",
   "execution_count": null,
   "metadata": {},
   "outputs": [],
   "source": [
    "from ragas.evaluation import evaluate\n",
    "\n",
    "result = evaluate(query_engine, metrics, eval_questions, eval_answers)\n",
    "\n",
    "# print the final scores\n",
    "print(result)"
   ]
  },
  {
   "cell_type": "markdown",
   "metadata": {},
   "source": [
    "    The Custom RAG Pipeline Evaluation"
   ]
  },
  {
   "cell_type": "code",
   "execution_count": 19,
   "metadata": {},
   "outputs": [
    {
     "name": "stdout",
     "output_type": "stream",
     "text": [
      "--2024-02-10 10:50:49--  https://raw.githubusercontent.com/idontcalculate/data-repo/main/venus_transmission.txt\n",
      "Resolving raw.githubusercontent.com (raw.githubusercontent.com)... 2606:50c0:8000::154, 2606:50c0:8001::154, 2606:50c0:8002::154, ...\n",
      "Connecting to raw.githubusercontent.com (raw.githubusercontent.com)|2606:50c0:8000::154|:443... connected.\n",
      "HTTP request sent, awaiting response... 200 OK\n",
      "Length: 19241 (19K) [text/plain]\n",
      "Saving to: ‘venus_transmission.txt’\n",
      "\n",
      "venus_transmission. 100%[===================>]  18.79K  --.-KB/s    in 0.001s  \n",
      "\n",
      "2024-02-10 10:50:50 (29.6 MB/s) - ‘venus_transmission.txt’ saved [19241/19241]\n",
      "\n"
     ]
    }
   ],
   "source": [
    "! wget 'https://raw.githubusercontent.com/idontcalculate/data-repo/main/venus_transmission.txt'"
   ]
  },
  {
   "cell_type": "code",
   "execution_count": 22,
   "metadata": {},
   "outputs": [
    {
     "name": "stdout",
     "output_type": "stream",
     "text": [
      "Loaded 1 docs\n"
     ]
    }
   ],
   "source": [
    "from llama_index import SimpleDirectoryReader\n",
    "\n",
    "reader = SimpleDirectoryReader(input_files=[\"venus_transmission.txt\"])\n",
    "\n",
    "docs = reader.load_data()\n",
    "print(f\"Loaded {len(docs)} docs\")"
   ]
  },
  {
   "cell_type": "code",
   "execution_count": 23,
   "metadata": {},
   "outputs": [],
   "source": [
    "from llama_index.node_parser import SimpleNodeParser\n",
    "from llama_index import VectorStoreIndex\n",
    "\n",
    "# Build index with a chunk_size of 512\n",
    "node_parser = SimpleNodeParser.from_defaults(chunk_size=512)\n",
    "nodes = node_parser.get_nodes_from_documents(docs)\n",
    "vector_index = VectorStoreIndex(nodes)"
   ]
  },
  {
   "cell_type": "code",
   "execution_count": 24,
   "metadata": {},
   "outputs": [
    {
     "name": "stdout",
     "output_type": "stream",
     "text": [
      "The first beings to inhabit the planet were a dinoid and reptoid race from two different systems outside our solar system.\n"
     ]
    }
   ],
   "source": [
    "query_engine = vector_index.as_query_engine()\n",
    "\n",
    "response_vector = query_engine.query(\"What was The first beings to inhabit the planet?\")\n",
    "print( response_vector.response )"
   ]
  },
  {
   "cell_type": "code",
   "execution_count": 25,
   "metadata": {},
   "outputs": [
    {
     "data": {
      "text/plain": [
       "\"They had heard of this beautiful new planet. At this time, Earth had two moons to harmonize the weather conditions and control the tides of the large bodies of water.\\nThe first beings to inhabit the planet were a dinoid and reptoid race from two different systems outside our solar system. They were intelligent and walked on two legs like humans and were war-like considering themselves to be superior to all other life forms. In the past, the four races of humans had conflicts with them before they outgrew such behavior. They arrived on Earth to rob it of its minerals and valuable gems. Soon they had created a terrible war. They were joined by re-\\n1\\nenforcements from their home planets. One set up its base on one of the Earth's moons, the other on Earth. It was a terrible war with advanced nuclear and laser weapons like you see in your science fiction movies. It lasted very long. Most of the life forms lay in singed waste and the one moon was destroyed. No longer interested in Earth, they went back to their planets leaving their wounded behind, they had no use for them.\\nThe four races sent a few forces to see if they could help the wounded dinoids and reptilians and to see what they could do to repair the Earth. They soon found that due to the nuclear radiation it was too dangerous on Earth before it was cleared. Even they had to remain so as not to contaminate their own planets.\\nDue to the radiation, the survivors of the dinoids and reptoids mutated into the Dinosaurs and giant reptilians you know of in your history. The humans that were trapped there mutated into what you call Neanderthals.\\nThe Earth remained a devastated ruin, covered by a huge dark nuclear cloud and what vegetation was left was being devoured by the giant beings, also humans and animals by some. It was this way for hundreds of years before a giant comet crashed into one of the oceans and created another huge cloud. This created such darkness that the radiating heat of the Sun could not interact with Earth's gravitational field and an ice age was created. This destroyed the mutated life forms and gave the four races the chance to cleanse and heal the Earth with technology and their energy.\\nOnce again, they brought various forms of life to the Earth, creating again a paradise, except for extreme weather conditions and extreme tidal activities.\""
      ]
     },
     "execution_count": 25,
     "metadata": {},
     "output_type": "execute_result"
    }
   ],
   "source": [
    "# First retrieved node\n",
    "response_vector.source_nodes[0].get_text()"
   ]
  },
  {
   "cell_type": "code",
   "execution_count": 26,
   "metadata": {},
   "outputs": [
    {
     "data": {
      "text/plain": [
       "\"They had mastered the concepts of creativity with the energy of their thoughts. This comes with the responsibility to use it for positive and constructive reasons that are beneficial and harmonic or for selfish reasons, such as gaining power and wealth.\\nThey had complete understanding of creation and the creator. They knew themselves to be Soul and eternal, not restricted to the physical body. Death to them did not exist. For them it was a transition from one existence to another. They chose their own life spans according to the experiences they wished to have or missions they wished to complete.\\nThey came to this solar system to bring human life here and to be the protectors of all life on all planets. The yellow race colonized the planet you know as Mars, the red race the planet Saturn, the black race Jupiter and the white race Venus.\\nEarth was then only a comet flying around as it had not taken the form of a planet or settled into an orbit around the Sun. When the Earth finally became a planet, it was beautiful with large bodies of water.\\nThe four races went to far galaxies and brought many forms of animals, fish, birds, plants and minerals and created a unique paradise where all life forms lived in harmony.\\nWithin other systems there were also humans and other non-human beings that were not as advanced as these four races. However, they had the technology for space travel but still retained a more aggressive and conquering level of consciousness. They had heard of this beautiful new planet. At this time, Earth had two moons to harmonize the weather conditions and control the tides of the large bodies of water.\\nThe first beings to inhabit the planet were a dinoid and reptoid race from two different systems outside our solar system. They were intelligent and walked on two legs like humans and were war-like considering themselves to be superior to all other life forms. In the past, the four races of humans had conflicts with them before they outgrew such behavior. They arrived on Earth to rob it of its minerals and valuable gems. Soon they had created a terrible war. They were joined by re-\\n1\\nenforcements from their home planets. One set up its base on one of the Earth's moons, the other on Earth. It was a terrible war with advanced nuclear and laser weapons like you see in your science fiction movies. It lasted very long.\""
      ]
     },
     "execution_count": 26,
     "metadata": {},
     "output_type": "execute_result"
    }
   ],
   "source": [
    "# Second retrieved node\n",
    "response_vector.source_nodes[1].get_text()"
   ]
  },
  {
   "cell_type": "code",
   "execution_count": 27,
   "metadata": {},
   "outputs": [
    {
     "name": "stderr",
     "output_type": "stream",
     "text": [
      "100%|██████████| 13/13 [03:30<00:00, 16.20s/it]"
     ]
    },
    {
     "name": "stdout",
     "output_type": "stream",
     "text": [
      "['How did the beings described in the context communicate with different life forms and dimensions? How did their telepathic abilities and technology contribute to their understanding of creation and the creator?', 'Describe the role of different races in the colonization of planets within the solar system according to the information provided. How did Earth differ from other planets during that time period?', 'Explain the concept of creativity as understood by the advanced races mentioned in the context. How did they use their creative abilities and what were the responsibilities associated with it?', 'Describe the initial state of Earth before it became a planet and settled into an orbit around the Sun. How did the four races contribute to the development of life on Earth and what role did they play as protectors of all life on all planets?', 'How did the arrival of the dinoid and reptoid races on Earth lead to a devastating war? Discuss the reasons behind their conflict with the four races of humans and the impact it had on the planet.', \"Explain the process of mutation that occurred among the survivors of the dinoids and reptoids, resulting in the emergence of dinosaurs and Neanderthals. Discuss the role of nuclear radiation and its effects on the Earth's environment and living organisms.\", \"How did the survivors of the dinoids and reptoids mutate into the dinosaurs and giant reptilians we know of in our history? Explain the process and the impact it had on the Earth's vegetation and other life forms.\", 'Describe the events that led to the creation of an ice age on Earth. How did this ice age affect the mutated life forms and provide an opportunity for the four races to cleanse and heal the Earth?', 'How did the inhabitants of the planet decide to deal with the limited space available to them? What measures did they take to ensure the survival of the younger generation and spiritual teachers?', 'Describe the role of the temples built by the inhabitants of the planet. Why were these temples hidden and what purpose did they serve?']\n"
     ]
    },
    {
     "name": "stderr",
     "output_type": "stream",
     "text": [
      "\n"
     ]
    }
   ],
   "source": [
    "from llama_index.llms import OpenAI\n",
    "from llama_index.evaluation import generate_question_context_pairs\n",
    "\n",
    "# Define an LLM\n",
    "llm = OpenAI(model=\"gpt-3.5-turbo\")\n",
    "\n",
    "qa_dataset = generate_question_context_pairs(\n",
    "    nodes,\n",
    "    llm=llm,\n",
    "    num_questions_per_chunk=2\n",
    ")\n",
    "\n",
    "queries = list(qa_dataset.queries.values())\n",
    "print( queries[0:10] )"
   ]
  },
  {
   "cell_type": "code",
   "execution_count": null,
   "metadata": {},
   "outputs": [],
   "source": [
    "from llama_index.evaluation import RetrieverEvaluator\n",
    "import pandas as pd\n",
    "\n",
    "retriever = vector_index.as_retriever(similarity_top_k=2)\n",
    "\n",
    "retriever_evaluator = RetrieverEvaluator.from_metric_names(\n",
    "    [\"mrr\", \"hit_rate\"], retriever=retriever\n",
    ")\n",
    "\n",
    "# Evaluate\n",
    "eval_results = await retriever_evaluator.aevaluate_dataset(qa_dataset)\n",
    "\n",
    "def display_results(name, eval_results):\n",
    "    \"\"\"Display results from evaluate.\"\"\"\n",
    "\n",
    "    metric_dicts = []\n",
    "    for eval_result in eval_results:\n",
    "        metric_dict = eval_result.metric_vals_dict\n",
    "        metric_dicts.append(metric_dict)\n",
    "\n",
    "    full_df = pd.DataFrame(metric_dicts)\n",
    "\n",
    "    hit_rate = full_df[\"hit_rate\"].mean()\n",
    "    mrr = full_df[\"mrr\"].mean()\n",
    "\n",
    "    metric_df = pd.DataFrame(\n",
    "        {\"Retriever Name\": [name], \"Hit Rate\": [hit_rate], \"MRR\": [mrr]}\n",
    "    )\n",
    "\n",
    "    return metric_df\n",
    "\n",
    "\n",
    "display_results(\"OpenAI Embedding Retriever\", eval_results)"
   ]
  },
  {
   "cell_type": "code",
   "execution_count": null,
   "metadata": {},
   "outputs": [],
   "source": [
    "# gpt-3.5-turbo\n",
    "gpt35 = OpenAI(temperature=0, model=\"gpt-3.5-turbo\")\n",
    "service_context_gpt35 = ServiceContext.from_defaults(llm=gpt35)\n",
    "\n",
    "# gpt-4\n",
    "gpt4 = OpenAI(temperature=0, model=\"gpt-3.5-turbo-1106\")\n",
    "service_context_gpt4 = ServiceContext.from_defaults(llm=gpt4)\n",
    "\n",
    "vector_index = VectorStoreIndex(nodes, service_context = service_context_gpt35)\n",
    "query_engine = vector_index.as_query_engine()\n",
    "\n",
    "eval_query = queries[10]\n",
    "response_vector = query_engine.query(eval_query)\n",
    "\n",
    "print( \"> eval_query: \", eval_query )\n",
    "print( \"> response_vector:\", response_vector )"
   ]
  },
  {
   "cell_type": "code",
   "execution_count": null,
   "metadata": {},
   "outputs": [],
   "source": [
    "from llama_index.evaluation import RelevancyEvaluator\n",
    "from llama_index.evaluation import FaithfulnessEvaluator\n",
    "\n",
    "relevancy_gpt4 = RelevancyEvaluator(service_context=service_context_gpt4)\n",
    "faithfulness_gpt4 = FaithfulnessEvaluator(service_context=service_context_gpt4)\n",
    "\n",
    "# Compute faithfulness evaluation\n",
    "\n",
    "eval_result = faithfulness_gpt4.evaluate_response(response=response_vector)\n",
    "# check passing parameter in eval_result if it passed the evaluation.\n",
    "print( eval_result.passing )\n",
    "\n",
    "# Relevancy evaluation\n",
    "eval_result = relevancy_gpt4.evaluate_response(\n",
    "    query=eval_query, response=response_vector\n",
    ")\n",
    "# You can check passing parameter in eval_result if it passed the evaluation.\n",
    "print( eval_result.passing )"
   ]
  },
  {
   "cell_type": "markdown",
   "metadata": {},
   "source": [
    "    BatchEvalRunner: uns the evaluation process in batches and concurrently"
   ]
  },
  {
   "cell_type": "code",
   "execution_count": null,
   "metadata": {},
   "outputs": [],
   "source": [
    "#Batch Evaluator:\n",
    "#BatchEvalRunner to compute multiple evaluations in batch wise manner.\n",
    "\n",
    "from llama_index.evaluation import BatchEvalRunner\n",
    "\n",
    "# Let's pick top 10 queries to do evaluation\n",
    "batch_eval_queries = queries[:10]\n",
    "\n",
    "# Initiate BatchEvalRunner to compute FaithFulness and Relevancy Evaluation.\n",
    "runner = BatchEvalRunner(\n",
    "    {\"faithfulness\": faithfulness_gpt4, \"relevancy\": relevancy_gpt4},\n",
    "    workers=8,\n",
    ")\n",
    "\n",
    "# Compute evaluation\n",
    "eval_results = await runner.aevaluate_queries(\n",
    "    query_engine, queries=batch_eval_queries\n",
    ")\n",
    "\n",
    "# get faithfulness score\n",
    "faithfulness_score = sum(result.passing for result in eval_results['faithfulness']) / len(eval_results['faithfulness'])\n",
    "# get relevancy score\n",
    "relevancy_score = sum(result.passing for result in eval_results['faithfulness']) / len(eval_results['relevancy'])\n",
    "\n",
    "print( \"> faithfulness_score\", faithfulness_score )\n",
    "print( \"> relevancy_score\", relevancy_score )"
   ]
  }
 ],
 "metadata": {
  "kernelspec": {
   "display_name": "langchain",
   "language": "python",
   "name": "python3"
  },
  "language_info": {
   "codemirror_mode": {
    "name": "ipython",
    "version": 3
   },
   "file_extension": ".py",
   "mimetype": "text/x-python",
   "name": "python",
   "nbconvert_exporter": "python",
   "pygments_lexer": "ipython3",
   "version": "3.11.0"
  }
 },
 "nbformat": 4,
 "nbformat_minor": 2
}
