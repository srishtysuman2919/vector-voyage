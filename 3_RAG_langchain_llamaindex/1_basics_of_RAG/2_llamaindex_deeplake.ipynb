{
 "cells": [
  {
   "cell_type": "code",
   "execution_count": 2,
   "metadata": {},
   "outputs": [
    {
     "name": "stderr",
     "output_type": "stream",
     "text": [
      "/Users/srishtysuman/anaconda3/envs/langchain/lib/python3.11/site-packages/deeplake/util/check_latest_version.py:32: UserWarning: A newer version of deeplake (3.8.18) is available. It's recommended that you update to the latest version using `pip install -U deeplake`.\n",
      "  warnings.warn(\n"
     ]
    }
   ],
   "source": [
    "import os\n",
    "import textwrap\n",
    "from dotenv import load_dotenv\n",
    "from llama_index import download_loader\n",
    "from llama_hub.github_repo import GithubRepositoryReader, GithubClient\n",
    "from llama_index import VectorStoreIndex\n",
    "from llama_index.vector_stores import DeepLakeVectorStore\n",
    "from llama_index.storage.storage_context import StorageContext\n",
    "import re"
   ]
  },
  {
   "cell_type": "code",
   "execution_count": null,
   "metadata": {},
   "outputs": [],
   "source": [
    "# Load environment variables\n",
    "load_dotenv()\n",
    "\n",
    "# Fetch and set API keys\n",
    "openai_api_key = os.getenv(\"OPENAI_API_KEY\")\n",
    "active_loop_token = os.getenv(\"ACTIVELOOP_TOKEN\")\n",
    "dataset_path = os.getenv(\"DATASET_PATH\")\n",
    "github_token = os.getenv(\"GITHUB_TOKEN\")\n"
   ]
  },
  {
   "cell_type": "code",
   "execution_count": 4,
   "metadata": {},
   "outputs": [
    {
     "data": {
      "text/plain": [
       "custom_module.GithubRepositoryReader"
      ]
     },
     "execution_count": 4,
     "metadata": {},
     "output_type": "execute_result"
    }
   ],
   "source": [
    "github_client = GithubClient(github_token)\n",
    "download_loader(\"GithubRepositoryReader\")"
   ]
  },
  {
   "cell_type": "code",
   "execution_count": 5,
   "metadata": {},
   "outputs": [
    {
     "name": "stdout",
     "output_type": "stream",
     "text": [
      "srishtysuman2919 vector-voyage\n"
     ]
    }
   ],
   "source": [
    "owner, repo = re.match(r\"https://github\\.com/([^/]+)/([^/]+)\", \"https://github.com/srishtysuman2919/vector-voyage/tree/main/1_LangChainAndVectorDatabases\").groups()\n",
    "print(owner, repo)"
   ]
  },
  {
   "cell_type": "code",
   "execution_count": 6,
   "metadata": {},
   "outputs": [
    {
     "name": "stdout",
     "output_type": "stream",
     "text": [
      "{'file_path': '1_LangChainAndVectorDatabases/1_FromZeroToHero/l1_the_llms.py', 'file_name': 'l1_the_llms.py', 'url': 'https://github.com/srishtysuman2919/vector-voyage/blob/main/1_LangChainAndVectorDatabases/1_FromZeroToHero/l1_the_llms.py'}\n",
      "{'file_path': '1_LangChainAndVectorDatabases/1_FromZeroToHero/l2_the_chains.py', 'file_name': 'l2_the_chains.py', 'url': 'https://github.com/srishtysuman2919/vector-voyage/blob/main/1_LangChainAndVectorDatabases/1_FromZeroToHero/l2_the_chains.py'}\n",
      "{'file_path': '1_LangChainAndVectorDatabases/1_FromZeroToHero/l3_the_memory.py', 'file_name': 'l3_the_memory.py', 'url': 'https://github.com/srishtysuman2919/vector-voyage/blob/main/1_LangChainAndVectorDatabases/1_FromZeroToHero/l3_the_memory.py'}\n",
      "{'file_path': '1_LangChainAndVectorDatabases/1_FromZeroToHero/l4_deeplake_vector_store.py', 'file_name': 'l4_deeplake_vector_store.py', 'url': 'https://github.com/srishtysuman2919/vector-voyage/blob/main/1_LangChainAndVectorDatabases/1_FromZeroToHero/l4_deeplake_vector_store.py'}\n",
      "{'file_path': '1_LangChainAndVectorDatabases/1_FromZeroToHero/l5_agents_in_langchain.py', 'file_name': 'l5_agents_in_langchain.py', 'url': 'https://github.com/srishtysuman2919/vector-voyage/blob/main/1_LangChainAndVectorDatabases/1_FromZeroToHero/l5_agents_in_langchain.py'}\n",
      "{'file_path': '1_LangChainAndVectorDatabases/1_FromZeroToHero/l6_tools_in_langchain.py', 'file_name': 'l6_tools_in_langchain.py', 'url': 'https://github.com/srishtysuman2919/vector-voyage/blob/main/1_LangChainAndVectorDatabases/1_FromZeroToHero/l6_tools_in_langchain.py'}\n",
      "{'file_path': '1_LangChainAndVectorDatabases/2_LargelanguagemodelsAndLangChain/1_QuickIntroToLargeLanguageModels/l1_maximum_no_of_tokens.py', 'file_name': 'l1_maximum_no_of_tokens.py', 'url': 'https://github.com/srishtysuman2919/vector-voyage/blob/main/1_LangChainAndVectorDatabases/2_LargelanguagemodelsAndLangChain/1_QuickIntroToLargeLanguageModels/l1_maximum_no_of_tokens.py'}\n",
      "{'file_path': '1_LangChainAndVectorDatabases/2_LargelanguagemodelsAndLangChain/1_QuickIntroToLargeLanguageModels/l2_token_distribution_and_predicting_the_next_token.py', 'file_name': 'l2_token_distribution_and_predicting_the_next_token.py', 'url': 'https://github.com/srishtysuman2919/vector-voyage/blob/main/1_LangChainAndVectorDatabases/2_LargelanguagemodelsAndLangChain/1_QuickIntroToLargeLanguageModels/l2_token_distribution_and_predicting_the_next_token.py'}\n",
      "{'file_path': '1_LangChainAndVectorDatabases/2_LargelanguagemodelsAndLangChain/1_QuickIntroToLargeLanguageModels/l3_few_shot_learning.py', 'file_name': 'l3_few_shot_learning.py', 'url': 'https://github.com/srishtysuman2919/vector-voyage/blob/main/1_LangChainAndVectorDatabases/2_LargelanguagemodelsAndLangChain/1_QuickIntroToLargeLanguageModels/l3_few_shot_learning.py'}\n",
      "{'file_path': '1_LangChainAndVectorDatabases/2_LargelanguagemodelsAndLangChain/1_QuickIntroToLargeLanguageModels/l4_question_answering.py', 'file_name': 'l4_question_answering.py', 'url': 'https://github.com/srishtysuman2919/vector-voyage/blob/main/1_LangChainAndVectorDatabases/2_LargelanguagemodelsAndLangChain/1_QuickIntroToLargeLanguageModels/l4_question_answering.py'}\n",
      "{'file_path': '1_LangChainAndVectorDatabases/2_LargelanguagemodelsAndLangChain/1_QuickIntroToLargeLanguageModels/l5_text_summarization.py', 'file_name': 'l5_text_summarization.py', 'url': 'https://github.com/srishtysuman2919/vector-voyage/blob/main/1_LangChainAndVectorDatabases/2_LargelanguagemodelsAndLangChain/1_QuickIntroToLargeLanguageModels/l5_text_summarization.py'}\n",
      "{'file_path': '1_LangChainAndVectorDatabases/2_LargelanguagemodelsAndLangChain/1_QuickIntroToLargeLanguageModels/l6_text_translation.py', 'file_name': 'l6_text_translation.py', 'url': 'https://github.com/srishtysuman2919/vector-voyage/blob/main/1_LangChainAndVectorDatabases/2_LargelanguagemodelsAndLangChain/1_QuickIntroToLargeLanguageModels/l6_text_translation.py'}\n",
      "{'file_path': '1_LangChainAndVectorDatabases/2_LargelanguagemodelsAndLangChain/2_UnderstandingTokens/l1_tokenizer.py', 'file_name': 'l1_tokenizer.py', 'url': 'https://github.com/srishtysuman2919/vector-voyage/blob/main/1_LangChainAndVectorDatabases/2_LargelanguagemodelsAndLangChain/2_UnderstandingTokens/l1_tokenizer.py'}\n",
      "{'file_path': '1_LangChainAndVectorDatabases/2_LargelanguagemodelsAndLangChain/3_BuildingApplicationPoweredByLLMsWithLangChain/l1_prompt_use_case.py', 'file_name': 'l1_prompt_use_case.py', 'url': 'https://github.com/srishtysuman2919/vector-voyage/blob/main/1_LangChainAndVectorDatabases/2_LargelanguagemodelsAndLangChain/3_BuildingApplicationPoweredByLLMsWithLangChain/l1_prompt_use_case.py'}\n",
      "{'file_path': '1_LangChainAndVectorDatabases/2_LargelanguagemodelsAndLangChain/3_BuildingApplicationPoweredByLLMsWithLangChain/l2_summarization_chain_example.py', 'file_name': 'l2_summarization_chain_example.py', 'url': 'https://github.com/srishtysuman2919/vector-voyage/blob/main/1_LangChainAndVectorDatabases/2_LargelanguagemodelsAndLangChain/3_BuildingApplicationPoweredByLLMsWithLangChain/l2_summarization_chain_example.py'}\n",
      "{'file_path': '1_LangChainAndVectorDatabases/2_LargelanguagemodelsAndLangChain/3_BuildingApplicationPoweredByLLMsWithLangChain/l3_qa_chain_example.py', 'file_name': 'l3_qa_chain_example.py', 'url': 'https://github.com/srishtysuman2919/vector-voyage/blob/main/1_LangChainAndVectorDatabases/2_LargelanguagemodelsAndLangChain/3_BuildingApplicationPoweredByLLMsWithLangChain/l3_qa_chain_example.py'}\n",
      "{'file_path': '1_LangChainAndVectorDatabases/2_LargelanguagemodelsAndLangChain/4_ExploringTheWorldOfLargeLanguageModels/l1_llms.py', 'file_name': 'l1_llms.py', 'url': 'https://github.com/srishtysuman2919/vector-voyage/blob/main/1_LangChainAndVectorDatabases/2_LargelanguagemodelsAndLangChain/4_ExploringTheWorldOfLargeLanguageModels/l1_llms.py'}\n",
      "{'file_path': '1_LangChainAndVectorDatabases/2_LargelanguagemodelsAndLangChain/4_ExploringTheWorldOfLargeLanguageModels/l2_chat_models.py', 'file_name': 'l2_chat_models.py', 'url': 'https://github.com/srishtysuman2919/vector-voyage/blob/main/1_LangChainAndVectorDatabases/2_LargelanguagemodelsAndLangChain/4_ExploringTheWorldOfLargeLanguageModels/l2_chat_models.py'}\n",
      "{'file_path': '1_LangChainAndVectorDatabases/2_LargelanguagemodelsAndLangChain/5_ExploringConversationalCapabilitiesWithChatGPTAndGPT4/l1_setting_up_the_api.py', 'file_name': 'l1_setting_up_the_api.py', 'url': 'https://github.com/srishtysuman2919/vector-voyage/blob/main/1_LangChainAndVectorDatabases/2_LargelanguagemodelsAndLangChain/5_ExploringConversationalCapabilitiesWithChatGPTAndGPT4/l1_setting_up_the_api.py'}\n",
      "{'file_path': '1_LangChainAndVectorDatabases/2_LargelanguagemodelsAndLangChain/6_BuildANewsArticleSummarizer/l1_news_article_summarizer.py', 'file_name': 'l1_news_article_summarizer.py', 'url': 'https://github.com/srishtysuman2919/vector-voyage/blob/main/1_LangChainAndVectorDatabases/2_LargelanguagemodelsAndLangChain/6_BuildANewsArticleSummarizer/l1_news_article_summarizer.py'}\n",
      "{'file_path': '1_LangChainAndVectorDatabases/3_LearningHowToPrompt/1_IntroductionToPromptEngineering/l1_role_prompting.py', 'file_name': 'l1_role_prompting.py', 'url': 'https://github.com/srishtysuman2919/vector-voyage/blob/main/1_LangChainAndVectorDatabases/3_LearningHowToPrompt/1_IntroductionToPromptEngineering/l1_role_prompting.py'}\n",
      "{'file_path': '1_LangChainAndVectorDatabases/3_LearningHowToPrompt/1_IntroductionToPromptEngineering/l2_few_shot_prompting.py', 'file_name': 'l2_few_shot_prompting.py', 'url': 'https://github.com/srishtysuman2919/vector-voyage/blob/main/1_LangChainAndVectorDatabases/3_LearningHowToPrompt/1_IntroductionToPromptEngineering/l2_few_shot_prompting.py'}\n",
      "{'file_path': '1_LangChainAndVectorDatabases/3_LearningHowToPrompt/1_IntroductionToPromptEngineering/l4_bad_prompt_practices.py', 'file_name': 'l4_bad_prompt_practices.py', 'url': 'https://github.com/srishtysuman2919/vector-voyage/blob/main/1_LangChainAndVectorDatabases/3_LearningHowToPrompt/1_IntroductionToPromptEngineering/l4_bad_prompt_practices.py'}\n",
      "{'file_path': '1_LangChainAndVectorDatabases/3_LearningHowToPrompt/1_IntroductionToPromptEngineering/l5_chain_of_thought_prompting.py', 'file_name': 'l5_chain_of_thought_prompting.py', 'url': 'https://github.com/srishtysuman2919/vector-voyage/blob/main/1_LangChainAndVectorDatabases/3_LearningHowToPrompt/1_IntroductionToPromptEngineering/l5_chain_of_thought_prompting.py'}\n",
      "{'file_path': '1_LangChainAndVectorDatabases/3_LearningHowToPrompt/1_IntroductionToPromptEngineering/l6_well_structured_prompt.py', 'file_name': 'l6_well_structured_prompt.py', 'url': 'https://github.com/srishtysuman2919/vector-voyage/blob/main/1_LangChainAndVectorDatabases/3_LearningHowToPrompt/1_IntroductionToPromptEngineering/l6_well_structured_prompt.py'}\n",
      "{'file_path': '1_LangChainAndVectorDatabases/3_LearningHowToPrompt/2_UsingPromptTemplates/l1_prompt_template.py', 'file_name': 'l1_prompt_template.py', 'url': 'https://github.com/srishtysuman2919/vector-voyage/blob/main/1_LangChainAndVectorDatabases/3_LearningHowToPrompt/2_UsingPromptTemplates/l1_prompt_template.py'}\n",
      "{'file_path': '1_LangChainAndVectorDatabases/3_LearningHowToPrompt/2_UsingPromptTemplates/l2_few_shot_prompt_template.py', 'file_name': 'l2_few_shot_prompt_template.py', 'url': 'https://github.com/srishtysuman2919/vector-voyage/blob/main/1_LangChainAndVectorDatabases/3_LearningHowToPrompt/2_UsingPromptTemplates/l2_few_shot_prompt_template.py'}\n",
      "{'file_path': '1_LangChainAndVectorDatabases/3_LearningHowToPrompt/2_UsingPromptTemplates/l3_length_based_example_selector.py', 'file_name': 'l3_length_based_example_selector.py', 'url': 'https://github.com/srishtysuman2919/vector-voyage/blob/main/1_LangChainAndVectorDatabases/3_LearningHowToPrompt/2_UsingPromptTemplates/l3_length_based_example_selector.py'}\n",
      "{'file_path': '1_LangChainAndVectorDatabases/3_LearningHowToPrompt/3_LearningBestOfFewShotPromptsAndExampleSelectors/l1_alternating_human_ai_messages.py', 'file_name': 'l1_alternating_human_ai_messages.py', 'url': 'https://github.com/srishtysuman2919/vector-voyage/blob/main/1_LangChainAndVectorDatabases/3_LearningHowToPrompt/3_LearningBestOfFewShotPromptsAndExampleSelectors/l1_alternating_human_ai_messages.py'}\n",
      "{'file_path': '1_LangChainAndVectorDatabases/3_LearningHowToPrompt/3_LearningBestOfFewShotPromptsAndExampleSelectors/l2_few_shot_prompting.py', 'file_name': 'l2_few_shot_prompting.py', 'url': 'https://github.com/srishtysuman2919/vector-voyage/blob/main/1_LangChainAndVectorDatabases/3_LearningHowToPrompt/3_LearningBestOfFewShotPromptsAndExampleSelectors/l2_few_shot_prompting.py'}\n",
      "{'file_path': '1_LangChainAndVectorDatabases/3_LearningHowToPrompt/3_LearningBestOfFewShotPromptsAndExampleSelectors/l3_example_selectors.py', 'file_name': 'l3_example_selectors.py', 'url': 'https://github.com/srishtysuman2919/vector-voyage/blob/main/1_LangChainAndVectorDatabases/3_LearningHowToPrompt/3_LearningBestOfFewShotPromptsAndExampleSelectors/l3_example_selectors.py'}\n",
      "{'file_path': '1_LangChainAndVectorDatabases/3_LearningHowToPrompt/4_ManagingOutputsWithOutputParser/l1_pydantic_output_parser.py', 'file_name': 'l1_pydantic_output_parser.py', 'url': 'https://github.com/srishtysuman2919/vector-voyage/blob/main/1_LangChainAndVectorDatabases/3_LearningHowToPrompt/4_ManagingOutputsWithOutputParser/l1_pydantic_output_parser.py'}\n",
      "{'file_path': '1_LangChainAndVectorDatabases/3_LearningHowToPrompt/4_ManagingOutputsWithOutputParser/l2_comma_Seperated_output_parser.py', 'file_name': 'l2_comma_Seperated_output_parser.py', 'url': 'https://github.com/srishtysuman2919/vector-voyage/blob/main/1_LangChainAndVectorDatabases/3_LearningHowToPrompt/4_ManagingOutputsWithOutputParser/l2_comma_Seperated_output_parser.py'}\n",
      "{'file_path': '1_LangChainAndVectorDatabases/3_LearningHowToPrompt/4_ManagingOutputsWithOutputParser/l3_structured_output_parser.py', 'file_name': 'l3_structured_output_parser.py', 'url': 'https://github.com/srishtysuman2919/vector-voyage/blob/main/1_LangChainAndVectorDatabases/3_LearningHowToPrompt/4_ManagingOutputsWithOutputParser/l3_structured_output_parser.py'}\n",
      "{'file_path': '1_LangChainAndVectorDatabases/3_LearningHowToPrompt/4_ManagingOutputsWithOutputParser/l4_output_fixing_parser.py', 'file_name': 'l4_output_fixing_parser.py', 'url': 'https://github.com/srishtysuman2919/vector-voyage/blob/main/1_LangChainAndVectorDatabases/3_LearningHowToPrompt/4_ManagingOutputsWithOutputParser/l4_output_fixing_parser.py'}\n",
      "{'file_path': '1_LangChainAndVectorDatabases/3_LearningHowToPrompt/4_ManagingOutputsWithOutputParser/l5_retry_output_parser.py', 'file_name': 'l5_retry_output_parser.py', 'url': 'https://github.com/srishtysuman2919/vector-voyage/blob/main/1_LangChainAndVectorDatabases/3_LearningHowToPrompt/4_ManagingOutputsWithOutputParser/l5_retry_output_parser.py'}\n",
      "{'file_path': '1_LangChainAndVectorDatabases/3_LearningHowToPrompt/5_ImprovingOurNewsArticle/l1_fetch_prompt_parse.py', 'file_name': 'l1_fetch_prompt_parse.py', 'url': 'https://github.com/srishtysuman2919/vector-voyage/blob/main/1_LangChainAndVectorDatabases/3_LearningHowToPrompt/5_ImprovingOurNewsArticle/l1_fetch_prompt_parse.py'}\n",
      "{'file_path': '1_LangChainAndVectorDatabases/3_LearningHowToPrompt/6_CreatingKnowledgeGraphsFromTextualData/l1_building_and_visualizing_kg_with_langchain.py', 'file_name': 'l1_building_and_visualizing_kg_with_langchain.py', 'url': 'https://github.com/srishtysuman2919/vector-voyage/blob/main/1_LangChainAndVectorDatabases/3_LearningHowToPrompt/6_CreatingKnowledgeGraphsFromTextualData/l1_building_and_visualizing_kg_with_langchain.py'}\n",
      "{'file_path': '1_LangChainAndVectorDatabases/3_LearningHowToPrompt/quiz.py', 'file_name': 'quiz.py', 'url': 'https://github.com/srishtysuman2919/vector-voyage/blob/main/1_LangChainAndVectorDatabases/3_LearningHowToPrompt/quiz.py'}\n",
      "{'file_path': '1_LangChainAndVectorDatabases/4_KeepingknowledgeOrganizedWithIndexes/1_LangchainIndexesAndRetrievers/l1_langchain_indexes_and_retriever.py', 'file_name': 'l1_langchain_indexes_and_retriever.py', 'url': 'https://github.com/srishtysuman2919/vector-voyage/blob/main/1_LangChainAndVectorDatabases/4_KeepingknowledgeOrganizedWithIndexes/1_LangchainIndexesAndRetrievers/l1_langchain_indexes_and_retriever.py'}\n",
      "{'file_path': '1_LangChainAndVectorDatabases/4_KeepingknowledgeOrganizedWithIndexes/2_StreamlinedDataIngestion/l1_textloader.py', 'file_name': 'l1_textloader.py', 'url': 'https://github.com/srishtysuman2919/vector-voyage/blob/main/1_LangChainAndVectorDatabases/4_KeepingknowledgeOrganizedWithIndexes/2_StreamlinedDataIngestion/l1_textloader.py'}\n",
      "{'file_path': '1_LangChainAndVectorDatabases/4_KeepingknowledgeOrganizedWithIndexes/2_StreamlinedDataIngestion/l2_pypdfloader.py', 'file_name': 'l2_pypdfloader.py', 'url': 'https://github.com/srishtysuman2919/vector-voyage/blob/main/1_LangChainAndVectorDatabases/4_KeepingknowledgeOrganizedWithIndexes/2_StreamlinedDataIngestion/l2_pypdfloader.py'}\n",
      "{'file_path': '1_LangChainAndVectorDatabases/4_KeepingknowledgeOrganizedWithIndexes/2_StreamlinedDataIngestion/l3_selenium_urlloader.py', 'file_name': 'l3_selenium_urlloader.py', 'url': 'https://github.com/srishtysuman2919/vector-voyage/blob/main/1_LangChainAndVectorDatabases/4_KeepingknowledgeOrganizedWithIndexes/2_StreamlinedDataIngestion/l3_selenium_urlloader.py'}\n",
      "{'file_path': '1_LangChainAndVectorDatabases/4_KeepingknowledgeOrganizedWithIndexes/2_StreamlinedDataIngestion/l4_googledriveloader.py', 'file_name': 'l4_googledriveloader.py', 'url': 'https://github.com/srishtysuman2919/vector-voyage/blob/main/1_LangChainAndVectorDatabases/4_KeepingknowledgeOrganizedWithIndexes/2_StreamlinedDataIngestion/l4_googledriveloader.py'}\n",
      "{'file_path': '1_LangChainAndVectorDatabases/4_KeepingknowledgeOrganizedWithIndexes/3_TextSplitters/l1_character_text_splitter.py', 'file_name': 'l1_character_text_splitter.py', 'url': 'https://github.com/srishtysuman2919/vector-voyage/blob/main/1_LangChainAndVectorDatabases/4_KeepingknowledgeOrganizedWithIndexes/3_TextSplitters/l1_character_text_splitter.py'}\n",
      "{'file_path': '1_LangChainAndVectorDatabases/4_KeepingknowledgeOrganizedWithIndexes/3_TextSplitters/l2_recursive_character_text_splitter.py', 'file_name': 'l2_recursive_character_text_splitter.py', 'url': 'https://github.com/srishtysuman2919/vector-voyage/blob/main/1_LangChainAndVectorDatabases/4_KeepingknowledgeOrganizedWithIndexes/3_TextSplitters/l2_recursive_character_text_splitter.py'}\n",
      "{'file_path': '1_LangChainAndVectorDatabases/4_KeepingknowledgeOrganizedWithIndexes/3_TextSplitters/l3_nltk_text_splitter.py', 'file_name': 'l3_nltk_text_splitter.py', 'url': 'https://github.com/srishtysuman2919/vector-voyage/blob/main/1_LangChainAndVectorDatabases/4_KeepingknowledgeOrganizedWithIndexes/3_TextSplitters/l3_nltk_text_splitter.py'}\n",
      "{'file_path': '1_LangChainAndVectorDatabases/4_KeepingknowledgeOrganizedWithIndexes/3_TextSplitters/l4_spacy_text_splitter.py', 'file_name': 'l4_spacy_text_splitter.py', 'url': 'https://github.com/srishtysuman2919/vector-voyage/blob/main/1_LangChainAndVectorDatabases/4_KeepingknowledgeOrganizedWithIndexes/3_TextSplitters/l4_spacy_text_splitter.py'}\n",
      "{'file_path': '1_LangChainAndVectorDatabases/4_KeepingknowledgeOrganizedWithIndexes/3_TextSplitters/l5_markdown_text_splitter.py', 'file_name': 'l5_markdown_text_splitter.py', 'url': 'https://github.com/srishtysuman2919/vector-voyage/blob/main/1_LangChainAndVectorDatabases/4_KeepingknowledgeOrganizedWithIndexes/3_TextSplitters/l5_markdown_text_splitter.py'}\n",
      "{'file_path': '1_LangChainAndVectorDatabases/4_KeepingknowledgeOrganizedWithIndexes/3_TextSplitters/l6_token_text_splitter.py', 'file_name': 'l6_token_text_splitter.py', 'url': 'https://github.com/srishtysuman2919/vector-voyage/blob/main/1_LangChainAndVectorDatabases/4_KeepingknowledgeOrganizedWithIndexes/3_TextSplitters/l6_token_text_splitter.py'}\n",
      "{'file_path': '1_LangChainAndVectorDatabases/4_KeepingknowledgeOrganizedWithIndexes/4_Embeddings/l1_similarity_search_and_vector_embedding.py', 'file_name': 'l1_similarity_search_and_vector_embedding.py', 'url': 'https://github.com/srishtysuman2919/vector-voyage/blob/main/1_LangChainAndVectorDatabases/4_KeepingknowledgeOrganizedWithIndexes/4_Embeddings/l1_similarity_search_and_vector_embedding.py'}\n",
      "{'file_path': '1_LangChainAndVectorDatabases/4_KeepingknowledgeOrganizedWithIndexes/4_Embeddings/l2_hugging_face_embeddings.py', 'file_name': 'l2_hugging_face_embeddings.py', 'url': 'https://github.com/srishtysuman2919/vector-voyage/blob/main/1_LangChainAndVectorDatabases/4_KeepingknowledgeOrganizedWithIndexes/4_Embeddings/l2_hugging_face_embeddings.py'}\n",
      "{'file_path': '1_LangChainAndVectorDatabases/4_KeepingknowledgeOrganizedWithIndexes/4_Embeddings/l3_cohere_embedding.py', 'file_name': 'l3_cohere_embedding.py', 'url': 'https://github.com/srishtysuman2919/vector-voyage/blob/main/1_LangChainAndVectorDatabases/4_KeepingknowledgeOrganizedWithIndexes/4_Embeddings/l3_cohere_embedding.py'}\n",
      "{'file_path': '1_LangChainAndVectorDatabases/4_KeepingknowledgeOrganizedWithIndexes/4_Embeddings/l4_deeplakr_vector_store_embedding.py', 'file_name': 'l4_deeplakr_vector_store_embedding.py', 'url': 'https://github.com/srishtysuman2919/vector-voyage/blob/main/1_LangChainAndVectorDatabases/4_KeepingknowledgeOrganizedWithIndexes/4_Embeddings/l4_deeplakr_vector_store_embedding.py'}\n",
      "{'file_path': '1_LangChainAndVectorDatabases/4_KeepingknowledgeOrganizedWithIndexes/5_CourseChatbot/l1_course_chatbot.py', 'file_name': 'l1_course_chatbot.py', 'url': 'https://github.com/srishtysuman2919/vector-voyage/blob/main/1_LangChainAndVectorDatabases/4_KeepingknowledgeOrganizedWithIndexes/5_CourseChatbot/l1_course_chatbot.py'}\n",
      "{'file_path': '1_LangChainAndVectorDatabases/4_KeepingknowledgeOrganizedWithIndexes/6_CustomerSupportQandA/l1_customer_support_qa_chatbot.py', 'file_name': 'l1_customer_support_qa_chatbot.py', 'url': 'https://github.com/srishtysuman2919/vector-voyage/blob/main/1_LangChainAndVectorDatabases/4_KeepingknowledgeOrganizedWithIndexes/6_CustomerSupportQandA/l1_customer_support_qa_chatbot.py'}\n",
      "{'file_path': '1_LangChainAndVectorDatabases/4_KeepingknowledgeOrganizedWithIndexes/7_AISalesAssistant/l1_ai_sales_assistant.py', 'file_name': 'l1_ai_sales_assistant.py', 'url': 'https://github.com/srishtysuman2919/vector-voyage/blob/main/1_LangChainAndVectorDatabases/4_KeepingknowledgeOrganizedWithIndexes/7_AISalesAssistant/l1_ai_sales_assistant.py'}\n",
      "{'file_path': '1_LangChainAndVectorDatabases/4_KeepingknowledgeOrganizedWithIndexes/8_PictureBook/l1_picture_book.py', 'file_name': 'l1_picture_book.py', 'url': 'https://github.com/srishtysuman2919/vector-voyage/blob/main/1_LangChainAndVectorDatabases/4_KeepingknowledgeOrganizedWithIndexes/8_PictureBook/l1_picture_book.py'}\n",
      "{'file_path': '1_LangChainAndVectorDatabases/6_GivingMemoeryToLLMs/l1_message_history.py', 'file_name': 'l1_message_history.py', 'url': 'https://github.com/srishtysuman2919/vector-voyage/blob/main/1_LangChainAndVectorDatabases/6_GivingMemoeryToLLMs/l1_message_history.py'}\n",
      "{'file_path': '1_LangChainAndVectorDatabases/6_GivingMemoeryToLLMs/l2_memory_types.py', 'file_name': 'l2_memory_types.py', 'url': 'https://github.com/srishtysuman2919/vector-voyage/blob/main/1_LangChainAndVectorDatabases/6_GivingMemoeryToLLMs/l2_memory_types.py'}\n",
      "{'file_path': '1_LangChainAndVectorDatabases/6_GivingMemoeryToLLMs/l3_chat_with_github.py', 'file_name': 'l3_chat_with_github.py', 'url': 'https://github.com/srishtysuman2919/vector-voyage/blob/main/1_LangChainAndVectorDatabases/6_GivingMemoeryToLLMs/l3_chat_with_github.py'}\n",
      "{'file_path': '1_LangChainAndVectorDatabases/6_GivingMemoeryToLLMs/l4_qa_chatbot.py', 'file_name': 'l4_qa_chatbot.py', 'url': 'https://github.com/srishtysuman2919/vector-voyage/blob/main/1_LangChainAndVectorDatabases/6_GivingMemoeryToLLMs/l4_qa_chatbot.py'}\n",
      "{'file_path': '1_LangChainAndVectorDatabases/6_GivingMemoeryToLLMs/l5_financial_chatbot.py', 'file_name': 'l5_financial_chatbot.py', 'url': 'https://github.com/srishtysuman2919/vector-voyage/blob/main/1_LangChainAndVectorDatabases/6_GivingMemoeryToLLMs/l5_financial_chatbot.py'}\n",
      "{'file_path': '1_LangChainAndVectorDatabases/6_GivingMemoeryToLLMs/l6_datachad.py', 'file_name': 'l6_datachad.py', 'url': 'https://github.com/srishtysuman2919/vector-voyage/blob/main/1_LangChainAndVectorDatabases/6_GivingMemoeryToLLMs/l6_datachad.py'}\n",
      "{'file_path': '1_LangChainAndVectorDatabases/6_GivingMemoeryToLLMs/l7_deep_memory.py', 'file_name': 'l7_deep_memory.py', 'url': 'https://github.com/srishtysuman2919/vector-voyage/blob/main/1_LangChainAndVectorDatabases/6_GivingMemoeryToLLMs/l7_deep_memory.py'}\n",
      "{'file_path': '1_LangChainAndVectorDatabases/7_MakingLLMsInteractWithWorldusingTools/l1_langchain_tool.py', 'file_name': 'l1_langchain_tool.py', 'url': 'https://github.com/srishtysuman2919/vector-voyage/blob/main/1_LangChainAndVectorDatabases/7_MakingLLMsInteractWithWorldusingTools/l1_langchain_tool.py'}\n",
      "{'file_path': '1_LangChainAndVectorDatabases/7_MakingLLMsInteractWithWorldusingTools/l2_blog_langchain_google.py', 'file_name': 'l2_blog_langchain_google.py', 'url': 'https://github.com/srishtysuman2919/vector-voyage/blob/main/1_LangChainAndVectorDatabases/7_MakingLLMsInteractWithWorldusingTools/l2_blog_langchain_google.py'}\n",
      "{'file_path': '1_LangChainAndVectorDatabases/7_MakingLLMsInteractWithWorldusingTools/l3_bing_chatbot.py', 'file_name': 'l3_bing_chatbot.py', 'url': 'https://github.com/srishtysuman2919/vector-voyage/blob/main/1_LangChainAndVectorDatabases/7_MakingLLMsInteractWithWorldusingTools/l3_bing_chatbot.py'}\n",
      "{'file_path': '1_LangChainAndVectorDatabases/7_MakingLLMsInteractWithWorldusingTools/l4_web_based_qa.py', 'file_name': 'l4_web_based_qa.py', 'url': 'https://github.com/srishtysuman2919/vector-voyage/blob/main/1_LangChainAndVectorDatabases/7_MakingLLMsInteractWithWorldusingTools/l4_web_based_qa.py'}\n",
      "{'file_path': '1_LangChainAndVectorDatabases/7_MakingLLMsInteractWithWorldusingTools/l5_document_retrieval.py', 'file_name': 'l5_document_retrieval.py', 'url': 'https://github.com/srishtysuman2919/vector-voyage/blob/main/1_LangChainAndVectorDatabases/7_MakingLLMsInteractWithWorldusingTools/l5_document_retrieval.py'}\n",
      "{'file_path': '1_LangChainAndVectorDatabases/8_UsingLLMsAsReasoningengine/l1_agents.py', 'file_name': 'l1_agents.py', 'url': 'https://github.com/srishtysuman2919/vector-voyage/blob/main/1_LangChainAndVectorDatabases/8_UsingLLMsAsReasoningengine/l1_agents.py'}\n",
      "{'file_path': '1_LangChainAndVectorDatabases/8_UsingLLMsAsReasoningengine/l2_autonomous_agents.py', 'file_name': 'l2_autonomous_agents.py', 'url': 'https://github.com/srishtysuman2919/vector-voyage/blob/main/1_LangChainAndVectorDatabases/8_UsingLLMsAsReasoningengine/l2_autonomous_agents.py'}\n",
      "{'file_path': '1_LangChainAndVectorDatabases/8_UsingLLMsAsReasoningengine/l3_autogpt_langchain.py', 'file_name': 'l3_autogpt_langchain.py', 'url': 'https://github.com/srishtysuman2919/vector-voyage/blob/main/1_LangChainAndVectorDatabases/8_UsingLLMsAsReasoningengine/l3_autogpt_langchain.py'}\n",
      "{'file_path': '1_LangChainAndVectorDatabases/8_UsingLLMsAsReasoningengine/l4_agent_simulation.py', 'file_name': 'l4_agent_simulation.py', 'url': 'https://github.com/srishtysuman2919/vector-voyage/blob/main/1_LangChainAndVectorDatabases/8_UsingLLMsAsReasoningengine/l4_agent_simulation.py'}\n",
      "{'file_path': '1_LangChainAndVectorDatabases/8_UsingLLMsAsReasoningengine/l5_analysis_report.py', 'file_name': 'l5_analysis_report.py', 'url': 'https://github.com/srishtysuman2919/vector-voyage/blob/main/1_LangChainAndVectorDatabases/8_UsingLLMsAsReasoningengine/l5_analysis_report.py'}\n"
     ]
    }
   ],
   "source": [
    "loader = GithubRepositoryReader(\n",
    "                github_client,\n",
    "                owner=owner,\n",
    "                repo=repo,\n",
    "                filter_file_extensions=(\n",
    "                    [\".py\", \".js\", \".ts\", \".md\"],\n",
    "                    GithubRepositoryReader.FilterType.INCLUDE,\n",
    "                ),\n",
    "                verbose=False,\n",
    "                concurrent_requests=5,\n",
    "            )\n",
    "\n",
    "docs = loader.load_data(branch=\"main\")\n",
    "for doc in docs:\n",
    "    print(doc.metadata)"
   ]
  },
  {
   "cell_type": "code",
   "execution_count": 33,
   "metadata": {},
   "outputs": [
    {
     "name": "stderr",
     "output_type": "stream",
     "text": []
    }
   ],
   "source": [
    "vector_store = DeepLakeVectorStore(\n",
    "    dataset_path=dataset_path,\n",
    "    overwrite=True,\n",
    "    exec_option=\"python\"\n",
    ")"
   ]
  },
  {
   "cell_type": "code",
   "execution_count": 34,
   "metadata": {},
   "outputs": [
    {
     "name": "stdout",
     "output_type": "stream",
     "text": [
      "Dataset(path='https:/app.activeloop.ai/srishtysuman2919/llama_index', tensors=['embedding', 'id', 'metadata', 'text'])\n",
      "\n",
      "  tensor      htype       shape      dtype  compression\n",
      "  -------    -------     -------    -------  ------- \n",
      " embedding  embedding  (100, 1536)  float32   None   \n",
      "    id        text      (100, 1)      str     None   \n",
      " metadata     json      (100, 1)      str     None   \n",
      "   text       text      (100, 1)      str     None   \n"
     ]
    },
    {
     "name": "stderr",
     "output_type": "stream",
     "text": []
    }
   ],
   "source": [
    "storage_context = StorageContext.from_defaults(vector_store=vector_store)\n",
    "index = VectorStoreIndex.from_documents(docs, storage_context=storage_context)\n",
    "query_engine = index.as_query_engine()"
   ]
  },
  {
   "cell_type": "code",
   "execution_count": 39,
   "metadata": {},
   "outputs": [
    {
     "data": {
      "text/plain": [
       "Response(response='The repo is about a project called \"Chat with Github Repo\".', source_nodes=[NodeWithScore(node=TextNode(id_='01e53c4c-85dc-4e43-8d33-31194e5e8eb4', embedding=None, metadata={'file_path': '1_LangChainAndVectorDatabases/6_GivingMemoeryToLLMs/l3_chat_with_github.py', 'file_name': 'l3_chat_with_github.py', 'url': 'https://github.com/srishtysuman2919/vector-voyage/blob/main/1_LangChainAndVectorDatabases/6_GivingMemoeryToLLMs/l3_chat_with_github.py'}, excluded_embed_metadata_keys=[], excluded_llm_metadata_keys=[], relationships={<NodeRelationship.SOURCE: '1'>: RelatedNodeInfo(node_id='0ef2717c4fd9d18f33c176b34240ff4bf0663cfa', node_type=<ObjectType.DOCUMENT: '4'>, metadata={'file_path': '1_LangChainAndVectorDatabases/6_GivingMemoeryToLLMs/l3_chat_with_github.py', 'file_name': 'l3_chat_with_github.py', 'url': 'https://github.com/srishtysuman2919/vector-voyage/blob/main/1_LangChainAndVectorDatabases/6_GivingMemoeryToLLMs/l3_chat_with_github.py'}, hash='e55550d4e55c2da10f233e339d2b4ceffcb049108fe81af3e510ad9844cc2b95'), <NodeRelationship.PREVIOUS: '2'>: RelatedNodeInfo(node_id='e8827035-2a69-4d94-8928-055cbfb91ccd', node_type=<ObjectType.TEXT: '1'>, metadata={'file_path': '1_LangChainAndVectorDatabases/6_GivingMemoeryToLLMs/l2_memory_types.py', 'file_name': 'l2_memory_types.py', 'url': 'https://github.com/srishtysuman2919/vector-voyage/blob/main/1_LangChainAndVectorDatabases/6_GivingMemoeryToLLMs/l2_memory_types.py'}, hash='b61c9a9355123e67c4a3a5183d05581ce55f4b79c7734ad3c7bdb5875eb4d76e'), <NodeRelationship.NEXT: '3'>: RelatedNodeInfo(node_id='f657e7ca-6a98-4fb2-9a91-b614b7ee1c04', node_type=<ObjectType.TEXT: '1'>, metadata={}, hash='ff0e9f36126d35ef7c0b3b1ddda6f7e159088269247ea79f4b97ebd9677f4bc9')}, text=\"'''\\n\\n    clone this repo https://github.com/peterw/Chat-with-Github-Repo.git\\n\\n'''\", start_char_idx=0, end_char_idx=81, text_template='{metadata_str}\\n\\n{content}', metadata_template='{key}: {value}', metadata_seperator='\\n'), score=0.7668244242668152), NodeWithScore(node=TextNode(id_='06e9bff2-4ef4-4151-b396-67508be26c59', embedding=None, metadata={'file_path': '1_LangChainAndVectorDatabases/6_GivingMemoeryToLLMs/l7_deep_memory.py', 'file_name': 'l7_deep_memory.py', 'url': 'https://github.com/srishtysuman2919/vector-voyage/blob/main/1_LangChainAndVectorDatabases/6_GivingMemoeryToLLMs/l7_deep_memory.py'}, excluded_embed_metadata_keys=[], excluded_llm_metadata_keys=[], relationships={<NodeRelationship.SOURCE: '1'>: RelatedNodeInfo(node_id='e69de29bb2d1d6434b8b29ae775ad8c2e48c5391', node_type=<ObjectType.DOCUMENT: '4'>, metadata={'file_path': '1_LangChainAndVectorDatabases/4_KeepingknowledgeOrganizedWithIndexes/5_CourseChatbot/l1_course_chatbot.py', 'file_name': 'l1_course_chatbot.py', 'url': 'https://github.com/srishtysuman2919/vector-voyage/blob/main/1_LangChainAndVectorDatabases/4_KeepingknowledgeOrganizedWithIndexes/5_CourseChatbot/l1_course_chatbot.py'}, hash='a8359de0dc78250afe28dc04af3a4d3c0ace376c91cce76e044073295ddd4cbc'), <NodeRelationship.PREVIOUS: '2'>: RelatedNodeInfo(node_id='c49a3bc1-f3fe-4d6b-b174-fdb1f7fa01d7', node_type=<ObjectType.TEXT: '1'>, metadata={'file_path': '1_LangChainAndVectorDatabases/4_KeepingknowledgeOrganizedWithIndexes/4_Embeddings/l4_deeplakr_vector_store_embedding.py', 'file_name': 'l4_deeplakr_vector_store_embedding.py', 'url': 'https://github.com/srishtysuman2919/vector-voyage/blob/main/1_LangChainAndVectorDatabases/4_KeepingknowledgeOrganizedWithIndexes/4_Embeddings/l4_deeplakr_vector_store_embedding.py'}, hash='76f9e6fa72ef3f7e469f16e884d79d7d7577ea5d257768b2850165a0f43032c7'), <NodeRelationship.NEXT: '3'>: RelatedNodeInfo(node_id='39c9deb0-c09a-494e-af11-6aa6e1b6ff6f', node_type=<ObjectType.TEXT: '1'>, metadata={}, hash='8917ecfc3d2fd37ad2c2fab442494958dd1a9e4326728d19f09d06cde13d3eba')}, text='', start_char_idx=0, end_char_idx=0, text_template='{metadata_str}\\n\\n{content}', metadata_template='{key}: {value}', metadata_seperator='\\n'), score=0.7399402260780334)], metadata={'01e53c4c-85dc-4e43-8d33-31194e5e8eb4': {'file_path': '1_LangChainAndVectorDatabases/6_GivingMemoeryToLLMs/l3_chat_with_github.py', 'file_name': 'l3_chat_with_github.py', 'url': 'https://github.com/srishtysuman2919/vector-voyage/blob/main/1_LangChainAndVectorDatabases/6_GivingMemoeryToLLMs/l3_chat_with_github.py'}, '06e9bff2-4ef4-4151-b396-67508be26c59': {'file_path': '1_LangChainAndVectorDatabases/6_GivingMemoeryToLLMs/l7_deep_memory.py', 'file_name': 'l7_deep_memory.py', 'url': 'https://github.com/srishtysuman2919/vector-voyage/blob/main/1_LangChainAndVectorDatabases/6_GivingMemoeryToLLMs/l7_deep_memory.py'}})"
      ]
     },
     "execution_count": 39,
     "metadata": {},
     "output_type": "execute_result"
    }
   ],
   "source": [
    "answer = query_engine.query(\"What this repo is about?\")\n",
    "answer"
   ]
  },
  {
   "cell_type": "markdown",
   "metadata": {},
   "source": [
    "Configuring the Retriever"
   ]
  },
  {
   "cell_type": "code",
   "execution_count": 40,
   "metadata": {},
   "outputs": [],
   "source": [
    "from llama_index.retrievers import VectorIndexRetriever\n",
    "retriever = VectorIndexRetriever(index=index, similarity_top_k=4)"
   ]
  },
  {
   "cell_type": "markdown",
   "metadata": {},
   "source": [
    "Customize the query engine"
   ]
  },
  {
   "cell_type": "code",
   "execution_count": 42,
   "metadata": {},
   "outputs": [],
   "source": [
    "from llama_index import get_response_synthesizer\n",
    "from llama_index.query_engine import RetrieverQueryEngine\n",
    "from llama_index.postprocessor import SimilarityPostprocessor\n",
    "\n",
    "response_synthesizer = get_response_synthesizer()\n",
    "query_engine = RetrieverQueryEngine.from_args(\n",
    "        retriever=retriever,\n",
    "        response_mode='default',\n",
    "        response_synthesizer=response_synthesizer,\n",
    "        node_postprocessors=[\n",
    "            SimilarityPostprocessor(similarity_cutoff=0.7)]\n",
    "    )"
   ]
  },
  {
   "cell_type": "markdown",
   "metadata": {},
   "source": [
    "Getting the Response Synthesizer:"
   ]
  },
  {
   "cell_type": "code",
   "execution_count": 43,
   "metadata": {},
   "outputs": [],
   "source": [
    "response_synthesizer = get_response_synthesizer()"
   ]
  },
  {
   "cell_type": "code",
   "execution_count": 44,
   "metadata": {},
   "outputs": [],
   "source": [
    "query_engine = RetrieverQueryEngine.from_args(\n",
    "    retriever=retriever,\n",
    "    response_mode='default',\n",
    "    response_synthesizer=response_synthesizer,\n",
    "    node_postprocessors=[\n",
    "        SimilarityPostprocessor(similarity_cutoff=0.7)]\n",
    ")"
   ]
  },
  {
   "cell_type": "code",
   "execution_count": 46,
   "metadata": {},
   "outputs": [],
   "source": [
    "from llama_index.response_synthesizers import ResponseMode\n",
    "query_engine = RetrieverQueryEngine.from_args(retriever, response_mode=ResponseMode.COMPACT)\n"
   ]
  },
  {
   "cell_type": "code",
   "execution_count": 47,
   "metadata": {},
   "outputs": [],
   "source": [
    "query_engine = RetrieverQueryEngine.from_args(retriever, response_mode=ResponseMode.TREE_SUMMARIZE)\n"
   ]
  },
  {
   "cell_type": "code",
   "execution_count": null,
   "metadata": {},
   "outputs": [],
   "source": []
  }
 ],
 "metadata": {
  "kernelspec": {
   "display_name": "langchain",
   "language": "python",
   "name": "python3"
  },
  "language_info": {
   "codemirror_mode": {
    "name": "ipython",
    "version": 3
   },
   "file_extension": ".py",
   "mimetype": "text/x-python",
   "name": "python",
   "nbconvert_exporter": "python",
   "pygments_lexer": "ipython3",
   "version": "3.11.0"
  }
 },
 "nbformat": 4,
 "nbformat_minor": 2
}
